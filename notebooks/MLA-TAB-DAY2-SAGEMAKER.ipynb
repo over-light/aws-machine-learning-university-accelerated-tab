{
 "cells": [
  {
   "cell_type": "markdown",
   "metadata": {},
   "source": [
    "![MLU Logo](../data/MLU_Logo.png)"
   ]
  },
  {
   "cell_type": "markdown",
   "metadata": {},
   "source": [
    "# <a name=\"0\">Machine Learning Accelerator - Tabular Data - Lecture 2</a>\n",
    "\n",
    "\n",
    "## SageMaker build-in LinearLearner\n",
    "\n",
    "In this notebook, we use Sagemaker's built-in machine learning model __LinearLearner__ to predict the __Outcome Type__ field of our review dataset.\n",
    "\n",
    "__Notes on AWS SageMaker__\n",
    "\n",
    "* Fully managed machine learning service, to quickly and easily get you started on building and training machine learning models - we have seen that already! Integrated Jupyter notebook instances, with easy access to data sources for exploration and analysis, abstract away many of the messy infrastructural details needed for hands-on ML - you don't have to manage servers, install libraries/dependencies, etc.!\n",
    "\n",
    "\n",
    "* Apart from easily building end-to-end machine learning models in SageMaker notebooks, like we did so far, SageMaker also provides a few __build-in common machine learning algorithms__ (check \"SageMaker Examples\" from your SageMaker instance top menu for a complete updated list) that are optimized to run efficiently against extremely large data in a distributed environment. __LinearLearner__ build-in algorithm in SageMaker is extremely fast at inference and can be trained at scale, in mini-batch fashion over GPU(s). The trained model can then be directly deployed into a production-ready hosted environment for easy access at inference. \n",
    "\n",
    "\n",
    "1. <a href=\"#1\">Read the dataset</a>\n",
    "2. <a href=\"#2\">Exploratory Data Analysis</a>\n",
    "3. <a href=\"#3\">Select features to build the model</a>\n",
    "4. <a href=\"#4\">Training and test datasets</a>\n",
    "5. <a href=\"#5\">Data processing with Pipeline and ColumnTransformer</a>\n",
    "6. <a href=\"#6\">Train a classifier with SageMaker build-in algorithm</a>\n",
    "7. <a href=\"#7\">Model evaluation</a>\n",
    "8. <a href=\"#8\">Deploy the model to an endpoint</a>\n",
    "9. <a href=\"#9\">Test the enpoint</a>\n",
    "10. <a href=\"#10\">Clean up model artifacts</a>\n",
    "\n",
    "__Austin Animal Center Dataset__:\n",
    "\n",
    "In this exercise, we are working with pet adoption data from __Austin Animal Center__. We have two datasets that cover intake and outcome of animals. Intake data is available from [here](https://data.austintexas.gov/Health-and-Community-Services/Austin-Animal-Center-Intakes/wter-evkm) and outcome is from [here](https://data.austintexas.gov/Health-and-Community-Services/Austin-Animal-Center-Outcomes/9t4d-g238). \n",
    "\n",
    "In order to work with a single table, we joined the intake and outcome tables using the \"Animal ID\" column and created a single __review.csv__ file. We also didn't consider animals with multiple entries to the facility to keep our dataset simple. If you want to see the original datasets and the merged data with multiple entries, they are available under data/review folder: Austin_Animal_Center_Intakes.csv, Austin_Animal_Center_Outcomes.csv and Austin_Animal_Center_Intakes_Outcomes.csv.\n",
    "\n",
    "__Dataset schema:__ \n",
    "- __Pet ID__ - Unique ID of pet\n",
    "- __Outcome Type__ - State of pet at the time of recording the outcome (0 = not placed, 1 = placed). This is the field to predict.\n",
    "- __Sex upon Outcome__ - Sex of pet at outcome\n",
    "- __Name__ - Name of pet \n",
    "- __Found Location__ - Found location of pet before entered the center\n",
    "- __Intake Type__ - Circumstances bringing the pet to the center\n",
    "- __Intake Condition__ - Health condition of pet when entered the center\n",
    "- __Pet Type__ - Type of pet\n",
    "- __Sex upon Intake__ - Sex of pet when entered the center\n",
    "- __Breed__ - Breed of pet \n",
    "- __Color__ - Color of pet \n",
    "- __Age upon Intake Days__ - Age of pet when entered the center (days)\n",
    "- __Age upon Outcome Days__ - Age of pet at outcome (days)"
   ]
  },
  {
   "cell_type": "code",
   "execution_count": 1,
   "metadata": {},
   "outputs": [
    {
     "name": "stdout",
     "output_type": "stream",
     "text": [
      "\u001b[33mWARNING: You are using pip version 21.3.1; however, version 22.3.1 is available.\n",
      "You should consider upgrading via the '/home/ec2-user/anaconda3/envs/pytorch_p39/bin/python -m pip install --upgrade pip' command.\u001b[0m\n",
      "Note: you may need to restart the kernel to use updated packages.\n"
     ]
    }
   ],
   "source": [
    "%pip install -q -r ../requirements.txt"
   ]
  },
  {
   "cell_type": "markdown",
   "metadata": {},
   "source": [
    "## 1. <a name=\"1\">Read the dataset</a>\n",
    "(<a href=\"#0\">Go to top</a>)\n",
    "\n",
    "Let's read the dataset into a dataframe, using Pandas."
   ]
  },
  {
   "cell_type": "code",
   "execution_count": 2,
   "metadata": {},
   "outputs": [
    {
     "name": "stdout",
     "output_type": "stream",
     "text": [
      "The shape of the dataset is: (95485, 13)\n"
     ]
    }
   ],
   "source": [
    "import pandas as pd\n",
    "\n",
    "import warnings\n",
    "warnings.filterwarnings(\"ignore\")\n",
    "  \n",
    "df = pd.read_csv('../data/review/review_dataset.csv')\n",
    "\n",
    "print('The shape of the dataset is:', df.shape)"
   ]
  },
  {
   "cell_type": "markdown",
   "metadata": {},
   "source": [
    "## 2. <a name=\"2\">Exploratory Data Analysis</a>\n",
    "(<a href=\"#0\">Go to top</a>)\n",
    "\n",
    "We will look at number of rows, columns and some simple statistics of the dataset."
   ]
  },
  {
   "cell_type": "code",
   "execution_count": 3,
   "metadata": {},
   "outputs": [
    {
     "data": {
      "text/html": [
       "<div>\n",
       "<style scoped>\n",
       "    .dataframe tbody tr th:only-of-type {\n",
       "        vertical-align: middle;\n",
       "    }\n",
       "\n",
       "    .dataframe tbody tr th {\n",
       "        vertical-align: top;\n",
       "    }\n",
       "\n",
       "    .dataframe thead th {\n",
       "        text-align: right;\n",
       "    }\n",
       "</style>\n",
       "<table border=\"1\" class=\"dataframe\">\n",
       "  <thead>\n",
       "    <tr style=\"text-align: right;\">\n",
       "      <th></th>\n",
       "      <th>Pet ID</th>\n",
       "      <th>Outcome Type</th>\n",
       "      <th>Sex upon Outcome</th>\n",
       "      <th>Name</th>\n",
       "      <th>Found Location</th>\n",
       "      <th>Intake Type</th>\n",
       "      <th>Intake Condition</th>\n",
       "      <th>Pet Type</th>\n",
       "      <th>Sex upon Intake</th>\n",
       "      <th>Breed</th>\n",
       "      <th>Color</th>\n",
       "      <th>Age upon Intake Days</th>\n",
       "      <th>Age upon Outcome Days</th>\n",
       "    </tr>\n",
       "  </thead>\n",
       "  <tbody>\n",
       "    <tr>\n",
       "      <th>0</th>\n",
       "      <td>A794011</td>\n",
       "      <td>1.0</td>\n",
       "      <td>Neutered Male</td>\n",
       "      <td>Chunk</td>\n",
       "      <td>Austin (TX)</td>\n",
       "      <td>Owner Surrender</td>\n",
       "      <td>Normal</td>\n",
       "      <td>Cat</td>\n",
       "      <td>Neutered Male</td>\n",
       "      <td>Domestic Shorthair Mix</td>\n",
       "      <td>Brown Tabby/White</td>\n",
       "      <td>730</td>\n",
       "      <td>730</td>\n",
       "    </tr>\n",
       "    <tr>\n",
       "      <th>1</th>\n",
       "      <td>A776359</td>\n",
       "      <td>1.0</td>\n",
       "      <td>Neutered Male</td>\n",
       "      <td>Gizmo</td>\n",
       "      <td>7201 Levander Loop in Austin (TX)</td>\n",
       "      <td>Stray</td>\n",
       "      <td>Normal</td>\n",
       "      <td>Dog</td>\n",
       "      <td>Intact Male</td>\n",
       "      <td>Chihuahua Shorthair Mix</td>\n",
       "      <td>White/Brown</td>\n",
       "      <td>365</td>\n",
       "      <td>365</td>\n",
       "    </tr>\n",
       "    <tr>\n",
       "      <th>2</th>\n",
       "      <td>A674754</td>\n",
       "      <td>0.0</td>\n",
       "      <td>Intact Male</td>\n",
       "      <td>NaN</td>\n",
       "      <td>12034 Research in Austin (TX)</td>\n",
       "      <td>Stray</td>\n",
       "      <td>Nursing</td>\n",
       "      <td>Cat</td>\n",
       "      <td>Intact Male</td>\n",
       "      <td>Domestic Shorthair Mix</td>\n",
       "      <td>Orange Tabby</td>\n",
       "      <td>6</td>\n",
       "      <td>6</td>\n",
       "    </tr>\n",
       "    <tr>\n",
       "      <th>3</th>\n",
       "      <td>A689724</td>\n",
       "      <td>1.0</td>\n",
       "      <td>Neutered Male</td>\n",
       "      <td>*Donatello</td>\n",
       "      <td>2300 Waterway Bnd in Austin (TX)</td>\n",
       "      <td>Stray</td>\n",
       "      <td>Normal</td>\n",
       "      <td>Cat</td>\n",
       "      <td>Intact Male</td>\n",
       "      <td>Domestic Shorthair Mix</td>\n",
       "      <td>Black</td>\n",
       "      <td>60</td>\n",
       "      <td>60</td>\n",
       "    </tr>\n",
       "    <tr>\n",
       "      <th>4</th>\n",
       "      <td>A680969</td>\n",
       "      <td>1.0</td>\n",
       "      <td>Neutered Male</td>\n",
       "      <td>*Zeus</td>\n",
       "      <td>4701 Staggerbrush Rd in Austin (TX)</td>\n",
       "      <td>Stray</td>\n",
       "      <td>Nursing</td>\n",
       "      <td>Cat</td>\n",
       "      <td>Intact Male</td>\n",
       "      <td>Domestic Shorthair Mix</td>\n",
       "      <td>White/Orange Tabby</td>\n",
       "      <td>7</td>\n",
       "      <td>60</td>\n",
       "    </tr>\n",
       "  </tbody>\n",
       "</table>\n",
       "</div>"
      ],
      "text/plain": [
       "    Pet ID  Outcome Type Sex upon Outcome        Name  \\\n",
       "0  A794011           1.0    Neutered Male       Chunk   \n",
       "1  A776359           1.0    Neutered Male       Gizmo   \n",
       "2  A674754           0.0      Intact Male         NaN   \n",
       "3  A689724           1.0    Neutered Male  *Donatello   \n",
       "4  A680969           1.0    Neutered Male       *Zeus   \n",
       "\n",
       "                        Found Location      Intake Type Intake Condition  \\\n",
       "0                          Austin (TX)  Owner Surrender           Normal   \n",
       "1    7201 Levander Loop in Austin (TX)            Stray           Normal   \n",
       "2        12034 Research in Austin (TX)            Stray          Nursing   \n",
       "3     2300 Waterway Bnd in Austin (TX)            Stray           Normal   \n",
       "4  4701 Staggerbrush Rd in Austin (TX)            Stray          Nursing   \n",
       "\n",
       "  Pet Type Sex upon Intake                    Breed               Color  \\\n",
       "0      Cat   Neutered Male   Domestic Shorthair Mix   Brown Tabby/White   \n",
       "1      Dog     Intact Male  Chihuahua Shorthair Mix         White/Brown   \n",
       "2      Cat     Intact Male   Domestic Shorthair Mix        Orange Tabby   \n",
       "3      Cat     Intact Male   Domestic Shorthair Mix               Black   \n",
       "4      Cat     Intact Male   Domestic Shorthair Mix  White/Orange Tabby   \n",
       "\n",
       "   Age upon Intake Days  Age upon Outcome Days  \n",
       "0                   730                    730  \n",
       "1                   365                    365  \n",
       "2                     6                      6  \n",
       "3                    60                     60  \n",
       "4                     7                     60  "
      ]
     },
     "execution_count": 3,
     "metadata": {},
     "output_type": "execute_result"
    }
   ],
   "source": [
    "# Print the first five rows\n",
    "# NaN means missing data\n",
    "df.head()"
   ]
  },
  {
   "cell_type": "code",
   "execution_count": 4,
   "metadata": {},
   "outputs": [
    {
     "name": "stdout",
     "output_type": "stream",
     "text": [
      "<class 'pandas.core.frame.DataFrame'>\n",
      "RangeIndex: 95485 entries, 0 to 95484\n",
      "Data columns (total 13 columns):\n",
      " #   Column                 Non-Null Count  Dtype  \n",
      "---  ------                 --------------  -----  \n",
      " 0   Pet ID                 95485 non-null  object \n",
      " 1   Outcome Type           95485 non-null  float64\n",
      " 2   Sex upon Outcome       95484 non-null  object \n",
      " 3   Name                   59138 non-null  object \n",
      " 4   Found Location         95485 non-null  object \n",
      " 5   Intake Type            95485 non-null  object \n",
      " 6   Intake Condition       95485 non-null  object \n",
      " 7   Pet Type               95485 non-null  object \n",
      " 8   Sex upon Intake        95484 non-null  object \n",
      " 9   Breed                  95485 non-null  object \n",
      " 10  Color                  95485 non-null  object \n",
      " 11  Age upon Intake Days   95485 non-null  int64  \n",
      " 12  Age upon Outcome Days  95485 non-null  int64  \n",
      "dtypes: float64(1), int64(2), object(10)\n",
      "memory usage: 9.5+ MB\n"
     ]
    }
   ],
   "source": [
    "# Let's see the data types and non-null values for each column\n",
    "df.info()"
   ]
  },
  {
   "cell_type": "code",
   "execution_count": 5,
   "metadata": {},
   "outputs": [
    {
     "data": {
      "text/html": [
       "<div>\n",
       "<style scoped>\n",
       "    .dataframe tbody tr th:only-of-type {\n",
       "        vertical-align: middle;\n",
       "    }\n",
       "\n",
       "    .dataframe tbody tr th {\n",
       "        vertical-align: top;\n",
       "    }\n",
       "\n",
       "    .dataframe thead th {\n",
       "        text-align: right;\n",
       "    }\n",
       "</style>\n",
       "<table border=\"1\" class=\"dataframe\">\n",
       "  <thead>\n",
       "    <tr style=\"text-align: right;\">\n",
       "      <th></th>\n",
       "      <th>Outcome Type</th>\n",
       "      <th>Age upon Intake Days</th>\n",
       "      <th>Age upon Outcome Days</th>\n",
       "    </tr>\n",
       "  </thead>\n",
       "  <tbody>\n",
       "    <tr>\n",
       "      <th>count</th>\n",
       "      <td>95485.000000</td>\n",
       "      <td>95485.000000</td>\n",
       "      <td>95485.000000</td>\n",
       "    </tr>\n",
       "    <tr>\n",
       "      <th>mean</th>\n",
       "      <td>0.564005</td>\n",
       "      <td>703.436959</td>\n",
       "      <td>717.757313</td>\n",
       "    </tr>\n",
       "    <tr>\n",
       "      <th>std</th>\n",
       "      <td>0.495889</td>\n",
       "      <td>1052.252197</td>\n",
       "      <td>1055.023160</td>\n",
       "    </tr>\n",
       "    <tr>\n",
       "      <th>min</th>\n",
       "      <td>0.000000</td>\n",
       "      <td>0.000000</td>\n",
       "      <td>0.000000</td>\n",
       "    </tr>\n",
       "    <tr>\n",
       "      <th>25%</th>\n",
       "      <td>0.000000</td>\n",
       "      <td>30.000000</td>\n",
       "      <td>60.000000</td>\n",
       "    </tr>\n",
       "    <tr>\n",
       "      <th>50%</th>\n",
       "      <td>1.000000</td>\n",
       "      <td>365.000000</td>\n",
       "      <td>365.000000</td>\n",
       "    </tr>\n",
       "    <tr>\n",
       "      <th>75%</th>\n",
       "      <td>1.000000</td>\n",
       "      <td>730.000000</td>\n",
       "      <td>730.000000</td>\n",
       "    </tr>\n",
       "    <tr>\n",
       "      <th>max</th>\n",
       "      <td>1.000000</td>\n",
       "      <td>9125.000000</td>\n",
       "      <td>9125.000000</td>\n",
       "    </tr>\n",
       "  </tbody>\n",
       "</table>\n",
       "</div>"
      ],
      "text/plain": [
       "       Outcome Type  Age upon Intake Days  Age upon Outcome Days\n",
       "count  95485.000000          95485.000000           95485.000000\n",
       "mean       0.564005            703.436959             717.757313\n",
       "std        0.495889           1052.252197            1055.023160\n",
       "min        0.000000              0.000000               0.000000\n",
       "25%        0.000000             30.000000              60.000000\n",
       "50%        1.000000            365.000000             365.000000\n",
       "75%        1.000000            730.000000             730.000000\n",
       "max        1.000000           9125.000000            9125.000000"
      ]
     },
     "execution_count": 5,
     "metadata": {},
     "output_type": "execute_result"
    }
   ],
   "source": [
    "# This prints basic statistics for numerical columns\n",
    "df.describe()"
   ]
  },
  {
   "cell_type": "markdown",
   "metadata": {},
   "source": [
    "Let's separate model features and model target. "
   ]
  },
  {
   "cell_type": "code",
   "execution_count": 6,
   "metadata": {},
   "outputs": [
    {
     "name": "stdout",
     "output_type": "stream",
     "text": [
      "Index(['Pet ID', 'Outcome Type', 'Sex upon Outcome', 'Name', 'Found Location',\n",
      "       'Intake Type', 'Intake Condition', 'Pet Type', 'Sex upon Intake',\n",
      "       'Breed', 'Color', 'Age upon Intake Days', 'Age upon Outcome Days'],\n",
      "      dtype='object')\n"
     ]
    }
   ],
   "source": [
    "print(df.columns)"
   ]
  },
  {
   "cell_type": "code",
   "execution_count": 7,
   "metadata": {},
   "outputs": [
    {
     "name": "stdout",
     "output_type": "stream",
     "text": [
      "Model features:  Index(['Pet ID', 'Sex upon Outcome', 'Name', 'Found Location', 'Intake Type',\n",
      "       'Intake Condition', 'Pet Type', 'Sex upon Intake', 'Breed', 'Color',\n",
      "       'Age upon Intake Days', 'Age upon Outcome Days'],\n",
      "      dtype='object')\n",
      "Model target:  Outcome Type\n"
     ]
    }
   ],
   "source": [
    "model_features = df.columns.drop('Outcome Type')\n",
    "model_target = 'Outcome Type'\n",
    "\n",
    "print('Model features: ', model_features)\n",
    "print('Model target: ', model_target)"
   ]
  },
  {
   "cell_type": "markdown",
   "metadata": {},
   "source": [
    "We can explore the features set further, figuring out first what features are numerical or categorical. Beware that some integer-valued features could actually be categorical features, and some categorical features could be text features. "
   ]
  },
  {
   "cell_type": "code",
   "execution_count": 8,
   "metadata": {},
   "outputs": [
    {
     "name": "stdout",
     "output_type": "stream",
     "text": [
      "Numerical columns: Index(['Age upon Intake Days', 'Age upon Outcome Days'], dtype='object')\n",
      "\n",
      "Categorical columns: Index(['Pet ID', 'Sex upon Outcome', 'Name', 'Found Location', 'Intake Type',\n",
      "       'Intake Condition', 'Pet Type', 'Sex upon Intake', 'Breed', 'Color'],\n",
      "      dtype='object')\n"
     ]
    }
   ],
   "source": [
    "import numpy as np\n",
    "numerical_features_all = df[model_features].select_dtypes(include=np.number).columns\n",
    "print('Numerical columns:',numerical_features_all)\n",
    "\n",
    "print('')\n",
    "\n",
    "categorical_features_all = df[model_features].select_dtypes(include='object').columns\n",
    "print('Categorical columns:',categorical_features_all)\n"
   ]
  },
  {
   "cell_type": "markdown",
   "metadata": {},
   "source": [
    "#### Target distribution\n",
    "\n",
    "Let's check our target distribution."
   ]
  },
  {
   "cell_type": "code",
   "execution_count": 9,
   "metadata": {
    "scrolled": true
   },
   "outputs": [
    {
     "data": {
      "image/png": "[encoded data removed]",
      "text/plain": [
       "<Figure size 432x288 with 1 Axes>"
      ]
     },
     "metadata": {
      "needs_background": "light"
     },
     "output_type": "display_data"
    }
   ],
   "source": [
    "import matplotlib.pyplot as plt\n",
    "%matplotlib inline\n",
    "\n",
    "df[model_target].value_counts().plot.bar()\n",
    "plt.show()"
   ]
  },
  {
   "cell_type": "markdown",
   "metadata": {},
   "source": [
    "From the target plots we can identify whether or not we are dealing with imbalanced datasets - this means one result type is dominating the other one(s). \n",
    "\n",
    "Handling class imbalance is highly recommended, as the model performance can be greatly impacted. In particular the model may not work well for the infrequent classes, as there are not enough samples to learn patterns from, and so it would be hard for the classifier to identify and match those patterns. \n",
    "\n",
    "We might want to downsample the dominant class or upsample the rare the class, to help with learning its patterns. However, we should only fix the imbalance in training set, without changing the validation and test sets, as these should follow the original distribution. We will perform this task after train/test split. \n"
   ]
  },
  {
   "cell_type": "markdown",
   "metadata": {},
   "source": [
    "## 3. <a name=\"3\">Select features to build the model</a>\n",
    "(<a href=\"#0\">Go to top</a>)\n",
    "\n",
    "This time we build a model using all features. That is, we build a classifier including __numerical, categorical__ and __text__ features. "
   ]
  },
  {
   "cell_type": "code",
   "execution_count": 10,
   "metadata": {},
   "outputs": [],
   "source": [
    "# Grab model features/inputs and target/output\n",
    "\n",
    "# can also grab less numerical features, as some numerical data might not be very useful\n",
    "numerical_features = ['Age upon Intake Days', 'Age upon Outcome Days']\n",
    "\n",
    "# dropping the IDs features, RescuerID and PetID here \n",
    "categorical_features = ['Sex upon Outcome', 'Intake Type',\n",
    "       'Intake Condition', 'Pet Type', 'Sex upon Intake']\n",
    "\n",
    "# from EDA, select the text features\n",
    "text_features = ['Name', 'Found Location', 'Breed', 'Color']\n",
    "    \n",
    "model_features = numerical_features + categorical_features + text_features\n",
    "model_target = 'Outcome Type'"
   ]
  },
  {
   "cell_type": "markdown",
   "metadata": {},
   "source": [
    "#### Cleaning numerical features "
   ]
  },
  {
   "cell_type": "code",
   "execution_count": 11,
   "metadata": {},
   "outputs": [
    {
     "name": "stdout",
     "output_type": "stream",
     "text": [
      "Age upon Intake Days\n"
     ]
    },
    {
     "data": {
      "image/png": "[encoded data removed]",
      "text/plain": [
       "<Figure size 432x288 with 1 Axes>"
      ]
     },
     "metadata": {
      "needs_background": "light"
     },
     "output_type": "display_data"
    },
    {
     "name": "stdout",
     "output_type": "stream",
     "text": [
      "Age upon Outcome Days\n"
     ]
    },
    {
     "data": {
      "image/png": "[encoded data removed]",
      "text/plain": [
       "<Figure size 432x288 with 1 Axes>"
      ]
     },
     "metadata": {
      "needs_background": "light"
     },
     "output_type": "display_data"
    }
   ],
   "source": [
    "import matplotlib.pyplot as plt\n",
    "%matplotlib inline\n",
    "\n",
    "for c in numerical_features:\n",
    "    print(c)\n",
    "    df[c].plot.hist(bins=5)\n",
    "    plt.show()"
   ]
  },
  {
   "cell_type": "markdown",
   "metadata": {},
   "source": [
    "If for some histograms the values are heavily placed in the first bin, it is good to check for outliers, either checking the min-max values of those particular features and/or explore value ranges."
   ]
  },
  {
   "cell_type": "code",
   "execution_count": 12,
   "metadata": {},
   "outputs": [
    {
     "name": "stdout",
     "output_type": "stream",
     "text": [
      "Age upon Intake Days\n",
      "min: 0 max: 9125\n",
      "Age upon Outcome Days\n",
      "min: 0 max: 9125\n"
     ]
    }
   ],
   "source": [
    "for c in numerical_features:\n",
    "    print(c)\n",
    "    print('min:', df[c].min(), 'max:', df[c].max())"
   ]
  },
  {
   "cell_type": "markdown",
   "metadata": {},
   "source": [
    "With __value_counts()__ function, we can increase the number of histogram bins to 10 for more bins for a more refined view of the numerical features."
   ]
  },
  {
   "cell_type": "code",
   "execution_count": 13,
   "metadata": {},
   "outputs": [
    {
     "name": "stdout",
     "output_type": "stream",
     "text": [
      "Age upon Intake Days\n",
      "(-9.126, 912.5]     74835\n",
      "(912.5, 1825.0]     10647\n",
      "(1825.0, 2737.5]     3471\n",
      "(2737.5, 3650.0]     3998\n",
      "(3650.0, 4562.5]     1234\n",
      "(4562.5, 5475.0]     1031\n",
      "(5475.0, 6387.5]      183\n",
      "(6387.5, 7300.0]       79\n",
      "(7300.0, 8212.5]        5\n",
      "(8212.5, 9125.0]        2\n",
      "Name: Age upon Intake Days, dtype: int64\n",
      "Age upon Outcome Days\n",
      "(-9.126, 912.5]     74642\n",
      "(912.5, 1825.0]     10699\n",
      "(1825.0, 2737.5]     3465\n",
      "(2737.5, 3650.0]     4080\n",
      "(3650.0, 4562.5]     1263\n",
      "(4562.5, 5475.0]     1061\n",
      "(5475.0, 6387.5]      187\n",
      "(6387.5, 7300.0]       81\n",
      "(7300.0, 8212.5]        5\n",
      "(8212.5, 9125.0]        2\n",
      "Name: Age upon Outcome Days, dtype: int64\n"
     ]
    }
   ],
   "source": [
    "for c in numerical_features: \n",
    "    print(c)\n",
    "    print(df[c].value_counts(bins=10, sort=False))\n",
    "    plt.show()"
   ]
  },
  {
   "cell_type": "markdown",
   "metadata": {},
   "source": [
    "If any outliers are identified as very likely wrong values, dropping them could improve the numerical values histograms, and later overall model performance. While a good rule of thumb is that anything not in the range of (Q1 - 1.5 IQR) and (Q3 + 1.5 IQR) is an outlier, other rules for removing 'outliers' should be considered as well. "
   ]
  },
  {
   "cell_type": "markdown",
   "metadata": {},
   "source": [
    "Let's check missing values for these numerical features."
   ]
  },
  {
   "cell_type": "code",
   "execution_count": 14,
   "metadata": {},
   "outputs": [
    {
     "name": "stdout",
     "output_type": "stream",
     "text": [
      "Age upon Intake Days     0\n",
      "Age upon Outcome Days    0\n",
      "dtype: int64\n"
     ]
    }
   ],
   "source": [
    "print(df[numerical_features].isna().sum())"
   ]
  },
  {
   "cell_type": "markdown",
   "metadata": {},
   "source": [
    "If any missing values, as a quick fix, we can apply mean imputation. This will replace the missing values with the mean value of the corresponding column.\n",
    "\n",
    "__Note__: The statistically correct way to perform mean/mode imputation before training an ML model is to compute the column-wise means on the training data only, and then use these values to impute missing data in both the train and test sets. So, you'll need to split your dataset first. Same goes for any other transformations we would like to apply to these numerical features, such as scaling. \n"
   ]
  },
  {
   "cell_type": "markdown",
   "metadata": {},
   "source": [
    "#### Cleaning categorical features \n",
    "\n",
    "Let's also examine the categorical features."
   ]
  },
  {
   "cell_type": "code",
   "execution_count": 15,
   "metadata": {},
   "outputs": [
    {
     "name": "stdout",
     "output_type": "stream",
     "text": [
      "Sex upon Outcome\n",
      "['Neutered Male' 'Intact Male' 'Intact Female' 'Unknown' 'Spayed Female'\n",
      " nan]\n",
      "Intake Type\n",
      "['Owner Surrender' 'Stray' 'Wildlife' 'Public Assist' 'Euthanasia Request'\n",
      " 'Abandoned']\n",
      "Intake Condition\n",
      "['Normal' 'Nursing' 'Sick' 'Injured' 'Aged' 'Feral' 'Pregnant' 'Other'\n",
      " 'Behavior' 'Medical']\n",
      "Pet Type\n",
      "['Cat' 'Dog' 'Other' 'Bird' 'Livestock']\n",
      "Sex upon Intake\n",
      "['Neutered Male' 'Intact Male' 'Intact Female' 'Unknown' 'Spayed Female'\n",
      " nan]\n"
     ]
    }
   ],
   "source": [
    "for c in categorical_features:\n",
    "    print(c)\n",
    "    print(df[c].unique()) #value_counts())"
   ]
  },
  {
   "cell_type": "markdown",
   "metadata": {},
   "source": [
    "__Note on boolean type features__: Some categories might be of boolean type, like __False__ and __True__. The booleans will raise errors when trying to encode the categoricals with sklearn encoders, none of which accept boolean types. If using pandas get_dummies to one-hot encode the categoricals, there's no need to convert the booleans. However, get_dummies is trickier to use with sklearn's Pipeline and GridSearch. \n",
    "\n",
    "One way to deal with the booleans is to convert them to strings, by using a mask and a map changing only the booleans. Another way to handle the booleans is to convert them to strings by changing the type of all categoricals to 'str'. This will also affect the nans, basically performing imputation of the nans with a 'nans' placeholder value! \n",
    "\n",
    "Applying the type conversion to both categoricals and text features, takes care of the nans in the text fields as well. In case other imputations are planned for the categoricals and/or test fields, notice that the masking shown above leaves the nans unchanged."
   ]
  },
  {
   "cell_type": "code",
   "execution_count": 16,
   "metadata": {},
   "outputs": [],
   "source": [
    "df[categorical_features + text_features] = df[categorical_features + text_features].astype('str')"
   ]
  },
  {
   "cell_type": "markdown",
   "metadata": {},
   "source": [
    "Let's have a check on missing values for the categorical features (and text features here)."
   ]
  },
  {
   "cell_type": "code",
   "execution_count": 17,
   "metadata": {},
   "outputs": [
    {
     "name": "stdout",
     "output_type": "stream",
     "text": [
      "Sex upon Outcome    0\n",
      "Intake Type         0\n",
      "Intake Condition    0\n",
      "Pet Type            0\n",
      "Sex upon Intake     0\n",
      "Name                0\n",
      "Found Location      0\n",
      "Breed               0\n",
      "Color               0\n",
      "dtype: int64\n"
     ]
    }
   ],
   "source": [
    "print(df[categorical_features + text_features].isna().sum())"
   ]
  },
  {
   "cell_type": "markdown",
   "metadata": {},
   "source": [
    "Converting categoricals into useful numerical features will also have to wait until after the train/test split."
   ]
  },
  {
   "cell_type": "markdown",
   "metadata": {},
   "source": [
    "#### Cleaning text features \n",
    "\n",
    "Also a good idea to look at the text fields. Text cleaning can be performed here, before train/test split, with less code. "
   ]
  },
  {
   "cell_type": "code",
   "execution_count": 18,
   "metadata": {},
   "outputs": [
    {
     "name": "stdout",
     "output_type": "stream",
     "text": [
      "Name\n",
      "['Chunk' 'Gizmo' 'nan' ... '*Lingonberry' 'Guawp' '*Squanchy']\n",
      "Found Location\n",
      "['Austin (TX)' '7201 Levander Loop in Austin (TX)'\n",
      " '12034 Research in Austin (TX)' ... '4612 Sherwyn Drive in Austin (TX)'\n",
      " '16010 Voelker Ln in Austin (TX)' '2211 Santa Rita Street in Austin (TX)']\n",
      "Breed\n",
      "['Domestic Shorthair Mix' 'Chihuahua Shorthair Mix' 'Domestic Shorthair'\n",
      " ... 'Unknown' 'Bichon Frise/Lhasa Apso' 'Treeing Cur']\n",
      "Color\n",
      "['Brown Tabby/White' 'White/Brown' 'Orange Tabby' 'Black'\n",
      " 'White/Orange Tabby' 'Blue/White' 'Brown Tabby' 'Gray' 'Calico'\n",
      " 'Brown/Black' 'White/Tan' 'White' 'Brown' 'Black/White' 'Brown/White'\n",
      " 'Black/Brown' 'Chocolate/White' 'Red' 'White/White' 'Brown Brindle/White'\n",
      " 'Gray/Black' 'Tortie' 'Tan' 'White/Blue Tabby' 'Brown/Brown' 'Black/Gray'\n",
      " 'Blue' 'Cream Tabby' 'Brown/Gray' 'Blue Tabby/White' 'Red/White'\n",
      " 'Orange Tabby/White' 'Brown Merle/White' 'Tricolor' 'Apricot' 'Black/Tan'\n",
      " 'Tortie Point' 'Tan/Black' 'Torbie/Brown Tabby' 'White/Black'\n",
      " 'Blue Tabby' 'Blue Tick' 'White/Gray' 'Black/Tricolor' 'Chocolate/Tan'\n",
      " 'White/Brown Tabby' 'White/Brown Brindle' 'Lynx Point' 'Buff' 'Torbie'\n",
      " 'White/Buff' 'Brown Brindle' 'Cream' 'White/Blue' 'Blue/Tan'\n",
      " 'Black Brindle/White' 'Black/Yellow Brindle' 'Chocolate/Black'\n",
      " 'Black/Red' 'Fawn/White' 'Chocolate' 'Blue/Brown Brindle' 'Tan/White'\n",
      " 'Cream Tabby/White' 'Tan/Gray' 'Sable' 'Red/Buff' 'Blue Merle'\n",
      " 'Lynx Point/White' 'Yellow' 'Black/Brown Brindle' 'Brown/Tan'\n",
      " 'Silver Tabby' 'White/Red' 'Brown/Orange' 'Tricolor/White' 'Sable/Black'\n",
      " 'Gray/White' 'Orange/White' 'Brown Tiger/Brown' 'Brown Tabby/Black'\n",
      " 'Torbie/White' 'Yellow Brindle' 'Cream/White' 'Brown Brindle/Black'\n",
      " 'Black/Chocolate' 'Gold/White' 'White/Orange' 'Black Tabby'\n",
      " 'Tricolor/Brown' 'Seal Point/Gray' 'White/Tricolor' 'Silver/Tan'\n",
      " 'Gray Tabby/White' 'Black Brindle' 'Brown/Tricolor' 'Black Tabby/White'\n",
      " 'Yellow/White' 'Cream/Black' 'Gray/Tortie' 'Flame Point' 'Sable/White'\n",
      " 'Seal Point' 'Chocolate Point' 'Red/Tan' 'Gray/Tan' 'Calico Point/Gray'\n",
      " 'Black/Black' 'Red/Cream' 'White/Red Merle' 'Tortie/White' 'Red/Black'\n",
      " 'Green/Silver' 'Brown/Red' 'Gray Tabby' 'Green/Gray' 'Gray/Brown'\n",
      " 'Gray/Blue Merle' 'White/Blue Merle' 'Blue Cream' 'Silver Tabby/White'\n",
      " 'Black/Cream' 'Lilac Point' 'Gray Tabby/Black' 'Brown Merle' 'Gold/Cream'\n",
      " 'Gold' 'Blue Merle/Tricolor' 'Buff/White' 'White/Cream' 'Red Merle/White'\n",
      " 'Fawn/Black' 'Yellow/Yellow' 'Sable/Brown' 'Black/Black Tabby'\n",
      " 'White/Gray Tabby' 'Calico/White' 'Tricolor/Black' 'Fawn' 'Blue/Blue'\n",
      " 'White/Chocolate' 'Tan/Fawn' 'Blue Merle/White' 'Lynx Point/Blue'\n",
      " 'Blue Merle/Brown' 'Blue Merle/Tan' 'White/Seal Point' 'Liver/Tan'\n",
      " 'Blue Point/White' 'Liver/White' 'Chocolate Point/White' 'Gray/Pink'\n",
      " 'Black Brindle/Blue' 'Black Smoke' 'Brown Brindle/Red Tick' 'Cream/Brown'\n",
      " 'Black/Blue Tick' 'Red Tick/Blue Tick' 'White/Yellow' 'Orange'\n",
      " 'Torbie/Brown' 'Sable/Tan' 'Yellow Brindle/White' 'Gray/Orange'\n",
      " 'Calico Point' 'Red Tick' 'White/Red Tick' 'Blue Tick/Tan' 'Brown/Cream'\n",
      " 'Cream/Tan' 'Tan/Brown' 'Buff/Brown' 'Tan/Tan' 'Chocolate/Tricolor'\n",
      " 'Calico Point/White' 'Brown Brindle/Brown Brindle' 'Green/Brown'\n",
      " 'Black/Silver' 'White/Calico' 'Brown/Chocolate' 'Cream/Silver'\n",
      " 'White/Brown Merle' 'Red/Brown' 'White/Fawn' 'White/Gray Tiger'\n",
      " 'Tan/Gold' 'Tan/Red' 'Tan/Silver' 'Lilac Point/White' 'Buff/Black'\n",
      " 'Cream/Brown Merle' 'White/Black Brindle' 'Silver' 'Lilac Point/Gray'\n",
      " 'Black Smoke/White' 'Pink' 'Blue Tick/Tricolor' 'Blue Tick/Black'\n",
      " 'Seal Point/White' 'Blue Point' 'Silver/Brown' 'Fawn/Brown'\n",
      " 'Black Brindle/Brown' 'Blue Merle/Black' 'Blue Cream/White'\n",
      " 'White/Blue Cream' 'Gray/Gray' 'Tortie/Tortie' 'Green' 'Brown/Buff'\n",
      " 'Chocolate/Brown Tabby' 'Tortie/Blue Cream' 'Brown/Fawn' 'White/Tortie'\n",
      " 'Orange Tabby/Orange Tabby' 'Tortie/Black' 'White/Cream Tabby'\n",
      " 'Tan/Cream' 'Red/Yellow' 'Blue/Tortie' 'Lynx Point/Brown Tabby'\n",
      " 'Black Tabby/Orange' 'Blue/Tricolor' 'Black/Blue' 'White/Agouti'\n",
      " 'Gold/Yellow' 'Chocolate/Fawn' 'Orange/Orange Tabby'\n",
      " 'Tricolor/Blue Merle' 'Brown/Brown Tabby' 'Black/Orange'\n",
      " 'Cream/Blue Point' 'Calico/Tricolor' 'Agouti' 'Calico/Black'\n",
      " 'Brown Brindle/Brown' 'Lilac Point/Black' 'Tan/Blue Merle'\n",
      " 'Blue Tabby/Black' 'Silver/Black' 'Tan/Blue' 'Black/Yellow'\n",
      " 'Yellow/Green' 'Flame Point/Cream' 'Agouti/White' 'Brown/Green'\n",
      " 'Yellow/Black' 'Torbie/Blue Tabby' 'White/Black Tabby'\n",
      " 'Blue Merle/Red Merle' 'Cream/Orange' 'Gray/Cream' 'Silver/Chocolate'\n",
      " 'Tan/Tricolor' 'Red Merle' 'Chocolate/Cream' 'Tan/Buff'\n",
      " 'Brown Tiger/White' 'Blue/Gray' 'Gray Tabby/Gray' 'Chocolate/Red'\n",
      " 'Black Brindle/Black' 'Gray/Blue' 'Tricolor/Blue' 'Red Tick/Brown'\n",
      " 'Yellow/Blue' 'Gray/Yellow' 'Brown/Liver' 'Red/Red' 'Silver/Orange'\n",
      " 'Black/Pink' 'Tricolor/Tan' 'Calico/Brown' 'Tortie Point/Lynx Point'\n",
      " 'Cream/Blue' 'Green/Red' 'Tortie/Orange' 'Gray/Red' 'Black/Black Smoke'\n",
      " 'Buff/Tan' 'Brown/Yellow' 'Fawn/Blue' 'Red/Tricolor' 'Fawn/Cream'\n",
      " 'Silver/Red' 'Brown Tabby/Calico' 'Black/Blue Merle' 'Yellow/Orange'\n",
      " 'Brown Tabby/Brown' 'Blue Tick/Red' 'Seal Point/Cream'\n",
      " 'Cream Tabby/Orange' 'Chocolate/Blue Tick' 'Red/Blue'\n",
      " 'Blue Cream/Blue Tiger' 'Blue/Black' 'Brown Tiger' 'Brown Merle/Tan'\n",
      " 'Fawn/Tan' 'Brown Tabby/Orange' 'Blue Smoke' 'Red Tick/White'\n",
      " 'White/Apricot' 'White/Liver' 'Red/Gold' 'Green/Yellow' 'Red/Red Merle'\n",
      " 'Gold/Tan' 'Fawn/Tricolor' 'Blue Merle/Blue Merle' 'Red/Silver'\n",
      " 'Calico/Orange' 'Brown Tabby/Silver' 'Blue Tick/Red Tick'\n",
      " 'Orange Tabby/Brown' 'Apricot/Brown' 'Red/Red Tick' 'Gray/Tricolor'\n",
      " 'Black/Buff' 'Black/Green' 'Black/Black Brindle' 'Orange/Black'\n",
      " 'Tortie Point/White' 'White/Liver Tick' 'Gold/Brown' 'Red Merle/Black'\n",
      " 'Apricot/White' 'Brown Tabby/Brown Tabby' 'Cream/Seal Point'\n",
      " 'Tan/Red Merle' 'Gray/Green' 'Chocolate/Brown' 'Buff/Cream' 'Buff/Red'\n",
      " 'Brown/Silver' 'Blue Tick/Brown' 'Brown Tabby/Tortie' 'Blue Tiger/White'\n",
      " 'Tan/Chocolate Point' 'Black/Fawn' 'Blue/Brown' 'White/Blue Tick'\n",
      " 'Blue Tick/White' 'Orange Tabby/Orange' 'Blue Tick/Brown Brindle'\n",
      " 'White/Gold' 'Black Smoke/Brown Tabby' 'Red/Gray'\n",
      " 'Brown Brindle/Tricolor' 'Orange/Brown' 'Gray/Gold' 'Liver Tick/White'\n",
      " 'Black Smoke/Black Tiger' 'Brown/Red Merle' 'Sable/Buff'\n",
      " 'Gray Tabby/Brown Tabby' 'Gold/Silver' 'Seal Point/Brown'\n",
      " 'Silver Lynx Point' 'Black/Gold' 'Liver' 'Yellow/Tan' 'Blue Tiger'\n",
      " 'Tan/Yellow' 'Orange/Tan' 'Lynx Point/Tortie Point' 'Brown Tabby/Gray'\n",
      " 'Sable/Cream' 'White/Chocolate Point' 'White/Yellow Brindle'\n",
      " 'Black Tiger/White' 'Calico/Gray Tabby' 'Buff/Gray' 'Tricolor/Silver'\n",
      " 'Cream/Red' 'Gold/Buff' 'Liver Tick' 'Brown Brindle/Tan'\n",
      " 'Tricolor/Blue Tick' 'White/Pink' 'Sable/Gray' 'Brown/Brown Brindle'\n",
      " 'Orange Tabby/Tortie Point' 'Chocolate/Chocolate' 'Yellow/Gray'\n",
      " 'Chocolate Point/Cream' 'Black Brindle/Brown Brindle' 'Yellow/Cream'\n",
      " 'Gold/Black' 'Tan/Yellow Brindle' 'Red Tick/Tricolor'\n",
      " 'Brown Merle/Brown Tabby' 'Flame Point/White' 'Calico/Calico'\n",
      " 'Orange Tabby/Apricot' 'Blue/Calico' 'Brown/Black Smoke' 'Green/Black'\n",
      " 'Calico Point/Lynx Point' 'Torbie/Gray' 'Tortie/Calico'\n",
      " 'Brown Tabby/Black Tabby' 'Tortie/Blue' 'White/Lynx Point'\n",
      " 'Red Tick/Brown Brindle' 'Gold/Gray' 'Silver/White' 'Blue/Cream'\n",
      " 'Blue Tabby/Cream' 'Black Smoke/Blue Tick' 'Tricolor/Cream'\n",
      " 'Gray Tabby/Orange' 'Brown Tabby/Blue' 'Blue Tabby/Buff' 'Tricolor/Red'\n",
      " 'Chocolate/Gold' 'Brown Merle/Brown' 'Cream/Gray' 'Torbie/Calico'\n",
      " 'Yellow/Red' 'Tricolor/Gray' 'White/Silver Tabby' 'Red Tick/Tan'\n",
      " 'Orange/Gray' 'Cream Tabby/Cream Tabby' 'Black Tabby/Black'\n",
      " 'Cream/Tricolor' 'Yellow/Orange Tabby' 'Orange Tabby/Cream'\n",
      " 'Green/Orange' 'Gray/Silver' 'Tricolor/Brown Brindle' 'Black/Tortie'\n",
      " 'White/Lilac Point' 'Black/Brown Merle' 'Blue Tabby/Tan' 'Fawn/Chocolate'\n",
      " 'Gold/Gold' 'White/Silver' 'Blue/Green' 'Blue Merle/Gray'\n",
      " 'Black Smoke/Black' 'Tan/Red Tick' 'Tan/Brown Brindle' 'Orange Tiger'\n",
      " 'Green/Blue' 'Gray/Gray Tabby' 'Blue Cream/Tortie' 'Blue Merle/Cream'\n",
      " 'Silver Lynx Point/White' 'Brown/Pink' 'Tricolor/Chocolate'\n",
      " 'Red Merle/Tricolor' 'Calico/Blue Cream' 'Red Tick/Red'\n",
      " 'Lilac Point/Cream' 'Tan/Apricot' 'Calico/Brown Tabby' 'Blue Smoke/Brown'\n",
      " 'Brown Tabby/Gray Tabby' 'Brown Brindle/Blue Tick' 'Brown/Red Tick'\n",
      " 'Blue Point/Cream' 'Agouti/Gray' 'Blue Smoke/White' 'Agouti/Brown Tabby'\n",
      " 'Blue/Silver' 'Yellow Brindle/Blue' 'Seal Point/Buff'\n",
      " 'Tortie/Black Smoke' 'Torbie/Black' 'Red Merle/Brown Merle' 'Silver/Gray'\n",
      " 'Green/White' 'Brown Brindle/Blue' 'Black Tiger' 'Black/Brown Tabby'\n",
      " 'Sable/Red' 'White/Black Smoke' 'Lynx Point/Tan' 'Black/Gray Tabby'\n",
      " 'Black Smoke/Brown' 'Chocolate/Brown Merle' 'Red/Green' 'Tricolor/Calico'\n",
      " 'Chocolate/Yellow' 'Black Brindle/Blue Tick' 'Gray/Buff'\n",
      " 'Brown/Blue Merle' 'Brown/Blue' 'Black Brindle/Tan' 'Brown/Black Tabby'\n",
      " 'Brown Merle/Black' 'Cream/Red Tick' 'Blue/Yellow' 'Chocolate/Gray'\n",
      " 'Brown Merle/Chocolate' 'White/Brown Tiger' 'Gray/Fawn'\n",
      " 'Red Merle/Red Merle' 'Tricolor/Orange' 'Yellow/Brown' 'Red Tick/Black'\n",
      " 'Red Tick/Brown Merle' 'Silver/Blue' 'Ruddy/Cream' 'Orange/Blue'\n",
      " 'Lynx Point/Gray' 'Fawn/Gray' 'Blue Merle/Brown Brindle'\n",
      " 'Black Smoke/Chocolate' 'Black Tabby/Gray Tabby' 'Blue Tabby/Orange'\n",
      " 'Brown/Brown Merle' 'Tricolor/Tricolor' 'Chocolate/Red Tick'\n",
      " 'Chocolate/Liver Tick' 'Tortie/Brown' 'Silver Tabby/Black'\n",
      " 'Tan/Cream Tabby' 'Tortie Point/Cream' 'Liver/Liver Tick' 'Cream/Cream'\n",
      " 'Brown Brindle/Brown Merle' 'Tan/Brown Merle' 'Blue/Orange' 'Liver/Buff'\n",
      " 'Brown Tabby/Orange Tabby' 'Tricolor/Brown Merle' 'Lynx Point/Cream'\n",
      " 'Torbie/Blue Cream' 'Blue Smoke/Gray' 'White/Black Tiger'\n",
      " 'Lynx Point/Gray Tabby' 'White/Calico Point' 'Brown Tabby/Black Brindle'\n",
      " 'Tricolor/Red Tick' 'Blue/Yellow Brindle' 'Silver/Cream'\n",
      " 'Brown/Black Brindle' 'Brown Brindle/Blue Cream'\n",
      " 'Cream Tabby/Orange Tabby' 'Brown/Apricot' 'Tortie Point/Blue'\n",
      " 'Blue Cream/Buff' 'Tortie/Blue Tabby' 'Sable/Red Merle'\n",
      " 'Black/Seal Point' 'Agouti/Cream' 'Blue Tabby/Blue Cream' 'White/Green'\n",
      " 'Blue Cream/Blue Tabby' 'Brown Brindle/Gray' 'Torbie/Silver Tabby'\n",
      " 'Red Merle/Tan' 'Buff/Yellow' 'Brown Tabby/Lynx Point' 'Black Tabby/Gray'\n",
      " 'Black/Silver Tabby' 'Chocolate/Brown Brindle' 'Red/Brown Brindle'\n",
      " 'Cream Tiger' 'Orange Tabby/Black' 'Brown Brindle/Liver Tick'\n",
      " 'Blue Tabby/Tortie' 'White/Flame Point' 'Tortie Point/Seal Point']\n"
     ]
    }
   ],
   "source": [
    "for c in text_features:\n",
    "    print(c)\n",
    "    print(df[c].unique()) #value_counts())"
   ]
  },
  {
   "cell_type": "markdown",
   "metadata": {},
   "source": [
    "We re-use the helper functions from the 'Text processing' notebook above.\n",
    "\n",
    "__Warning__: cleaning stage can take a few minutes, depending on how much text is there to process."
   ]
  },
  {
   "cell_type": "code",
   "execution_count": 19,
   "metadata": {},
   "outputs": [
    {
     "name": "stdout",
     "output_type": "stream",
     "text": [
      "Text cleaning:  Name\n",
      "Text cleaning:  Found Location\n",
      "Text cleaning:  Breed\n",
      "Text cleaning:  Color\n"
     ]
    }
   ],
   "source": [
    "# Prepare cleaning functions\n",
    "import re, string\n",
    "import nltk\n",
    "from nltk.stem import SnowballStemmer\n",
    "\n",
    "stop_words = [\"a\", \"an\", \"the\", \"this\", \"that\", \"is\", \"it\", \"to\", \"and\"]\n",
    "\n",
    "stemmer = SnowballStemmer('english')\n",
    "\n",
    "def preProcessText(text):\n",
    "    # lowercase and strip leading/trailing white space\n",
    "    text = text.lower().strip()\n",
    "    \n",
    "    # remove HTML tags\n",
    "    text = re.compile('<.*?>').sub('', text)\n",
    "    \n",
    "    # remove punctuation\n",
    "    text = re.compile('[%s]' % re.escape(string.punctuation)).sub(' ', text)\n",
    "    \n",
    "    # remove extra white space\n",
    "    text = re.sub('\\s+', ' ', text)\n",
    "    \n",
    "    return text\n",
    "\n",
    "def lexiconProcess(text, stop_words, stemmer):\n",
    "    filtered_sentence = []\n",
    "    words = text.split(\" \")\n",
    "    for w in words:\n",
    "        if w not in stop_words:\n",
    "            filtered_sentence.append(stemmer.stem(w))\n",
    "    text = \" \".join(filtered_sentence)\n",
    "    \n",
    "    return text\n",
    "\n",
    "def cleanSentence(text, stop_words, stemmer):\n",
    "    return lexiconProcess(preProcessText(text), stop_words, stemmer)\n",
    "\n",
    "# Clean the text features\n",
    "for c in text_features:\n",
    "    print('Text cleaning: ', c)\n",
    "    df[c] = [cleanSentence(item, stop_words, stemmer) for item in df[c].values]"
   ]
  },
  {
   "cell_type": "markdown",
   "metadata": {},
   "source": [
    "The cleaned text features are ready to be vectorized after the train/test split."
   ]
  },
  {
   "cell_type": "markdown",
   "metadata": {},
   "source": [
    "__Note__: more exploratory data analysis might reveal other important hidden atributes and/or relationships of the model features considered. "
   ]
  },
  {
   "cell_type": "markdown",
   "metadata": {},
   "source": [
    "## 4. <a name=\"4\">Training, validation, and test subsets</a>\n",
    "(<a href=\"#0\">Go to top</a>)\n",
    "\n",
    "We will split our dataset into training (80%), validation (10%), and test (10%) subsets using sklearn's [__train_test_split()__](https://scikit-learn.org/stable/modules/generated/sklearn.model_selection.train_test_split.html) function twice."
   ]
  },
  {
   "cell_type": "code",
   "execution_count": 20,
   "metadata": {},
   "outputs": [],
   "source": [
    "from sklearn.model_selection import train_test_split\n",
    "\n",
    "train_data, test_data = train_test_split(df, test_size=0.2, shuffle=True, random_state=23)\n",
    "val_data, test_data = train_test_split(test_data, test_size=0.5, shuffle=True, random_state=23)"
   ]
  },
  {
   "cell_type": "markdown",
   "metadata": {},
   "source": [
    "#### Target balancing"
   ]
  },
  {
   "cell_type": "code",
   "execution_count": 21,
   "metadata": {},
   "outputs": [
    {
     "name": "stdout",
     "output_type": "stream",
     "text": [
      "Training set shape: (76388, 13)\n",
      "Class 0 samples in the training set: 33357\n",
      "Class 1 samples in the training set: 43031\n",
      "Class 0 samples in the test set: 4163\n",
      "Class 1 samples in the test set: 5386\n"
     ]
    }
   ],
   "source": [
    "print('Training set shape:', train_data.shape)\n",
    "\n",
    "print('Class 0 samples in the training set:', sum(train_data[model_target] == 0))\n",
    "print('Class 1 samples in the training set:', sum(train_data[model_target] == 1))\n",
    "\n",
    "print('Class 0 samples in the test set:', sum(test_data[model_target] == 0))\n",
    "print('Class 1 samples in the test set:', sum(test_data[model_target] == 1))"
   ]
  },
  {
   "cell_type": "markdown",
   "metadata": {},
   "source": [
    "__Important note:__ We want to fix the imbalance only in training set. We shouldn't change the validation and test sets, as these should follow the original distribution."
   ]
  },
  {
   "cell_type": "code",
   "execution_count": 22,
   "metadata": {},
   "outputs": [],
   "source": [
    "from sklearn.utils import shuffle\n",
    "\n",
    "class_0_no = train_data[train_data[model_target] == 0]\n",
    "class_1_no = train_data[train_data[model_target] == 1]\n",
    "\n",
    "upsampled_class_0_no = class_0_no.sample(n=len(class_1_no), replace=True, random_state=42)\n",
    "\n",
    "train_data = pd.concat([class_1_no, upsampled_class_0_no])\n",
    "train_data = shuffle(train_data)"
   ]
  },
  {
   "cell_type": "code",
   "execution_count": 23,
   "metadata": {},
   "outputs": [
    {
     "name": "stdout",
     "output_type": "stream",
     "text": [
      "Training set shape: (86062, 13)\n",
      "Class 1 samples in the training set: 43031\n",
      "Class 0 samples in the training set: 43031\n"
     ]
    }
   ],
   "source": [
    "print('Training set shape:', train_data.shape)\n",
    "\n",
    "print('Class 1 samples in the training set:', sum(train_data[model_target] == 1))\n",
    "print('Class 0 samples in the training set:', sum(train_data[model_target] == 0))"
   ]
  },
  {
   "cell_type": "markdown",
   "metadata": {},
   "source": [
    "## 5. <a name=\"5\">Data processing with Pipeline and ColumnTransformer</a>\n",
    "(<a href=\"#0\">Go to top</a>)\n",
    "\n",
    "We can use the composite Pipeline of Day 2 to train and tune a neural network in sklearn, using its implementation of neural network __MLPClassifier__. However, sklearn is not a neural network framework, lacking access to large scale optimization techniques with GPU support and more neural network related utility functions. \n",
    " \n",
    "We instead build a neural network with __MXNet/Gluon__. While for classic, non-neural algorithms, MXNet/Gluon is not particularly useful, using an actual deep learning framework for neural network experimentation provides more flexibility and customization.\n",
    "\n",
    "Choice of model and hosting platform aside, we can still reuse the collective ColumnTransformer from Day 2 to preprocess the data for neural network training, validation and test, ensuring that the transformations learned on the train data are performed accordingly on the training, validation and test datasets."
   ]
  },
  {
   "cell_type": "code",
   "execution_count": 24,
   "metadata": {},
   "outputs": [
    {
     "name": "stdout",
     "output_type": "stream",
     "text": [
      "Datasets shapes before processing:  (86062, 11) (9548, 11) (9549, 11)\n",
      "Datasets shapes after processing:  (86062, 235) (9548, 235) (9549, 235)\n"
     ]
    }
   ],
   "source": [
    "from sklearn.impute import SimpleImputer\n",
    "from sklearn.preprocessing import OneHotEncoder, MinMaxScaler\n",
    "from sklearn.feature_extraction.text import CountVectorizer\n",
    "from sklearn.pipeline import Pipeline\n",
    "from sklearn.compose import ColumnTransformer\n",
    "from sklearn.tree import DecisionTreeClassifier\n",
    "from sklearn.metrics import classification_report\n",
    "from sklearn.metrics import accuracy_score\n",
    "\n",
    "\n",
    "### COLUMN_TRANSFORMER ###\n",
    "##########################\n",
    "\n",
    "# Preprocess the numerical features\n",
    "numerical_processor = Pipeline([\n",
    "    ('num_imputer', SimpleImputer(strategy='mean')),\n",
    "    ('num_scaler', MinMaxScaler()) # Shown in case is needed, not a must with Decision Trees\n",
    "                                ])\n",
    "                  \n",
    "# Preprocess the categorical features\n",
    "categorical_processor = Pipeline([\n",
    "    ('cat_imputer', SimpleImputer(strategy='constant', fill_value='missing')), # Shown in case is needed, no effect here as we already imputed with 'nan' strings\n",
    "    ('cat_encoder', OneHotEncoder(handle_unknown='ignore')) # handle_unknown tells it to ignore (rather than throw an error for) any value that was not present in the initial training set.\n",
    "                                ])\n",
    "\n",
    "# Preprocess 1st text feature\n",
    "text_processor_0 = Pipeline([\n",
    "    ('text_vect_0', CountVectorizer(binary=True, max_features=50))\n",
    "                                ])\n",
    "\n",
    "# Preprocess 2nd text feature (larger vocabulary)\n",
    "text_precessor_1 = Pipeline([\n",
    "    ('text_vect_1', CountVectorizer(binary=True, max_features=150))\n",
    "                                ])\n",
    "\n",
    "# Combine all data preprocessors from above (add more, if you choose to define more!)\n",
    "# For each processor/step specify: a name, the actual process, and finally the features to be processed\n",
    "data_preprocessor = ColumnTransformer([\n",
    "    ('numerical_pre', numerical_processor, numerical_features),\n",
    "    ('categorical_pre', categorical_processor, categorical_features),\n",
    "    ('text_pre_0', text_processor_0, text_features[0]),\n",
    "    ('text_pre_1', text_precessor_1, text_features[1])\n",
    "                                    ]) \n",
    "\n",
    "### DATA PREPROCESSING ###\n",
    "##########################\n",
    "\n",
    "# Get train data to train the network\n",
    "X_train = train_data[model_features]\n",
    "y_train = train_data[model_target]\n",
    "\n",
    "# Get validation data to validate the network \n",
    "X_val = val_data[model_features]\n",
    "y_val = val_data[model_target]\n",
    "\n",
    "# Get test data to test the network\n",
    "X_test = test_data[model_features]\n",
    "y_test = test_data[model_target]\n",
    "\n",
    "print('Datasets shapes before processing: ', X_train.shape, X_val.shape, X_test.shape)\n",
    "\n",
    "X_train = data_preprocessor.fit_transform(X_train).toarray()\n",
    "X_val = data_preprocessor.transform(X_val).toarray()\n",
    "X_test = data_preprocessor.transform(X_test).toarray()\n",
    "\n",
    "print('Datasets shapes after processing: ', X_train.shape, X_val.shape, X_test.shape)"
   ]
  },
  {
   "cell_type": "markdown",
   "metadata": {},
   "source": [
    "## 6. <a name=\"6\">Train a classifier with SageMaker build-in algorithm</a>\n",
    "(<a href=\"#0\">Go to top</a>)\n"
   ]
  },
  {
   "cell_type": "markdown",
   "metadata": {},
   "source": [
    "### Fitting the classifier\n",
    "\n",
    "We will call the Sagemaker `LinearLearner()` below. \n",
    "* __Compute power:__ We will use `instance_count` and `instance_type` parameters. This example uses `ml.m4.xlarge` resource for training. We can change the instance type for our needs (For example GPUs for neural networks). \n",
    "* __Model type:__ `predictor_type` is set to __`binary_classifier`__, as we have a binary classification problem here; __`multiclass_classifier`__ could be used if there are 3 or more classes involved, or __'regressor'__ for a regression problem."
   ]
  },
  {
   "cell_type": "code",
   "execution_count": 25,
   "metadata": {},
   "outputs": [],
   "source": [
    "import sagemaker\n",
    "\n",
    "# Call the LinearLearner estimator object\n",
    "LL_estimator = sagemaker.LinearLearner(role=sagemaker.get_execution_role(),\n",
    "                                       instance_count=1,\n",
    "                                       instance_type='ml.m4.xlarge',\n",
    "                                       predictor_type='binary_classifier')"
   ]
  },
  {
   "cell_type": "markdown",
   "metadata": {},
   "source": [
    "We are using the `record_set()` function of our binary_estimator to set the training, validation, test parts of the estimator. "
   ]
  },
  {
   "cell_type": "code",
   "execution_count": 26,
   "metadata": {},
   "outputs": [],
   "source": [
    "import numpy as np\n",
    "\n",
    "train_records = LL_estimator.record_set(X_train.astype(\"float32\"),\n",
    "                                            np.array(y_train).astype(\"float32\"),\n",
    "                                            channel='train')\n",
    "val_records = LL_estimator.record_set(X_val.astype(\"float32\"),\n",
    "                                          np.array(y_val).astype(\"float32\"),\n",
    "                                          channel='validation')\n",
    "test_records = LL_estimator.record_set(X_test.astype(\"float32\"),\n",
    "                                           np.array(y_test).astype(\"float32\"),\n",
    "                                           channel='test')"
   ]
  },
  {
   "cell_type": "markdown",
   "metadata": {},
   "source": [
    "__fit()__ function applies a distributed version of the Stochastic Gradient Descent (SGD) algorithm and we are sending the data to it. We disabled logs with __logs=False__. You can remove that parameter to see more details about the process. __This process takes about 3-4 minutes on a ml.m4.xlarge instance.__"
   ]
  },
  {
   "cell_type": "code",
   "execution_count": null,
   "metadata": {},
   "outputs": [
    {
     "name": "stderr",
     "output_type": "stream",
     "text": [
      "INFO:sagemaker.image_uris:Same images used for training and inference. Defaulting to image scope: inference.\n",
      "INFO:sagemaker.image_uris:Ignoring unnecessary instance type: None.\n",
      "INFO:sagemaker:Creating training-job with name: linear-learner-2023-01-25-22-11-54-876\n"
     ]
    },
    {
     "name": "stdout",
     "output_type": "stream",
     "text": [
      "\n",
      "2023-01-25 22:11:55 Starting - Starting the training job.....\n",
      "2023-01-25 22:12:20 Starting - Preparing the instances for training...............\n",
      "2023-01-25 22:13:45 Downloading - Downloading input data......\n",
      "2023-01-25 22:14:21 Training - Downloading the training image...........\n",
      "2023-01-25 22:15:21 Training - Training image download completed. Training in progress.................\n",
      "2023-01-25 22:16:47 Uploading - Uploading generated training model..\n",
      "2023-01-25 22:16:58 Completed - Training job completed\n",
      "CPU times: user 296 ms, sys: 8.67 ms, total: 305 ms\n",
      "Wall time: 5min 8s\n"
     ]
    }
   ],
   "source": [
    "%%time\n",
    "LL_estimator.fit([train_records, val_records, test_records], logs=False)"
   ]
  },
  {
   "cell_type": "markdown",
   "metadata": {},
   "source": [
    "## 7. <a name=\"7\">Model Evaluation</a>\n",
    "(<a href=\"#0\">Go to top</a>)\n",
    "\n",
    "We can use Sagemaker analytics to get some performance metrics of our choice on the test set. This doesn't require us to deploy our model. Since this is a binary classfication problem, we can check the accuracy."
   ]
  },
  {
   "cell_type": "code",
   "execution_count": null,
   "metadata": {},
   "outputs": [
    {
     "name": "stderr",
     "output_type": "stream",
     "text": [
      "INFO:botocore.credentials:Found credentials from IAM Role: BaseNotebookInstanceEc2InstanceRole\n"
     ]
    },
    {
     "data": {
      "text/html": [
       "<div>\n",
       "<style scoped>\n",
       "    .dataframe tbody tr th:only-of-type {\n",
       "        vertical-align: middle;\n",
       "    }\n",
       "\n",
       "    .dataframe tbody tr th {\n",
       "        vertical-align: top;\n",
       "    }\n",
       "\n",
       "    .dataframe thead th {\n",
       "        text-align: right;\n",
       "    }\n",
       "</style>\n",
       "<table border=\"1\" class=\"dataframe\">\n",
       "  <thead>\n",
       "    <tr style=\"text-align: right;\">\n",
       "      <th></th>\n",
       "      <th>timestamp</th>\n",
       "      <th>metric_name</th>\n",
       "      <th>value</th>\n",
       "    </tr>\n",
       "  </thead>\n",
       "  <tbody>\n",
       "    <tr>\n",
       "      <th>0</th>\n",
       "      <td>0.0</td>\n",
       "      <td>test:binary_classification_accuracy</td>\n",
       "      <td>0.836842</td>\n",
       "    </tr>\n",
       "  </tbody>\n",
       "</table>\n",
       "</div>"
      ],
      "text/plain": [
       "   timestamp                          metric_name     value\n",
       "0        0.0  test:binary_classification_accuracy  0.836842"
      ]
     },
     "execution_count": 28,
     "metadata": {},
     "output_type": "execute_result"
    }
   ],
   "source": [
    "sagemaker.analytics.TrainingJobAnalytics(LL_estimator._current_job_name, \n",
    "                                         metric_names = ['test:binary_classification_accuracy']\n",
    "                                        ).dataframe()"
   ]
  },
  {
   "cell_type": "markdown",
   "metadata": {},
   "source": [
    "## 8. <a name=\"8\">Deploy the model to an endpoint</a>\n",
    "(<a href=\"#0\">Go to top</a>)\n",
    "\n",
    "\n",
    "We have successfully trained and tested our model. If happy with the performance, it is time to deploy the model to another instance of our choice. This will make it available as an endpoint, and allow us to use this model in production environment. \n",
    "\n",
    "Deployed endpoints can be used with other AWS Services such as Lambda and API Gateway. A nice walkthrough is available here: https://aws.amazon.com/blogs/machine-learning/call-an-amazon-sagemaker-model-endpoint-using-amazon-api-gateway-and-aws-lambda/ if you are interested.\n",
    "\n",
    "We use a `ml.t2.medium` instance here, but can also use other instance types such as:, `ml.c4.xlarge` etc. __This will take some time to complete (Approximately 7-8 minutes).__"
   ]
  },
  {
   "cell_type": "code",
   "execution_count": null,
   "metadata": {},
   "outputs": [
    {
     "name": "stderr",
     "output_type": "stream",
     "text": [
      "INFO:sagemaker.image_uris:Same images used for training and inference. Defaulting to image scope: inference.\n",
      "INFO:sagemaker.image_uris:Ignoring unnecessary instance type: None.\n",
      "INFO:sagemaker:Creating model with name: linear-learner-2023-01-25-22-17-03-929\n",
      "INFO:sagemaker:Creating endpoint-config with name endpoint-mla-tab-sm-2021\n",
      "INFO:sagemaker:Creating endpoint with name endpoint-mla-tab-sm-2021\n"
     ]
    },
    {
     "name": "stdout",
     "output_type": "stream",
     "text": [
      "-------------------!CPU times: user 357 ms, sys: 24.7 ms, total: 382 ms\n",
      "Wall time: 9min 32s\n"
     ]
    }
   ],
   "source": [
    "%%time\n",
    "LL_predictor = LL_estimator.deploy(initial_instance_count=1, \n",
    "                                   instance_type=\"ml.t2.medium\", \n",
    "                                   endpoint_name=\"endpoint-mla-tab-sm-2021\") # endpoint_name needs to be unique!"
   ]
  },
  {
   "cell_type": "markdown",
   "metadata": {},
   "source": [
    "## 9. <a name=\"9\">Test the endpoint</a>\n",
    "(<a href=\"#0\">Go to top</a>)\n",
    "\n",
    "Let's use the deployed endpoint. We send our test data and get predictions of it."
   ]
  },
  {
   "cell_type": "code",
   "execution_count": null,
   "metadata": {},
   "outputs": [
    {
     "name": "stdout",
     "output_type": "stream",
     "text": [
      "[0.545115053653717, 0.28601691126823425, 0.8915631771087646, 0.05337425693869591, 0.17029544711112976, 0.9116312265396118, 0.8337334990501404, 0.22468578815460205, 0.552979588508606, 0.372906893491745, 0.6871569752693176, 0.8934395909309387, 0.41955283284187317, 0.014058285392820835, 0.8213487267494202, 0.6929107904434204, 0.6369245052337646, 0.7243684530258179, 0.8217763900756836, 0.09132660925388336, 0.8964158892631531, 0.012170938774943352, 0.06405485421419144, 0.09367047250270844, 0.8822121024131775, 0.9093005061149597, 0.36285272240638733, 0.7455700635910034, 0.20728668570518494, 0.9267016649246216, 0.8113173842430115, 0.013262862339615822, 0.267618328332901, 0.23710069060325623, 0.0213407501578331, 0.6665073037147522, 0.07591342180967331, 0.11341212689876556, 0.4873511791229248, 0.7818674445152283, 0.8965710401535034, 0.3109228014945984, 0.36303016543388367, 0.8795691728591919, 0.6614788770675659, 0.9109481573104858, 0.011955870315432549, 0.07337693125009537, 0.5103865265846252, 0.6654406785964966, 0.2816893458366394, 0.14115849137306213, 0.703385055065155, 0.07624851912260056, 0.049207981675863266, 0.11273768544197083, 0.25487110018730164, 0.08673437684774399, 0.050067778676748276, 0.013508046045899391, 0.012218941934406757, 0.38850730657577515, 0.011045224964618683, 0.8798453211784363, 0.7291306853294373, 0.1282835453748703, 0.14970338344573975, 0.26956966519355774, 0.50459885597229, 0.899487316608429, 0.007799594663083553, 0.31941792368888855, 0.0432465523481369, 0.22478848695755005, 0.9262247085571289, 0.877608060836792, 0.9050115346908569, 0.05690274387598038, 0.035447631031274796, 0.0939355194568634, 0.004797183442860842, 0.768208920955658, 0.09020199626684189, 0.7696059346199036, 0.8963972926139832, 0.8976733088493347, 0.48247814178466797, 0.3921511173248291, 0.7145533561706543, 0.6325539350509644, 0.8999825716018677, 0.31160789728164673, 0.7830113172531128, 0.3746621608734131, 0.8958214521408081, 0.614947497844696, 0.5511378049850464, 0.8103914856910706, 0.6711793541908264, 0.6269745230674744, 0.758504331111908, 0.03870760276913643, 0.5515960454940796, 0.08748472481966019, 0.7579812407493591, 0.011961216107010841, 0.7752360701560974, 0.6618518829345703, 0.09126942604780197, 0.03727230057120323, 0.0685349628329277, 0.9111216068267822, 0.06270445883274078, 0.04870878905057907, 0.825619101524353, 0.15735416114330292, 0.9021157026290894, 0.0934484675526619, 0.34631407260894775, 0.08768557757139206, 0.9351028203964233, 0.19005391001701355, 0.8453940153121948, 0.8163946270942688, 0.7237022519111633, 0.010972821153700352, 0.011050273664295673, 0.03878335282206535, 0.6957637667655945, 0.8192102909088135, 0.6967554092407227, 0.33486321568489075, 0.7646101713180542, 0.7279455065727234, 0.06598975509405136, 0.920519232749939, 0.8499745726585388, 0.8154054284095764, 0.7752360701560974, 0.9144243597984314, 0.9363312125205994, 0.8314172625541687, 0.7434075474739075, 0.6893835663795471, 0.2228873074054718, 0.8825422525405884, 0.881034255027771, 0.8017517328262329, 0.8137974739074707, 0.17062728106975555, 0.6724055409431458, 0.9422497153282166, 0.287558913230896, 0.006192523054778576, 0.7186422348022461, 0.8266829252243042, 0.8475603461265564, 0.08713347464799881, 0.4845069944858551, 0.7400098443031311, 0.44472041726112366, 0.9059600830078125, 0.8266549110412598, 0.7357609868049622, 0.9376763105392456, 0.7470119595527649, 0.8413989543914795, 0.06814785301685333, 0.823003888130188, 0.5149344801902771, 0.07142692059278488, 0.8498822450637817, 0.6741350889205933, 0.03728434070944786, 0.8471783399581909, 0.8809359073638916, 0.02843431569635868, 0.012899388559162617, 0.8285049796104431, 0.023395482450723648, 0.05273628979921341, 0.670671284198761, 0.11481296271085739, 0.7976937294006348, 0.8308578133583069, 0.4634886085987091, 0.17646370828151703, 0.8331220746040344, 0.028796065598726273, 0.0071542346850037575, 0.7943044304847717, 0.9121760129928589, 0.8998292684555054, 0.5462583899497986, 0.09573741257190704, 0.6862242221832275, 0.3723331689834595, 0.6758599281311035, 0.08335724472999573, 0.4520931839942932, 0.837345540523529, 0.4813288450241089, 0.05825314298272133, 0.09608127921819687, 0.13471633195877075, 0.7141591906547546, 0.776603102684021, 0.8761100172996521, 0.17895109951496124, 0.9535174369812012, 0.21369394659996033, 0.8122127652168274, 0.6654406785964966, 0.880979061126709, 0.10076350718736649, 0.8750413060188293, 0.1850254237651825, 0.6724055409431458, 0.30710312724113464, 0.255685031414032, 0.4159294664859772, 0.16452857851982117, 0.6181454658508301, 0.8451265096664429, 0.9113096594810486, 0.08156536519527435, 0.8080711960792542, 0.2577182352542877, 0.7882068157196045, 0.5943893194198608, 0.6306853890419006, 0.6695627570152283, 0.11953055113554001, 0.9413334131240845, 0.010563747957348824, 0.920340359210968, 0.8290827870368958, 0.5442211031913757, 0.07364999502897263, 0.8630803823471069, 0.5387484431266785, 0.8969821929931641, 0.2083779126405716, 0.18617404997348785, 0.8908065557479858, 0.81113201379776, 0.579746425151825, 0.14368663728237152, 0.44224730134010315, 0.8262870907783508, 0.8025248646736145, 0.5543357729911804, 0.2996366620063782, 0.05015230178833008, 0.9313740730285645, 0.13153725862503052, 0.42202746868133545, 0.9290466904640198, 0.9042941927909851, 0.08511454612016678, 0.5422702431678772, 0.8555424809455872, 0.2151889204978943, 0.2522290349006653, 0.670671284198761, 0.08488992601633072, 0.7027497887611389, 0.6509882211685181, 0.4591810703277588, 0.8947297930717468, 0.9209500551223755, 0.7001413106918335, 0.5166388750076294, 0.26435062289237976, 0.9055459499359131, 0.7983997464179993, 0.03224126994609833, 0.5387484431266785, 0.5328819155693054, 0.07976347953081131, 0.5407229065895081, 0.8364238739013672, 0.7637036442756653, 0.8757895827293396, 0.03271942213177681, 0.8572300672531128, 0.004765983205288649, 0.8813175559043884, 0.4473262131214142, 0.6164407134056091, 0.842090904712677, 0.7634366154670715, 0.057558633387088776, 0.8644575476646423, 0.4517730176448822, 0.5599174499511719, 0.823835015296936, 0.7626665830612183, 0.09188269078731537, 0.010562526993453503, 0.05474275350570679, 0.023684877902269363, 0.29245850443840027, 0.8866453766822815, 0.06508514285087585, 0.6236356496810913, 0.9516254663467407, 0.9002051949501038, 0.32013964653015137, 0.6510694622993469, 0.004632122814655304, 0.7643225789070129, 0.14992065727710724, 0.7266664505004883, 0.6510127782821655, 0.8441930413246155, 0.08043520152568817, 0.8412565588951111, 0.06929957866668701, 0.07420157641172409, 0.8947818279266357, 0.08559674024581909, 0.0415169894695282, 0.9627183675765991, 0.2623187303543091, 0.848035454750061, 0.04429143667221069, 0.7642720341682434, 0.0914035439491272, 0.6727456450462341, 0.6482568383216858, 0.8122115135192871, 0.14528194069862366, 0.2883946895599365, 0.09100180119276047, 0.02654363214969635, 0.7448316812515259, 0.1234530657529831, 0.8409951329231262, 0.9025128483772278, 0.34538665413856506, 0.6765909194946289, 0.8319854140281677, 0.6755187511444092, 0.8758811354637146, 0.5442211031913757, 0.04119548201560974, 0.676783561706543, 0.6750611662864685, 0.2348250448703766, 0.06302593648433685, 0.012170938774943352, 0.8802608847618103, 0.9068692922592163, 0.6507862210273743, 0.8197640776634216, 0.6114929914474487, 0.4473729431629181, 0.012446646578609943, 0.1907685399055481, 0.9027619957923889, 0.04220369830727577, 0.18978038430213928, 0.8410782814025879, 0.599119246006012, 0.6111045479774475, 0.313755065202713, 0.5096096992492676, 0.8781502842903137, 0.3674003779888153, 0.8628775477409363, 0.6422362923622131, 0.8455367088317871, 0.7743620276451111, 0.50079345703125, 0.10901012271642685, 0.47645822167396545, 0.21919916570186615, 0.021752705797553062, 0.02184014581143856, 0.9647442102432251, 0.8541611433029175, 0.02502255327999592, 0.8909244537353516, 0.815737247467041, 0.10181675851345062, 0.8593723177909851, 0.8049238920211792, 0.6943064332008362, 0.031035056337714195, 0.24435265362262726, 0.0659252405166626, 0.5442211031913757, 0.8707785606384277, 0.25757625699043274, 0.09949245303869247, 0.31712135672569275, 0.078704334795475, 0.8023068308830261, 0.9076038002967834, 0.7538456916809082, 0.8935702443122864, 0.1363423615694046, 0.903298020362854, 0.8534821271896362, 0.8840601444244385, 0.6773189902305603, 0.2605302631855011, 0.18544620275497437, 0.910672128200531, 0.0688292384147644, 0.621788501739502, 0.27022138237953186, 0.7265439629554749, 0.8968708515167236, 0.09328069537878036, 0.874209463596344, 0.03840813785791397, 0.8481187224388123, 0.9464350938796997, 0.8345128893852234, 0.35941338539123535, 0.0792793333530426, 0.25691330432891846, 0.9248203635215759, 0.6946099996566772, 0.808903694152832, 0.2506091892719269, 0.2875351011753082, 0.6337479948997498, 0.06876695156097412, 0.7976462841033936, 0.09367047250270844, 0.014489171095192432, 0.6999455094337463, 0.0676875188946724, 0.670326292514801, 0.3943721652030945, 0.8758381605148315, 0.6568942666053772, 0.700052797794342, 0.3644007742404938, 0.45065492391586304, 0.5724242329597473, 0.28087514638900757, 0.6815897226333618, 0.05132051184773445, 0.6448447108268738, 0.8099398612976074, 0.8932362198829651, 0.7551524639129639, 0.4405667185783386, 0.8525320887565613, 0.8695891499519348, 0.8766584396362305, 0.7515569925308228, 0.23304101824760437, 0.5442211031913757, 0.32262659072875977, 0.16171570122241974, 0.9575315117835999, 0.8870345950126648, 0.7165374755859375, 0.8910329937934875, 0.9137696027755737, 0.3782784640789032, 0.8428109884262085, 0.09437132626771927, 0.8721413612365723, 0.6619307994842529, 0.8830265998840332, 0.6295602321624756, 0.8883825540542603, 0.5403180122375488, 0.07970240712165833, 0.1437537521123886, 0.036168962717056274, 0.7658094167709351, 0.059384219348430634, 0.6566634774208069, 0.9124651551246643, 0.70307457447052, 0.3049721419811249, 0.062115803360939026, 0.3568618595600128, 0.7366620302200317, 0.9008229970932007, 0.7515912652015686, 0.89546799659729, 0.6450840830802917, 0.010830298997461796, 0.38573306798934937, 0.8302115201950073, 0.13083533942699432, 0.10461316257715225, 0.8087056875228882, 0.03371733799576759, 0.9570604562759399, 0.2251829206943512, 0.8269239068031311, 0.14344806969165802, 0.6662757992744446, 0.6924216747283936, 0.8147256970405579, 0.011088844388723373, 0.9175546765327454, 0.14294876158237457, 0.960888683795929, 0.0871610939502716, 0.09456793963909149, 0.5967142581939697, 0.9195933938026428, 0.6217780113220215, 0.8928691148757935, 0.8462502360343933, 0.9265002012252808, 0.7093749046325684, 0.7688499689102173, 0.08831364661455154, 0.03425564244389534, 0.7636792063713074, 0.0954674780368805, 0.8332066535949707, 0.9075250625610352, 0.8986278176307678, 0.6036473512649536, 0.4274337887763977, 0.1154823824763298, 0.8251557350158691, 0.7676191329956055, 0.6724055409431458, 0.8896793723106384, 0.5344542264938354, 0.6416428089141846, 0.8444710373878479, 0.7799023389816284, 0.827477753162384, 0.8299367427825928, 0.07659630477428436, 0.8341463804244995, 0.9238899946212769, 0.010638664476573467, 0.7753692865371704, 0.011870418675243855, 0.743844211101532, 0.740668535232544, 0.5987069606781006, 0.9146999716758728, 0.03715747967362404, 0.4067816734313965, 0.7329797148704529, 0.03398972377181053, 0.8791760206222534, 0.9072380661964417, 0.7656462788581848, 0.42483463883399963, 0.9413371086120605, 0.8836498260498047, 0.43761011958122253, 0.08314540982246399, 0.330057829618454, 0.857059895992279, 0.3693635165691376, 0.8450832962989807, 0.22622637450695038, 0.26668453216552734, 0.6770223379135132, 0.6780186295509338, 0.1890885829925537, 0.6899155378341675, 0.7914671301841736, 0.05359825864434242, 0.8410176038742065, 0.19451585412025452, 0.6982219815254211, 0.9209287166595459, 0.8903474807739258, 0.5422702431678772, 0.011045224964618683, 0.7127493619918823, 0.14010801911354065, 0.7318722009658813, 0.09330366551876068, 0.07169744372367859, 0.17302079498767853, 0.22337336838245392, 0.03132921829819679, 0.9015429019927979, 0.5481188297271729, 0.8797388076782227, 0.8996772766113281, 0.9109987616539001, 0.04590778797864914, 0.07146309316158295, 0.05327058210968971, 0.6900103688240051, 0.7641555666923523, 0.8366307020187378, 0.04501695558428764, 0.2614203989505768, 0.8901264071464539, 0.9032082557678223, 0.8059101700782776, 0.05383509770035744, 0.5770680904388428, 0.3420979678630829, 0.19592170417308807, 0.7766937017440796, 0.014217064715921879, 0.006192523054778576, 0.006918869912624359, 0.04081851616501808, 0.5313705801963806, 0.6183691620826721, 0.8296467661857605, 0.2610377371311188, 0.42080146074295044, 0.6056084632873535, 0.0939631387591362, 0.7776833176612854, 0.8830265998840332, 0.07558202743530273, 0.802247941493988, 0.8483102321624756, 0.6232642531394958, 0.5446042418479919, 0.47129595279693604, 0.919554591178894, 0.133871391415596, 0.9104970693588257, 0.9061331152915955, 0.23229455947875977, 0.07672841101884842, 0.7865543365478516, 0.4125165343284607, 0.07106896489858627, 0.8432727456092834, 0.010922975838184357, 0.6762400269508362, 0.7640742659568787, 0.7089964747428894, 0.9201141595840454, 0.6100397109985352, 0.06940584629774094, 0.5481188297271729, 0.5504477620124817, 0.8101912140846252, 0.8851991295814514, 0.5378081202507019, 0.08286625891923904, 0.5446042418479919, 0.3627271056175232, 0.20901824533939362, 0.7862480878829956, 0.10916956514120102, 0.9082295298576355, 0.3729620575904846, 0.9089020490646362, 0.38654935359954834, 0.861054539680481, 0.90191251039505, 0.09778996556997299, 0.032158322632312775, 0.7649238705635071, 0.05476059392094612, 0.6564193964004517, 0.8979917764663696, 0.7446650266647339, 0.47148677706718445, 0.28425249457359314, 0.7645047903060913, 0.8949133157730103, 0.5795889496803284, 0.5348384976387024, 0.6791651248931885, 0.3666764199733734, 0.0120843555778265, 0.826930820941925, 0.6787398457527161, 0.028514595702290535, 0.519603431224823, 0.5195524096488953, 0.8443933725357056, 0.9027355909347534, 0.5689147710800171, 0.08588001132011414, 0.9650880694389343, 0.5934461951255798, 0.9339775443077087, 0.012258525937795639, 0.553472101688385, 0.7882131338119507, 0.8699948787689209, 0.799704372882843, 0.5328819155693054, 0.7543194890022278, 0.9025213122367859, 0.9442716240882874, 0.2605302631855011, 0.8840973377227783, 0.004949693102389574, 0.9046863913536072, 0.9042511582374573, 0.842191219329834, 0.7839864492416382, 0.897071123123169, 0.934776246547699, 0.014547469094395638, 0.8417601585388184, 0.08819568157196045, 0.6748202443122864, 0.29459652304649353, 0.01256066095083952, 0.8972713947296143, 0.6741350889205933, 0.8915442824363708, 0.007210299838334322, 0.028493717312812805, 0.5797706246376038, 0.7639122009277344, 0.7344119548797607, 0.5752798914909363, 0.976511538028717, 0.46486109495162964, 0.4790368676185608, 0.12721087038516998, 0.09222844988107681, 0.025409065186977386, 0.5519670844078064, 0.7536895275115967, 0.26349496841430664, 0.08884406834840775, 0.8786660432815552, 0.8442497253417969, 0.8867545127868652, 0.03614167869091034, 0.898133397102356, 0.7979663014411926, 0.9134576916694641, 0.9634524583816528, 0.5520840287208557, 0.21886895596981049, 0.776603102684021, 0.08600352704524994, 0.7959463000297546, 0.8597421050071716, 0.8242678642272949, 0.40469998121261597, 0.7002832293510437, 0.2942991256713867, 0.7329643368721008, 0.10044625401496887, 0.010563747957348824, 0.05124875158071518, 0.7705176472663879, 0.8974332213401794, 0.8205536007881165, 0.8198228478431702, 0.04556495323777199, 0.09311726689338684, 0.9314053058624268, 0.8974962830543518, 0.8795431852340698, 0.9111244678497314, 0.6742397546768188, 0.04870878905057907, 0.7313017845153809, 0.7620136737823486, 0.036860644817352295, 0.938323974609375, 0.47621867060661316, 0.08962354063987732, 0.8204006552696228, 0.6407400965690613, 0.6758599281311035, 0.9168189167976379, 0.8192083239555359, 0.1723545342683792, 0.029585368931293488, 0.5676620602607727, 0.8477854132652283, 0.9119613170623779, 0.28153061866760254, 0.8864198923110962, 0.7990254759788513, 0.05737801641225815, 0.07311537861824036, 0.6758599281311035, 0.012241707183420658, 0.6365453004837036, 0.8040561676025391, 0.08142189681529999, 0.7352967262268066, 0.970729649066925, 0.16446064412593842, 0.869151771068573, 0.24281533062458038, 0.6758599281311035, 0.9133636951446533, 0.9689263701438904, 0.02061438374221325, 0.041432663798332214, 0.08739761263132095, 0.7290133237838745, 0.8310887217521667, 0.03400639444589615, 0.7220001220703125, 0.6183440685272217, 0.006237359717488289, 0.06661774963140488, 0.20587801933288574, 0.5379918217658997, 0.8830265998840332, 0.03467327728867531, 0.1948847472667694, 0.9189057350158691, 0.08176086097955704, 0.5589292645454407, 0.9067996740341187, 0.7390903234481812, 0.9077831506729126, 0.913106381893158, 0.5364099740982056, 0.9339560270309448, 0.8432193994522095, 0.906211793422699, 0.8382107019424438, 0.37375882267951965, 0.16372688114643097, 0.7637036442756653, 0.8711307048797607, 0.003885203506797552, 0.8762816190719604, 0.9472270607948303, 0.894344687461853, 0.7524919509887695, 0.03005106747150421, 0.031961873173713684, 0.8903474807739258, 0.7960887551307678, 0.8309938907623291, 0.8033323884010315, 0.2044488787651062, 0.009079625830054283, 0.13471536338329315, 0.806900680065155, 0.7739794850349426, 0.36012184619903564, 0.789482831954956, 0.286073237657547, 0.0045275031588971615, 0.6756621599197388, 0.012637831270694733, 0.6112043261528015, 0.5886614322662354, 0.6830457448959351, 0.04065951704978943, 0.011955948546528816, 0.0766015499830246, 0.8264417052268982, 0.9246159791946411, 0.9123436212539673, 0.8428856730461121, 0.873493492603302, 0.9060974717140198, 0.3794199824333191, 0.9486653208732605, 0.3273039162158966, 0.6758599281311035, 0.6654406785964966, 0.589826226234436, 0.2620478570461273, 0.010044347494840622, 0.45262178778648376, 0.8786660432815552, 0.7360279560089111, 0.9355838894844055, 0.9194267392158508, 0.8200374841690063, 0.9655877351760864, 0.8903474807739258, 0.005596899893134832, 0.9256047606468201, 0.6016502976417542, 0.6878620386123657, 0.14953787624835968, 0.9812028408050537, 0.6111281514167786, 0.8296467661857605, 0.03678153455257416, 0.5932902693748474, 0.46508902311325073, 0.27402177453041077, 0.06270445883274078, 0.05803322046995163, 0.5799397230148315, 0.6512471437454224, 0.31097742915153503, 0.6692743301391602, 0.593289315700531, 0.2821047902107239, 0.06939220428466797, 0.8379873037338257, 0.9272646307945251, 0.2017025202512741, 0.06808891892433167, 0.5934017896652222, 0.9017354846000671, 0.3916786313056946, 0.6420992612838745, 0.026345595717430115, 0.8472704887390137, 0.8763524889945984, 0.09435677528381348, 0.2631949782371521, 0.4671713411808014, 0.10731040686368942, 0.5461706519126892, 0.5674427151679993, 0.8490607142448425, 0.8677243590354919, 0.012076769955456257, 0.12336204200983047, 0.9057971239089966, 0.4758279621601105, 0.8628975749015808, 0.03834237903356552, 0.7493525147438049, 0.8590524792671204, 0.06374698877334595, 0.7442223429679871, 0.6587377786636353, 0.01081154216080904, 0.08502823114395142, 0.7360743284225464, 0.892444908618927, 0.8189956545829773, 0.28250032663345337, 0.3742642104625702, 0.6077136993408203, 0.7333670854568481, 0.6263387203216553, 0.06270445883274078, 0.04565787315368652, 0.8321353793144226, 0.7167426943778992, 0.09283529222011566, 0.2620801627635956, 0.012170938774943352, 0.0049111186526715755, 0.7694875001907349, 0.11940744519233704, 0.740382730960846, 0.09233152121305466, 0.27821463346481323, 0.9232133030891418, 0.7259266376495361, 0.5858991146087646, 0.6582872867584229, 0.6752001047134399, 0.6416546702384949, 0.5545827150344849, 0.7228590250015259, 0.7683120965957642, 0.9201846122741699, 0.26269403100013733, 0.4149284362792969, 0.822873592376709, 0.7820435166358948, 0.9064805507659912, 0.9192742109298706, 0.8496626615524292, 0.5129650831222534, 0.9053297638893127, 0.32053643465042114, 0.8799983263015747, 0.903298020362854, 0.9629326462745667, 0.7534664273262024, 0.039992280304431915, 0.836281955242157, 0.855828046798706, 0.049068331718444824, 0.6692743301391602, 0.2972773611545563, 0.5364099740982056, 0.05567115917801857, 0.08797238022089005, 0.904260516166687, 0.61253821849823, 0.14640681445598602, 0.7816458940505981, 0.12381074577569962, 0.7038352489471436, 0.11231501400470734, 0.804597795009613, 0.7416673302650452, 0.10656297951936722, 0.9438477158546448, 0.11520078778266907, 0.7640867829322815, 0.012076769955456257, 0.8429784774780273, 0.5404292941093445, 0.6960614323616028, 0.8464415073394775, 0.05289526656270027, 0.48996084928512573, 0.8285326361656189, 0.759505033493042, 0.4852013885974884, 0.23494121432304382, 0.8835242986679077, 0.2796132266521454, 0.8263927698135376, 0.06529449671506882, 0.15790784358978271, 0.08858897536993027, 0.8927937746047974, 0.06387016922235489, 0.7667433023452759, 0.09439080208539963, 0.22478848695755005, 0.6981364488601685, 0.8728191256523132, 0.029585368931293488, 0.024378960952162743, 0.20167326927185059, 0.6758599281311035, 0.9101810455322266, 0.8410186767578125, 0.13845065236091614, 0.9693080186843872, 0.6977941989898682, 0.010180949233472347, 0.06423249840736389, 0.09135164320468903, 0.44864970445632935, 0.9032801985740662, 0.6813411116600037, 0.6131591200828552, 0.2514369785785675, 0.0695001482963562, 0.6661108136177063, 0.731256902217865, 0.039176229387521744, 0.8816978931427002, 0.22179082036018372, 0.6259943842887878, 0.07671772688627243, 0.9093641638755798, 0.6004799604415894, 0.740382730960846, 0.716557502746582, 0.9336479902267456, 0.6260280609130859, 0.6269745230674744, 0.7301684617996216, 0.04220980033278465, 0.8804200887680054, 0.03624508157372475, 0.011131205596029758, 0.07539521902799606, 0.06283299624919891, 0.5485013723373413, 0.010336368344724178, 0.0836763083934784, 0.8777211308479309, 0.8997658491134644, 0.8556151390075684, 0.7421033382415771, 0.8241854906082153, 0.8443933725357056, 0.660515546798706, 0.8346713185310364, 0.561066746711731, 0.8609166145324707, 0.6099467277526855, 0.0392560176551342, 0.5461706519126892, 0.6808174848556519, 0.6483030319213867, 0.8285326361656189, 0.11648090183734894, 0.8444845676422119, 0.815737247467041, 0.07494620233774185, 0.7054986953735352, 0.9095510244369507, 0.3291309177875519, 0.8302092552185059, 0.7128727436065674, 0.012076769955456257, 0.020132847130298615, 0.12890975177288055, 0.9803707599639893, 0.35092005133628845, 0.7506337761878967, 0.030561000108718872, 0.8740847706794739, 0.6767793297767639, 0.14735671877861023, 0.7269256114959717, 0.17402283847332, 0.8813270330429077, 0.6724055409431458, 0.8472704887390137, 0.11481296271085739, 0.31112492084503174, 0.41773056983947754, 0.09185158461332321, 0.16383665800094604, 0.6682689785957336, 0.8518259525299072, 0.9095699787139893, 0.17120963335037231, 0.11560125648975372, 0.7666142582893372, 0.904787003993988, 0.6902855634689331, 0.8606820106506348, 0.9008427262306213, 0.8972871899604797, 0.6855499148368835, 0.8750547170639038, 0.3342631459236145, 0.8437315225601196, 0.6847454905509949, 0.764482319355011, 0.005280477460473776, 0.7402584552764893, 0.7023618221282959, 0.7328346967697144, 0.8015443682670593, 0.04584602639079094, 0.755753219127655, 0.9355838894844055, 0.11405067890882492, 0.048778630793094635, 0.4998433589935303, 0.7587379217147827, 0.9349700212478638, 0.8964511752128601, 0.8864448666572571, 0.8941246867179871, 0.6741350889205933, 0.6724055409431458, 0.8346290588378906, 0.7804900407791138, 0.7416752576828003, 0.6625760197639465, 0.8068472146987915, 0.893254816532135, 0.670671284198761, 0.7535656094551086, 0.05168094113469124, 0.8214797377586365, 0.47219496965408325, 0.6568313241004944, 0.6578279733657837, 0.36414042115211487, 0.9094357490539551, 0.18918302655220032, 0.23212619125843048, 0.9095463752746582, 0.12122873961925507, 0.817653477191925, 0.11182308197021484, 0.0999024286866188, 0.237722709774971, 0.8585435748100281, 0.9046356081962585, 0.3347572386264801, 0.6673846244812012, 0.928537130355835, 0.8443709015846252, 0.023042915388941765, 0.8751694560050964, 0.6979796886444092, 0.5982152223587036, 0.07401087135076523, 0.45854130387306213, 0.3136564791202545, 0.7748625874519348, 0.8685805797576904, 0.19005852937698364, 0.9062990546226501, 0.8213982582092285, 0.07938338071107864, 0.0071542346850037575, 0.23167784512043, 0.8549530506134033, 0.8307825326919556, 0.8930511474609375, 0.2714722752571106, 0.029524849727749825, 0.7360743284225464, 0.09347400069236755, 0.43743467330932617, 0.7036635279655457, 0.04128490760922432, 0.9142891764640808, 0.27800384163856506, 0.7270932793617249, 0.7483256459236145, 0.8476570248603821, 0.7186305522918701, 0.6605039834976196, 0.6759060025215149, 0.6518783569335938, 0.6317644119262695, 0.6160870790481567, 0.36501017212867737, 0.6694929599761963, 0.27284112572669983, 0.9265002012252808, 0.7125977277755737, 0.7581935524940491, 0.3347572386264801, 0.8985979557037354, 0.7715861201286316, 0.3393933176994324, 0.8226199746131897, 0.8654413819313049, 0.6813411116600037, 0.40942344069480896, 0.6804941296577454, 0.6264752745628357, 0.12023665010929108, 0.5917039513587952, 0.5802722573280334, 0.6758599281311035, 0.7579502463340759, 0.0682368129491806, 0.863095223903656, 0.027267716825008392, 0.06467842310667038, 0.3783961534500122, 0.21966254711151123, 0.10720045864582062, 0.6830457448959351, 0.878825843334198, 0.9085915684700012, 0.21686215698719025, 0.9232133030891418, 0.10902821272611618, 0.07405517995357513, 0.6509498953819275, 0.8472704887390137, 0.6179929375648499, 0.5266212821006775, 0.700052797794342, 0.03276550769805908, 0.09607305377721786, 0.47249019145965576, 0.743511438369751, 0.2986401319503784, 0.8307825326919556, 0.35941338539123535, 0.07035324722528458, 0.20375986397266388, 0.5473087430000305, 0.6712210774421692, 0.8306916952133179, 0.8891600370407104, 0.8559700846672058, 0.6637315154075623, 0.9526006579399109, 0.5911577343940735, 0.6739825010299683, 0.8825095295906067, 0.8928804993629456, 0.8762465715408325, 0.012186514213681221, 0.3316795825958252, 0.9278856515884399, 0.8453166484832764, 0.4471243917942047, 0.831220805644989, 0.6434574723243713, 0.869061291217804, 0.6779173016548157, 0.6816483736038208, 0.005696143954992294, 0.7003318071365356, 0.7261257767677307, 0.9253943562507629, 0.9068573117256165, 0.7930367588996887, 0.6817259788513184, 0.4519330561161041, 0.8195441365242004, 0.5557525753974915, 0.8372777700424194, 0.9399139285087585, 0.3997592031955719, 0.561892569065094, 0.8979518413543701, 0.37004008889198303, 0.6659690737724304, 0.2717505097389221, 0.8501538038253784, 0.08308947831392288, 0.0855179876089096, 0.042148664593696594, 0.33898279070854187, 0.6624735593795776, 0.9241181015968323, 0.06832703202962875, 0.038673702627420425, 0.07671772688627243, 0.20312973856925964, 0.6933057308197021, 0.634547233581543, 0.037637241184711456, 0.004765983205288649, 0.16752924025058746, 0.2098393440246582, 0.7215144038200378, 0.5344542264938354, 0.3048741817474365, 0.880454421043396, 0.047997500747442245, 0.29143622517585754, 0.5917039513587952, 0.09135164320468903, 0.8248990774154663, 0.9277746677398682, 0.3967629671096802, 0.7554901242256165, 0.5926403999328613, 0.759505033493042, 0.09077449887990952, 0.9105188846588135, 0.8126320242881775, 0.8704811334609985, 0.8246760964393616, 0.21372759342193604, 0.9124651551246643, 0.9074575901031494, 0.8591543436050415, 0.9108346700668335, 0.3036896884441376, 0.12023665010929108, 0.014645484276115894, 0.1330212652683258, 0.7745715379714966, 0.4527818560600281, 0.9158297181129456, 0.08488992601633072, 0.03754188492894173, 0.7916527390480042, 0.7680769562721252, 0.7365235686302185, 0.30321046710014343, 0.5629851222038269, 0.6465756893157959, 0.6329444050788879, 0.916215717792511, 0.6997131705284119, 0.6734011769294739, 0.7125462293624878, 0.694858193397522, 0.08752300590276718, 0.006192523054778576, 0.004814970772713423, 0.7566433548927307, 0.07754857838153839, 0.8002439737319946, 0.14221689105033875, 0.8462874889373779, 0.8758759498596191, 0.5084346532821655, 0.9034237265586853, 0.10758814215660095, 0.7389681339263916, 0.034263480454683304, 0.6685432195663452, 0.8984405994415283, 0.7340085506439209, 0.747353732585907, 0.07931818813085556, 0.07349806278944016, 0.7030200958251953, 0.8477028608322144, 0.5485013723373413, 0.9188939929008484, 0.598198652267456, 0.9612724184989929, 0.0741468071937561, 0.8453717827796936, 0.514299213886261, 0.7594206929206848, 0.886449933052063, 0.8898518085479736, 0.09613995254039764, 0.8534678816795349, 0.67447429895401, 0.7647374272346497, 0.00701543502509594, 0.8006309270858765, 0.007297532167285681, 0.9108583927154541, 0.9067996740341187, 0.5481188297271729, 0.030736206099390984, 0.7172904014587402, 0.7973229885101318, 0.4481554627418518, 0.10222805291414261, 0.8911966681480408, 0.4349393844604492, 0.1827143430709839, 0.06600488722324371, 0.03811022639274597, 0.5523888468742371, 0.041051093488931656, 0.5854372382164001, 0.04359947517514229, 0.9190196394920349, 0.20223166048526764, 0.016118157655000687, 0.934268057346344, 0.30014923214912415, 0.044087886810302734, 0.22123363614082336, 0.29450422525405884, 0.9288341999053955, 0.6146498322486877, 0.6793149709701538, 0.7755353450775146, 0.5738880038261414, 0.7902172207832336, 0.07538381963968277, 0.45963314175605774, 0.0385894738137722, 0.6847454905509949, 0.7856926918029785, 0.05685792863368988, 0.8659648895263672, 0.6601691246032715, 0.9621039032936096, 0.8664342164993286, 0.5772777199745178, 0.158838152885437, 0.6323336958885193, 0.8617005348205566, 0.9062644243240356, 0.49056899547576904, 0.8954182863235474, 0.945765495300293, 0.03512115776538849, 0.04613475874066353, 0.5871151685714722, 0.0049111186526715755, 0.7641732692718506, 0.24330823123455048, 0.2345956414937973, 0.03603658825159073, 0.7735923528671265, 0.0049111186526715755, 0.05417549982666969, 0.8201454281806946, 0.7640867829322815, 0.13590924441814423, 0.6179929375648499, 0.89201420545578, 0.6758599281311035, 0.9029674530029297, 0.12779830396175385, 0.36456313729286194, 0.11928383260965347, 0.3729487657546997, 0.8896593451499939, 0.08220840245485306, 0.03189396485686302, 0.9061331152915955, 0.5760270357131958, 0.7753732204437256, 0.3478332459926605, 0.5966960191726685, 0.09599879384040833, 0.7709971070289612, 0.7429889440536499, 0.6998594403266907, 0.8574488162994385, 0.04732779040932655, 0.9184931516647339, 0.38112589716911316, 0.39051342010498047, 0.8903536200523376, 0.9161605834960938, 0.8204533457756042, 0.09121584892272949, 0.0116873849183321, 0.7442747354507446, 0.9157847166061401, 0.6774539351463318, 0.08545556664466858, 0.01555009838193655, 0.06385830044746399, 0.5143136382102966, 0.5980165600776672, 0.37049752473831177, 0.7998567223548889, 0.7861313819885254, 0.7381285429000854, 0.22869795560836792, 0.7396743297576904, 0.9108548760414124, 0.9102758765220642, 0.8327460885047913, 0.03349360078573227, 0.03960592299699783, 0.8789044618606567, 0.061519555747509, 0.7697086930274963, 0.17265844345092773, 0.04257376864552498, 0.059532321989536285, 0.5254067182540894, 0.8853458762168884, 0.8308835625648499, 0.07774310559034348, 0.3390108346939087, 0.09272559732198715, 0.9187825918197632, 0.02995879389345646, 0.49342745542526245, 0.8911316394805908, 0.8221936821937561, 0.9277932047843933, 0.7668059468269348, 0.7930367588996887, 0.07588621228933334, 0.7821210622787476, 0.7854612469673157, 0.3889058530330658, 0.01193478237837553, 0.838740348815918, 0.8779932260513306, 0.8432607650756836, 0.8127321004867554, 0.9355149269104004, 0.7017158269882202, 0.06933432072401047, 0.9299849271774292, 0.5588096380233765, 0.6601691246032715, 0.08404994755983353, 0.8323007822036743, 0.6680176854133606, 0.10562809556722641, 0.8183547258377075, 0.7725271582603455, 0.9122155904769897, 0.8985979557037354, 0.9432165622711182, 0.8690248131752014, 0.9282047748565674, 0.25966766476631165, 0.5704936385154724, 0.04884142801165581, 0.6813411116600037, 0.597887396812439, 0.15087710320949554, 0.6788316369056702, 0.07671772688627243, 0.746645450592041, 0.833533763885498, 0.21894477307796478, 0.7758520245552063, 0.08426041156053543, 0.6362161636352539, 0.12250730395317078, 0.013695137575268745, 0.5465534925460815, 0.7814764976501465, 0.11991604417562485, 0.06214956194162369, 0.10960093140602112, 0.8251378536224365, 0.6107973456382751, 0.6296117305755615, 0.5595182776451111, 0.06929317861795425, 0.8088700771331787, 0.8863216638565063, 0.9334896802902222, 0.5959839224815369, 0.2611047327518463, 0.01085934229195118, 0.6241768002510071, 0.8345128893852234, 0.8927659392356873, 0.8551638722419739, 0.9543397426605225, 0.30285167694091797, 0.21706905961036682, 0.9078072309494019, 0.03462125360965729, 0.7273930311203003, 0.8472704887390137, 0.9163166880607605, 0.5073610544204712, 0.8830381631851196, 0.5461706519126892, 0.8308578133583069, 0.12174060940742493, 0.756514847278595, 0.8999389410018921, 0.31310799717903137, 0.9238077998161316, 0.8520122170448303, 0.7738631367683411, 0.9145593047142029, 0.2629413306713104, 0.7354592084884644, 0.22762490808963776, 0.8288743495941162, 0.2204611897468567, 0.03510785102844238, 0.7274032235145569, 0.7676191329956055, 0.8775888681411743, 0.04222721979022026, 0.5543357729911804, 0.9034237265586853, 0.31882646679878235, 0.9781392216682434, 0.16084399819374084, 0.827404797077179, 0.3024958074092865, 0.38846850395202637, 0.7402584552764893, 0.8763463497161865, 0.8447653651237488, 0.07801896333694458, 0.14501100778579712, 0.24224220216274261, 0.03788755089044571, 0.9055269360542297, 0.9297307133674622, 0.7648887038230896, 0.050032999366521835, 0.030846966430544853, 0.5182169079780579, 0.6055785417556763, 0.006643872242420912, 0.4709058701992035, 0.8705740571022034, 0.3044692277908325, 0.2381976842880249, 0.14658187329769135, 0.6807194352149963, 0.7622818946838379, 0.7845098972320557, 0.6251490116119385, 0.6156891584396362, 0.9565631151199341, 0.20040123164653778, 0.8263351917266846, 0.8487832546234131, 0.5258532166481018, 0.8138262629508972, 0.7192100286483765, 0.9143463969230652, 0.8584417700767517, 0.66826993227005, 0.8504003882408142, 0.4843456447124481, 0.08433838933706284, 0.004949693102389574, 0.004074464086443186, 0.9225960969924927, 0.6293190717697144, 0.37429511547088623, 0.5422702431678772, 0.588423490524292, 0.45113810896873474, 0.11300262808799744, 0.06209823489189148, 0.6199377179145813, 0.17226237058639526, 0.9061331152915955, 0.07173939794301987, 0.004789168015122414, 0.9681704044342041, 0.6521821022033691, 0.7940607070922852, 0.5088885426521301, 0.8268746733665466, 0.7729403972625732, 0.7865543365478516, 0.0056304787285625935, 0.08748438209295273, 0.7569987177848816, 0.4513373374938965, 0.32216235995292664, 0.568079948425293, 0.4527818560600281, 0.6161731481552124, 0.04464411735534668, 0.7705157995223999, 0.2419220358133316, 0.788428783416748, 0.005582076963037252, 0.6758599281311035, 0.5776091814041138, 0.7199881076812744, 0.6355026960372925, 0.711730420589447, 0.8823375701904297, 0.0905081257224083, 0.8264910578727722, 0.6382013559341431, 0.6741350889205933, 0.48239144682884216, 0.8378869295120239, 0.8421180248260498, 0.9495054483413696, 0.36200547218322754, 0.7287561893463135, 0.7998142838478088, 0.7892785668373108, 0.8390050530433655, 0.5494739413261414, 0.9424259662628174, 0.901523232460022, 0.8381100296974182, 0.46189823746681213, 0.06988801062107086, 0.8476317524909973, 0.49547284841537476, 0.538364589214325, 0.5344542264938354, 0.9526779055595398, 0.8127143383026123, 0.7000790238380432, 0.4051870107650757, 0.007852284237742424, 0.8871188163757324, 0.7579812407493591, 0.8913409113883972, 0.038451679050922394, 0.03719976916909218, 0.7954540848731995, 0.09011330455541611, 0.734019935131073, 0.18607494235038757, 0.8758317828178406, 0.8616958856582642, 0.3789215087890625, 0.9321946501731873, 0.06986035406589508, 0.7699823379516602, 0.0928761214017868, 0.5520645976066589, 0.5442211031913757, 0.9409123659133911, 0.09908311814069748, 0.009239417500793934, 0.030672134831547737, 0.8987096548080444, 0.9251940846443176, 0.8762953281402588, 0.9060036540031433, 0.060304272919893265, 0.04081561043858528, 0.9013460874557495, 0.8578984141349792, 0.786754310131073, 0.029265478253364563, 0.03179057314991951, 0.7592537999153137, 0.007238881662487984, 0.46714267134666443, 0.831521213054657, 0.4973606467247009, 0.2698596715927124, 0.6559758186340332, 0.03192457556724548, 0.9134112596511841, 0.9561460614204407, 0.8470767736434937, 0.6389445066452026, 0.700052797794342, 0.9649459719657898, 0.8251378536224365, 0.4248368740081787, 0.8477404713630676, 0.8692306876182556, 0.05818624794483185, 0.07990306615829468, 0.9164754748344421, 0.9247899651527405, 0.8899365663528442, 0.853583574295044, 0.5052298903465271, 0.009259099140763283, 0.6729467511177063, 0.9010365605354309, 0.7499669194221497, 0.7164925932884216, 0.9241089224815369, 0.34424200654029846, 0.007495592813938856, 0.0688292384147644, 0.9061331152915955, 0.06414764374494553, 0.1067369133234024, 0.2720755934715271, 0.08788448572158813, 0.6779173016548157, 0.8412336111068726, 0.7588932514190674, 0.8804904818534851, 0.9319538474082947, 0.09592024236917496, 0.7687550187110901, 0.903235673904419, 0.630805492401123, 0.653245747089386, 0.0367426723241806, 0.5338971614837646, 0.21670246124267578, 0.1864750236272812, 0.8186593055725098, 0.034868206828832626, 0.5098074674606323, 0.038200922310352325, 0.05553523078560829, 0.013462225906550884, 0.17343130707740784, 0.8479772210121155, 0.8822121024131775, 0.5157008171081543, 0.8475431799888611, 0.12707018852233887, 0.05224614217877388, 0.8431561589241028, 0.27018189430236816, 0.7032501697540283, 0.08064863085746765, 0.8449001312255859, 0.8779799938201904, 0.12258374691009521, 0.943483829498291, 0.058208126574754715, 0.5964921116828918, 0.3218279480934143, 0.670671284198761, 0.6882704496383667, 0.5348384976387024, 0.7504258751869202, 0.8341367244720459, 0.9098383784294128, 0.6486331820487976, 0.08831364661455154, 0.890673041343689, 0.8565143942832947, 0.7786603569984436, 0.04235299304127693, 0.68767911195755, 0.8450710773468018, 0.2605302631855011, 0.7634366154670715, 0.6484857201576233, 0.20031864941120148, 0.9204971194267273, 0.0071542346850037575, 0.5543357729911804, 0.18299181759357452, 0.8978513479232788, 0.7394132018089294, 0.7969449162483215, 0.8457696437835693, 0.7648887038230896, 0.7824030518531799, 0.8346906900405884, 0.8081325888633728, 0.2795841693878174, 0.5461706519126892, 0.6958252191543579, 0.6236689686775208, 0.03128064051270485, 0.33735817670822144, 0.1279844492673874, 0.8748120665550232, 0.6770790815353394, 0.2555176019668579, 0.8345265984535217, 0.9126566648483276, 0.33277004957199097, 0.8205978274345398, 0.8472704887390137, 0.9450445771217346, 0.5938405394554138, 0.13053029775619507, 0.7681711316108704, 0.4112636148929596, 0.26694387197494507, 0.557600736618042, 0.8155139684677124, 0.03425564244389534, 0.2021653801202774, 0.23852598667144775, 0.753296971321106, 0.8651108741760254, 0.8763872385025024]\n"
     ]
    }
   ],
   "source": [
    "# Get test data in batch size of 5 and make predictions.\n",
    "prediction_batches = [LL_predictor.predict(batch) for batch in np.array_split(X_test.astype(\"float32\"), 5)]\n",
    "\n",
    "# Get a list of predictions\n",
    "print([pred.label['score'].float32_tensor.values[0] for pred in prediction_batches[0]])\n"
   ]
  },
  {
   "cell_type": "markdown",
   "metadata": {},
   "source": [
    "## 10. <a name=\"10\">Clean up model artifacts</a>\n",
    "(<a href=\"#0\">Go to top</a>)\n",
    "\n",
    "If you're ready to be done with this notebook, please run the cell below. This will remove the hosted endpoint you created and avoid any charges from a stray instance being left on."
   ]
  },
  {
   "cell_type": "code",
   "execution_count": null,
   "metadata": {},
   "outputs": [
    {
     "name": "stderr",
     "output_type": "stream",
     "text": [
      "INFO:sagemaker:Deleting endpoint configuration with name: endpoint-mla-tab-sm-2021\n",
      "INFO:sagemaker:Deleting endpoint with name: endpoint-mla-tab-sm-2021\n"
     ]
    }
   ],
   "source": [
    "LL_predictor.delete_endpoint()"
   ]
  }
 ],
 "metadata": {
  "kernelspec": {
   "display_name": "conda_pytorch_p39",
   "language": "python",
   "name": "conda_pytorch_p39"
  },
  "language_info": {
   "codemirror_mode": {
    "name": "ipython",
    "version": 3
   },
   "file_extension": ".py",
   "mimetype": "text/x-python",
   "name": "python",
   "nbconvert_exporter": "python",
   "pygments_lexer": "ipython3",
   "version": "3.9.13"
  }
 },
 "nbformat": 4,
 "nbformat_minor": 4
}
