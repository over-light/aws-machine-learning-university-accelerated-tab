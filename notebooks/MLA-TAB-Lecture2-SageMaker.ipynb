{
 "cells": [
  {
   "cell_type": "markdown",
   "metadata": {},
   "source": [
    "![MLU Logo](../data/MLU_Logo.png)"
   ]
  },
  {
   "cell_type": "markdown",
   "metadata": {},
   "source": [
    "# <a name=\"0\">Machine Learning Accelerator - Tabular Data - Lecture 2</a>\n",
    "\n",
    "\n",
    "## SageMaker build-in LinearLearner\n",
    "\n",
    "In this notebook, we use Sagemaker's built-in machine learning model __LinearLearner__ to predict the __Outcome Type__ field of our review dataset.\n",
    "\n",
    "__Notes on AWS SageMaker__\n",
    "\n",
    "* Fully managed machine learning service, to quickly and easily get you started on building and training machine learning models - we have seen that already! Integrated Jupyter notebook instances, with easy access to data sources for exploration and analysis, abstract away many of the messy infrastructural details needed for hands-on ML - you don't have to manage servers, install libraries/dependencies, etc.!\n",
    "\n",
    "\n",
    "* Apart from easily building end-to-end machine learning models in SageMaker notebooks, like we did so far, SageMaker also provides a few __build-in common machine learning algorithms__ (check \"SageMaker Examples\" from your SageMaker instance top menu for a complete updated list) that are optimized to run efficiently against extremely large data in a distributed environment. __LinearLearner__ build-in algorithm in SageMaker is extremely fast at inference and can be trained at scale, in mini-batch fashion over GPU(s). The trained model can then be directly deployed into a production-ready hosted environment for easy access at inference. \n",
    "\n",
    "\n",
    "1. <a href=\"#1\">Read the dataset</a>\n",
    "2. <a href=\"#2\">Exploratory Data Analysis</a>\n",
    "3. <a href=\"#3\">Select features to build the model</a>\n",
    "4. <a href=\"#4\">Training and test datasets</a>\n",
    "5. <a href=\"#5\">Data processing with Pipeline and ColumnTransformer</a>\n",
    "6. <a href=\"#6\">Train a classifier with SageMaker build-in algorithm</a>\n",
    "7. <a href=\"#7\">Model evaluation</a>\n",
    "8. <a href=\"#8\">Deploy the model to an endpoint</a>\n",
    "9. <a href=\"#9\">Test the enpoint</a>\n",
    "10. <a href=\"#10\">Clean up model artifacts</a>\n",
    "\n",
    "__Austin Animal Center Dataset__:\n",
    "\n",
    "In this exercise, we are working with pet adoption data from __Austin Animal Center__. We have two datasets that cover intake and outcome of animals. Intake data is available from [here](https://data.austintexas.gov/Health-and-Community-Services/Austin-Animal-Center-Intakes/wter-evkm) and outcome is from [here](https://data.austintexas.gov/Health-and-Community-Services/Austin-Animal-Center-Outcomes/9t4d-g238). \n",
    "\n",
    "In order to work with a single table, we joined the intake and outcome tables using the \"Animal ID\" column and created a single __review.csv__ file. We also didn't consider animals with multiple entries to the facility to keep our dataset simple. If you want to see the original datasets and the merged data with multiple entries, they are available under data/review folder: Austin_Animal_Center_Intakes.csv, Austin_Animal_Center_Outcomes.csv and Austin_Animal_Center_Intakes_Outcomes.csv.\n",
    "\n",
    "__Dataset schema:__ \n",
    "- __Pet ID__ - Unique ID of pet\n",
    "- __Outcome Type__ - State of pet at the time of recording the outcome (0 = not placed, 1 = placed). This is the field to predict.\n",
    "- __Sex upon Outcome__ - Sex of pet at outcome\n",
    "- __Name__ - Name of pet \n",
    "- __Found Location__ - Found location of pet before entered the center\n",
    "- __Intake Type__ - Circumstances bringing the pet to the center\n",
    "- __Intake Condition__ - Health condition of pet when entered the center\n",
    "- __Pet Type__ - Type of pet\n",
    "- __Sex upon Intake__ - Sex of pet when entered the center\n",
    "- __Breed__ - Breed of pet \n",
    "- __Color__ - Color of pet \n",
    "- __Age upon Intake Days__ - Age of pet when entered the center (days)\n",
    "- __Age upon Outcome Days__ - Age of pet at outcome (days)"
   ]
  },
  {
   "cell_type": "code",
   "execution_count": 1,
   "metadata": {},
   "outputs": [],
   "source": [
    "! pip install -q -r ../requirements.txt"
   ]
  },
  {
   "cell_type": "markdown",
   "metadata": {},
   "source": [
    "## 1. <a name=\"1\">Read the dataset</a>\n",
    "(<a href=\"#0\">Go to top</a>)\n",
    "\n",
    "Let's read the dataset into a dataframe, using Pandas."
   ]
  },
  {
   "cell_type": "code",
   "execution_count": 2,
   "metadata": {},
   "outputs": [
    {
     "name": "stdout",
     "output_type": "stream",
     "text": [
      "The shape of the dataset is: (95485, 13)\n"
     ]
    }
   ],
   "source": [
    "import pandas as pd\n",
    "\n",
    "import warnings\n",
    "warnings.filterwarnings(\"ignore\")\n",
    "  \n",
    "df = pd.read_csv('../data/review/review_dataset.csv')\n",
    "\n",
    "print('The shape of the dataset is:', df.shape)"
   ]
  },
  {
   "cell_type": "markdown",
   "metadata": {},
   "source": [
    "## 2. <a name=\"2\">Exploratory Data Analysis</a>\n",
    "(<a href=\"#0\">Go to top</a>)\n",
    "\n",
    "We will look at number of rows, columns and some simple statistics of the dataset."
   ]
  },
  {
   "cell_type": "code",
   "execution_count": 3,
   "metadata": {},
   "outputs": [
    {
     "data": {
      "text/html": [
       "<div>\n",
       "<style scoped>\n",
       "    .dataframe tbody tr th:only-of-type {\n",
       "        vertical-align: middle;\n",
       "    }\n",
       "\n",
       "    .dataframe tbody tr th {\n",
       "        vertical-align: top;\n",
       "    }\n",
       "\n",
       "    .dataframe thead th {\n",
       "        text-align: right;\n",
       "    }\n",
       "</style>\n",
       "<table border=\"1\" class=\"dataframe\">\n",
       "  <thead>\n",
       "    <tr style=\"text-align: right;\">\n",
       "      <th></th>\n",
       "      <th>Pet ID</th>\n",
       "      <th>Outcome Type</th>\n",
       "      <th>Sex upon Outcome</th>\n",
       "      <th>Name</th>\n",
       "      <th>Found Location</th>\n",
       "      <th>Intake Type</th>\n",
       "      <th>Intake Condition</th>\n",
       "      <th>Pet Type</th>\n",
       "      <th>Sex upon Intake</th>\n",
       "      <th>Breed</th>\n",
       "      <th>Color</th>\n",
       "      <th>Age upon Intake Days</th>\n",
       "      <th>Age upon Outcome Days</th>\n",
       "    </tr>\n",
       "  </thead>\n",
       "  <tbody>\n",
       "    <tr>\n",
       "      <th>0</th>\n",
       "      <td>A794011</td>\n",
       "      <td>1.0</td>\n",
       "      <td>Neutered Male</td>\n",
       "      <td>Chunk</td>\n",
       "      <td>Austin (TX)</td>\n",
       "      <td>Owner Surrender</td>\n",
       "      <td>Normal</td>\n",
       "      <td>Cat</td>\n",
       "      <td>Neutered Male</td>\n",
       "      <td>Domestic Shorthair Mix</td>\n",
       "      <td>Brown Tabby/White</td>\n",
       "      <td>730</td>\n",
       "      <td>730</td>\n",
       "    </tr>\n",
       "    <tr>\n",
       "      <th>1</th>\n",
       "      <td>A776359</td>\n",
       "      <td>1.0</td>\n",
       "      <td>Neutered Male</td>\n",
       "      <td>Gizmo</td>\n",
       "      <td>7201 Levander Loop in Austin (TX)</td>\n",
       "      <td>Stray</td>\n",
       "      <td>Normal</td>\n",
       "      <td>Dog</td>\n",
       "      <td>Intact Male</td>\n",
       "      <td>Chihuahua Shorthair Mix</td>\n",
       "      <td>White/Brown</td>\n",
       "      <td>365</td>\n",
       "      <td>365</td>\n",
       "    </tr>\n",
       "    <tr>\n",
       "      <th>2</th>\n",
       "      <td>A674754</td>\n",
       "      <td>0.0</td>\n",
       "      <td>Intact Male</td>\n",
       "      <td>NaN</td>\n",
       "      <td>12034 Research in Austin (TX)</td>\n",
       "      <td>Stray</td>\n",
       "      <td>Nursing</td>\n",
       "      <td>Cat</td>\n",
       "      <td>Intact Male</td>\n",
       "      <td>Domestic Shorthair Mix</td>\n",
       "      <td>Orange Tabby</td>\n",
       "      <td>6</td>\n",
       "      <td>6</td>\n",
       "    </tr>\n",
       "    <tr>\n",
       "      <th>3</th>\n",
       "      <td>A689724</td>\n",
       "      <td>1.0</td>\n",
       "      <td>Neutered Male</td>\n",
       "      <td>*Donatello</td>\n",
       "      <td>2300 Waterway Bnd in Austin (TX)</td>\n",
       "      <td>Stray</td>\n",
       "      <td>Normal</td>\n",
       "      <td>Cat</td>\n",
       "      <td>Intact Male</td>\n",
       "      <td>Domestic Shorthair Mix</td>\n",
       "      <td>Black</td>\n",
       "      <td>60</td>\n",
       "      <td>60</td>\n",
       "    </tr>\n",
       "    <tr>\n",
       "      <th>4</th>\n",
       "      <td>A680969</td>\n",
       "      <td>1.0</td>\n",
       "      <td>Neutered Male</td>\n",
       "      <td>*Zeus</td>\n",
       "      <td>4701 Staggerbrush Rd in Austin (TX)</td>\n",
       "      <td>Stray</td>\n",
       "      <td>Nursing</td>\n",
       "      <td>Cat</td>\n",
       "      <td>Intact Male</td>\n",
       "      <td>Domestic Shorthair Mix</td>\n",
       "      <td>White/Orange Tabby</td>\n",
       "      <td>7</td>\n",
       "      <td>60</td>\n",
       "    </tr>\n",
       "  </tbody>\n",
       "</table>\n",
       "</div>"
      ],
      "text/plain": [
       "    Pet ID  Outcome Type Sex upon Outcome        Name  \\\n",
       "0  A794011           1.0    Neutered Male       Chunk   \n",
       "1  A776359           1.0    Neutered Male       Gizmo   \n",
       "2  A674754           0.0      Intact Male         NaN   \n",
       "3  A689724           1.0    Neutered Male  *Donatello   \n",
       "4  A680969           1.0    Neutered Male       *Zeus   \n",
       "\n",
       "                        Found Location      Intake Type Intake Condition  \\\n",
       "0                          Austin (TX)  Owner Surrender           Normal   \n",
       "1    7201 Levander Loop in Austin (TX)            Stray           Normal   \n",
       "2        12034 Research in Austin (TX)            Stray          Nursing   \n",
       "3     2300 Waterway Bnd in Austin (TX)            Stray           Normal   \n",
       "4  4701 Staggerbrush Rd in Austin (TX)            Stray          Nursing   \n",
       "\n",
       "  Pet Type Sex upon Intake                    Breed               Color  \\\n",
       "0      Cat   Neutered Male   Domestic Shorthair Mix   Brown Tabby/White   \n",
       "1      Dog     Intact Male  Chihuahua Shorthair Mix         White/Brown   \n",
       "2      Cat     Intact Male   Domestic Shorthair Mix        Orange Tabby   \n",
       "3      Cat     Intact Male   Domestic Shorthair Mix               Black   \n",
       "4      Cat     Intact Male   Domestic Shorthair Mix  White/Orange Tabby   \n",
       "\n",
       "   Age upon Intake Days  Age upon Outcome Days  \n",
       "0                   730                    730  \n",
       "1                   365                    365  \n",
       "2                     6                      6  \n",
       "3                    60                     60  \n",
       "4                     7                     60  "
      ]
     },
     "execution_count": 3,
     "metadata": {},
     "output_type": "execute_result"
    }
   ],
   "source": [
    "# Print the first five rows\n",
    "# NaN means missing data\n",
    "df.head()"
   ]
  },
  {
   "cell_type": "code",
   "execution_count": 4,
   "metadata": {},
   "outputs": [
    {
     "name": "stdout",
     "output_type": "stream",
     "text": [
      "<class 'pandas.core.frame.DataFrame'>\n",
      "RangeIndex: 95485 entries, 0 to 95484\n",
      "Data columns (total 13 columns):\n",
      " #   Column                 Non-Null Count  Dtype  \n",
      "---  ------                 --------------  -----  \n",
      " 0   Pet ID                 95485 non-null  object \n",
      " 1   Outcome Type           95485 non-null  float64\n",
      " 2   Sex upon Outcome       95484 non-null  object \n",
      " 3   Name                   59138 non-null  object \n",
      " 4   Found Location         95485 non-null  object \n",
      " 5   Intake Type            95485 non-null  object \n",
      " 6   Intake Condition       95485 non-null  object \n",
      " 7   Pet Type               95485 non-null  object \n",
      " 8   Sex upon Intake        95484 non-null  object \n",
      " 9   Breed                  95485 non-null  object \n",
      " 10  Color                  95485 non-null  object \n",
      " 11  Age upon Intake Days   95485 non-null  int64  \n",
      " 12  Age upon Outcome Days  95485 non-null  int64  \n",
      "dtypes: float64(1), int64(2), object(10)\n",
      "memory usage: 9.5+ MB\n"
     ]
    }
   ],
   "source": [
    "# Let's see the data types and non-null values for each column\n",
    "df.info()"
   ]
  },
  {
   "cell_type": "code",
   "execution_count": 5,
   "metadata": {},
   "outputs": [
    {
     "data": {
      "text/html": [
       "<div>\n",
       "<style scoped>\n",
       "    .dataframe tbody tr th:only-of-type {\n",
       "        vertical-align: middle;\n",
       "    }\n",
       "\n",
       "    .dataframe tbody tr th {\n",
       "        vertical-align: top;\n",
       "    }\n",
       "\n",
       "    .dataframe thead th {\n",
       "        text-align: right;\n",
       "    }\n",
       "</style>\n",
       "<table border=\"1\" class=\"dataframe\">\n",
       "  <thead>\n",
       "    <tr style=\"text-align: right;\">\n",
       "      <th></th>\n",
       "      <th>Outcome Type</th>\n",
       "      <th>Age upon Intake Days</th>\n",
       "      <th>Age upon Outcome Days</th>\n",
       "    </tr>\n",
       "  </thead>\n",
       "  <tbody>\n",
       "    <tr>\n",
       "      <th>count</th>\n",
       "      <td>95485.000000</td>\n",
       "      <td>95485.000000</td>\n",
       "      <td>95485.000000</td>\n",
       "    </tr>\n",
       "    <tr>\n",
       "      <th>mean</th>\n",
       "      <td>0.564005</td>\n",
       "      <td>703.436959</td>\n",
       "      <td>717.757313</td>\n",
       "    </tr>\n",
       "    <tr>\n",
       "      <th>std</th>\n",
       "      <td>0.495889</td>\n",
       "      <td>1052.252197</td>\n",
       "      <td>1055.023160</td>\n",
       "    </tr>\n",
       "    <tr>\n",
       "      <th>min</th>\n",
       "      <td>0.000000</td>\n",
       "      <td>0.000000</td>\n",
       "      <td>0.000000</td>\n",
       "    </tr>\n",
       "    <tr>\n",
       "      <th>25%</th>\n",
       "      <td>0.000000</td>\n",
       "      <td>30.000000</td>\n",
       "      <td>60.000000</td>\n",
       "    </tr>\n",
       "    <tr>\n",
       "      <th>50%</th>\n",
       "      <td>1.000000</td>\n",
       "      <td>365.000000</td>\n",
       "      <td>365.000000</td>\n",
       "    </tr>\n",
       "    <tr>\n",
       "      <th>75%</th>\n",
       "      <td>1.000000</td>\n",
       "      <td>730.000000</td>\n",
       "      <td>730.000000</td>\n",
       "    </tr>\n",
       "    <tr>\n",
       "      <th>max</th>\n",
       "      <td>1.000000</td>\n",
       "      <td>9125.000000</td>\n",
       "      <td>9125.000000</td>\n",
       "    </tr>\n",
       "  </tbody>\n",
       "</table>\n",
       "</div>"
      ],
      "text/plain": [
       "       Outcome Type  Age upon Intake Days  Age upon Outcome Days\n",
       "count  95485.000000          95485.000000           95485.000000\n",
       "mean       0.564005            703.436959             717.757313\n",
       "std        0.495889           1052.252197            1055.023160\n",
       "min        0.000000              0.000000               0.000000\n",
       "25%        0.000000             30.000000              60.000000\n",
       "50%        1.000000            365.000000             365.000000\n",
       "75%        1.000000            730.000000             730.000000\n",
       "max        1.000000           9125.000000            9125.000000"
      ]
     },
     "execution_count": 5,
     "metadata": {},
     "output_type": "execute_result"
    }
   ],
   "source": [
    "# This prints basic statistics for numerical columns\n",
    "df.describe()"
   ]
  },
  {
   "cell_type": "markdown",
   "metadata": {},
   "source": [
    "Let's separate model features and model target. "
   ]
  },
  {
   "cell_type": "code",
   "execution_count": 6,
   "metadata": {},
   "outputs": [
    {
     "name": "stdout",
     "output_type": "stream",
     "text": [
      "Index(['Pet ID', 'Outcome Type', 'Sex upon Outcome', 'Name', 'Found Location',\n",
      "       'Intake Type', 'Intake Condition', 'Pet Type', 'Sex upon Intake',\n",
      "       'Breed', 'Color', 'Age upon Intake Days', 'Age upon Outcome Days'],\n",
      "      dtype='object')\n"
     ]
    }
   ],
   "source": [
    "print(df.columns)"
   ]
  },
  {
   "cell_type": "code",
   "execution_count": 7,
   "metadata": {},
   "outputs": [
    {
     "name": "stdout",
     "output_type": "stream",
     "text": [
      "Model features:  Index(['Pet ID', 'Sex upon Outcome', 'Name', 'Found Location', 'Intake Type',\n",
      "       'Intake Condition', 'Pet Type', 'Sex upon Intake', 'Breed', 'Color',\n",
      "       'Age upon Intake Days', 'Age upon Outcome Days'],\n",
      "      dtype='object')\n",
      "Model target:  Outcome Type\n"
     ]
    }
   ],
   "source": [
    "model_features = df.columns.drop('Outcome Type')\n",
    "model_target = 'Outcome Type'\n",
    "\n",
    "print('Model features: ', model_features)\n",
    "print('Model target: ', model_target)"
   ]
  },
  {
   "cell_type": "markdown",
   "metadata": {},
   "source": [
    "We can explore the features set further, figuring out first what features are numerical or categorical. Beware that some integer-valued features could actually be categorical features, and some categorical features could be text features. "
   ]
  },
  {
   "cell_type": "code",
   "execution_count": 8,
   "metadata": {},
   "outputs": [
    {
     "name": "stdout",
     "output_type": "stream",
     "text": [
      "Numerical columns: Index(['Age upon Intake Days', 'Age upon Outcome Days'], dtype='object')\n",
      "\n",
      "Categorical columns: Index(['Pet ID', 'Sex upon Outcome', 'Name', 'Found Location', 'Intake Type',\n",
      "       'Intake Condition', 'Pet Type', 'Sex upon Intake', 'Breed', 'Color'],\n",
      "      dtype='object')\n"
     ]
    }
   ],
   "source": [
    "import numpy as np\n",
    "numerical_features_all = df[model_features].select_dtypes(include=np.number).columns\n",
    "print('Numerical columns:',numerical_features_all)\n",
    "\n",
    "print('')\n",
    "\n",
    "categorical_features_all = df[model_features].select_dtypes(include='object').columns\n",
    "print('Categorical columns:',categorical_features_all)\n"
   ]
  },
  {
   "cell_type": "markdown",
   "metadata": {},
   "source": [
    "#### Target distribution\n",
    "\n",
    "Let's check our target distribution."
   ]
  },
  {
   "cell_type": "code",
   "execution_count": 9,
   "metadata": {
    "scrolled": true
   },
   "outputs": [
    {
     "data": {
      "image/png": "[encoded data removed]",
      "text/plain": [
       "<Figure size 432x288 with 1 Axes>"
      ]
     },
     "metadata": {
      "needs_background": "light"
     },
     "output_type": "display_data"
    }
   ],
   "source": [
    "import matplotlib.pyplot as plt\n",
    "%matplotlib inline\n",
    "\n",
    "df[model_target].value_counts().plot.bar()\n",
    "plt.show()"
   ]
  },
  {
   "cell_type": "markdown",
   "metadata": {},
   "source": [
    "From the target plots we can identify whether or not we are dealing with imbalanced datasets - this means one result type is dominating the other one(s). \n",
    "\n",
    "Handling class imbalance is highly recommended, as the model performance can be greatly impacted. In particular the model may not work well for the infrequent classes, as there are not enough samples to learn patterns from, and so it would be hard for the classifier to identify and match those patterns. \n",
    "\n",
    "We might want to downsample the dominant class or upsample the rare the class, to help with learning its patterns. However, we should only fix the imbalance in training set, without changing the validation and test sets, as these should follow the original distribution. We will perform this task after train/test split. \n"
   ]
  },
  {
   "cell_type": "markdown",
   "metadata": {},
   "source": [
    "## 3. <a name=\"3\">Select features to build the model</a>\n",
    "(<a href=\"#0\">Go to top</a>)\n",
    "\n",
    "This time we build a model using all features. That is, we build a classifier including __numerical, categorical__ and __text__ features. "
   ]
  },
  {
   "cell_type": "code",
   "execution_count": 10,
   "metadata": {},
   "outputs": [],
   "source": [
    "# Grab model features/inputs and target/output\n",
    "\n",
    "# can also grab less numerical features, as some numerical data might not be very useful\n",
    "numerical_features = ['Age upon Intake Days', 'Age upon Outcome Days']\n",
    "\n",
    "# dropping the IDs features, RescuerID and PetID here \n",
    "categorical_features = ['Sex upon Outcome', 'Intake Type',\n",
    "       'Intake Condition', 'Pet Type', 'Sex upon Intake']\n",
    "\n",
    "# from EDA, select the text features\n",
    "text_features = ['Name', 'Found Location', 'Breed', 'Color']\n",
    "    \n",
    "model_features = numerical_features + categorical_features + text_features\n",
    "model_target = 'Outcome Type'"
   ]
  },
  {
   "cell_type": "markdown",
   "metadata": {},
   "source": [
    "#### Cleaning numerical features "
   ]
  },
  {
   "cell_type": "code",
   "execution_count": 11,
   "metadata": {},
   "outputs": [
    {
     "name": "stdout",
     "output_type": "stream",
     "text": [
      "Age upon Intake Days\n"
     ]
    },
    {
     "data": {
      "image/png": "[encoded data removed]",
      "text/plain": [
       "<Figure size 432x288 with 1 Axes>"
      ]
     },
     "metadata": {
      "needs_background": "light"
     },
     "output_type": "display_data"
    },
    {
     "name": "stdout",
     "output_type": "stream",
     "text": [
      "Age upon Outcome Days\n"
     ]
    },
    {
     "data": {
      "image/png": "[encoded data removed]",
      "text/plain": [
       "<Figure size 432x288 with 1 Axes>"
      ]
     },
     "metadata": {
      "needs_background": "light"
     },
     "output_type": "display_data"
    }
   ],
   "source": [
    "import matplotlib.pyplot as plt\n",
    "%matplotlib inline\n",
    "\n",
    "for c in numerical_features:\n",
    "    print(c)\n",
    "    df[c].plot.hist(bins=5)\n",
    "    plt.show()"
   ]
  },
  {
   "cell_type": "markdown",
   "metadata": {},
   "source": [
    "If for some histograms the values are heavily placed in the first bin, it is good to check for outliers, either checking the min-max values of those particular features and/or explore value ranges."
   ]
  },
  {
   "cell_type": "code",
   "execution_count": 12,
   "metadata": {},
   "outputs": [
    {
     "name": "stdout",
     "output_type": "stream",
     "text": [
      "Age upon Intake Days\n",
      "min: 0 max: 9125\n",
      "Age upon Outcome Days\n",
      "min: 0 max: 9125\n"
     ]
    }
   ],
   "source": [
    "for c in numerical_features:\n",
    "    print(c)\n",
    "    print('min:', df[c].min(), 'max:', df[c].max())"
   ]
  },
  {
   "cell_type": "markdown",
   "metadata": {},
   "source": [
    "With __value_counts()__ function, we can increase the number of histogram bins to 10 for more bins for a more refined view of the numerical features."
   ]
  },
  {
   "cell_type": "code",
   "execution_count": 13,
   "metadata": {},
   "outputs": [
    {
     "name": "stdout",
     "output_type": "stream",
     "text": [
      "Age upon Intake Days\n",
      "(-9.126, 912.5]     74835\n",
      "(912.5, 1825.0]     10647\n",
      "(1825.0, 2737.5]     3471\n",
      "(2737.5, 3650.0]     3998\n",
      "(3650.0, 4562.5]     1234\n",
      "(4562.5, 5475.0]     1031\n",
      "(5475.0, 6387.5]      183\n",
      "(6387.5, 7300.0]       79\n",
      "(7300.0, 8212.5]        5\n",
      "(8212.5, 9125.0]        2\n",
      "Name: Age upon Intake Days, dtype: int64\n",
      "Age upon Outcome Days\n",
      "(-9.126, 912.5]     74642\n",
      "(912.5, 1825.0]     10699\n",
      "(1825.0, 2737.5]     3465\n",
      "(2737.5, 3650.0]     4080\n",
      "(3650.0, 4562.5]     1263\n",
      "(4562.5, 5475.0]     1061\n",
      "(5475.0, 6387.5]      187\n",
      "(6387.5, 7300.0]       81\n",
      "(7300.0, 8212.5]        5\n",
      "(8212.5, 9125.0]        2\n",
      "Name: Age upon Outcome Days, dtype: int64\n"
     ]
    }
   ],
   "source": [
    "for c in numerical_features: \n",
    "    print(c)\n",
    "    print(df[c].value_counts(bins=10, sort=False))\n",
    "    plt.show()"
   ]
  },
  {
   "cell_type": "markdown",
   "metadata": {},
   "source": [
    "If any outliers are identified as very likely wrong values, dropping them could improve the numerical values histograms, and later overall model performance. While a good rule of thumb is that anything not in the range of (Q1 - 1.5 IQR) and (Q3 + 1.5 IQR) is an outlier, other rules for removing 'outliers' should be considered as well. "
   ]
  },
  {
   "cell_type": "markdown",
   "metadata": {},
   "source": [
    "Let's check missing values for these numerical features."
   ]
  },
  {
   "cell_type": "code",
   "execution_count": 14,
   "metadata": {},
   "outputs": [
    {
     "name": "stdout",
     "output_type": "stream",
     "text": [
      "Age upon Intake Days     0\n",
      "Age upon Outcome Days    0\n",
      "dtype: int64\n"
     ]
    }
   ],
   "source": [
    "print(df[numerical_features].isna().sum())"
   ]
  },
  {
   "cell_type": "markdown",
   "metadata": {},
   "source": [
    "If any missing values, as a quick fix, we can apply mean imputation. This will replace the missing values with the mean value of the corresponding column.\n",
    "\n",
    "__Note__: The statistically correct way to perform mean/mode imputation before training an ML model is to compute the column-wise means on the training data only, and then use these values to impute missing data in both the train and test sets. So, you'll need to split your dataset first. Same goes for any other transformations we would like to apply to these numerical features, such as scaling. \n"
   ]
  },
  {
   "cell_type": "markdown",
   "metadata": {},
   "source": [
    "#### Cleaning categorical features \n",
    "\n",
    "Let's also examine the categorical features."
   ]
  },
  {
   "cell_type": "code",
   "execution_count": 15,
   "metadata": {},
   "outputs": [
    {
     "name": "stdout",
     "output_type": "stream",
     "text": [
      "Sex upon Outcome\n",
      "['Neutered Male' 'Intact Male' 'Intact Female' 'Unknown' 'Spayed Female'\n",
      " nan]\n",
      "Intake Type\n",
      "['Owner Surrender' 'Stray' 'Wildlife' 'Public Assist' 'Euthanasia Request'\n",
      " 'Abandoned']\n",
      "Intake Condition\n",
      "['Normal' 'Nursing' 'Sick' 'Injured' 'Aged' 'Feral' 'Pregnant' 'Other'\n",
      " 'Behavior' 'Medical']\n",
      "Pet Type\n",
      "['Cat' 'Dog' 'Other' 'Bird' 'Livestock']\n",
      "Sex upon Intake\n",
      "['Neutered Male' 'Intact Male' 'Intact Female' 'Unknown' 'Spayed Female'\n",
      " nan]\n"
     ]
    }
   ],
   "source": [
    "for c in categorical_features:\n",
    "    print(c)\n",
    "    print(df[c].unique()) #value_counts())"
   ]
  },
  {
   "cell_type": "markdown",
   "metadata": {},
   "source": [
    "__Note on boolean type features__: Some categories might be of boolean type, like __False__ and __True__. The booleans will raise errors when trying to encode the categoricals with sklearn encoders, none of which accept boolean types. If using pandas get_dummies to one-hot encode the categoricals, there's no need to convert the booleans. However, get_dummies is trickier to use with sklearn's Pipeline and GridSearch. \n",
    "\n",
    "One way to deal with the booleans is to convert them to strings, by using a mask and a map changing only the booleans. Another way to handle the booleans is to convert them to strings by changing the type of all categoricals to 'str'. This will also affect the nans, basically performing imputation of the nans with a 'nans' placeholder value! \n",
    "\n",
    "Applying the type conversion to both categoricals and text features, takes care of the nans in the text fields as well. In case other imputations are planned for the categoricals and/or test fields, notice that the masking shown above leaves the nans unchanged."
   ]
  },
  {
   "cell_type": "code",
   "execution_count": 16,
   "metadata": {},
   "outputs": [],
   "source": [
    "df[categorical_features + text_features] = df[categorical_features + text_features].astype('str')"
   ]
  },
  {
   "cell_type": "markdown",
   "metadata": {},
   "source": [
    "Let's have a check on missing values for the categorical features (and text features here)."
   ]
  },
  {
   "cell_type": "code",
   "execution_count": 17,
   "metadata": {},
   "outputs": [
    {
     "name": "stdout",
     "output_type": "stream",
     "text": [
      "Sex upon Outcome    0\n",
      "Intake Type         0\n",
      "Intake Condition    0\n",
      "Pet Type            0\n",
      "Sex upon Intake     0\n",
      "Name                0\n",
      "Found Location      0\n",
      "Breed               0\n",
      "Color               0\n",
      "dtype: int64\n"
     ]
    }
   ],
   "source": [
    "print(df[categorical_features + text_features].isna().sum())"
   ]
  },
  {
   "cell_type": "markdown",
   "metadata": {},
   "source": [
    "Converting categoricals into useful numerical features will also have to wait until after the train/test split."
   ]
  },
  {
   "cell_type": "markdown",
   "metadata": {},
   "source": [
    "#### Cleaning text features \n",
    "\n",
    "Also a good idea to look at the text fields. Text cleaning can be performed here, before train/test split, with less code. "
   ]
  },
  {
   "cell_type": "code",
   "execution_count": 18,
   "metadata": {},
   "outputs": [
    {
     "name": "stdout",
     "output_type": "stream",
     "text": [
      "Name\n",
      "['Chunk' 'Gizmo' 'nan' ... '*Lingonberry' 'Guawp' '*Squanchy']\n",
      "Found Location\n",
      "['Austin (TX)' '7201 Levander Loop in Austin (TX)'\n",
      " '12034 Research in Austin (TX)' ... '4612 Sherwyn Drive in Austin (TX)'\n",
      " '16010 Voelker Ln in Austin (TX)' '2211 Santa Rita Street in Austin (TX)']\n",
      "Breed\n",
      "['Domestic Shorthair Mix' 'Chihuahua Shorthair Mix' 'Domestic Shorthair'\n",
      " ... 'Unknown' 'Bichon Frise/Lhasa Apso' 'Treeing Cur']\n",
      "Color\n",
      "['Brown Tabby/White' 'White/Brown' 'Orange Tabby' 'Black'\n",
      " 'White/Orange Tabby' 'Blue/White' 'Brown Tabby' 'Gray' 'Calico'\n",
      " 'Brown/Black' 'White/Tan' 'White' 'Brown' 'Black/White' 'Brown/White'\n",
      " 'Black/Brown' 'Chocolate/White' 'Red' 'White/White' 'Brown Brindle/White'\n",
      " 'Gray/Black' 'Tortie' 'Tan' 'White/Blue Tabby' 'Brown/Brown' 'Black/Gray'\n",
      " 'Blue' 'Cream Tabby' 'Brown/Gray' 'Blue Tabby/White' 'Red/White'\n",
      " 'Orange Tabby/White' 'Brown Merle/White' 'Tricolor' 'Apricot' 'Black/Tan'\n",
      " 'Tortie Point' 'Tan/Black' 'Torbie/Brown Tabby' 'White/Black'\n",
      " 'Blue Tabby' 'Blue Tick' 'White/Gray' 'Black/Tricolor' 'Chocolate/Tan'\n",
      " 'White/Brown Tabby' 'White/Brown Brindle' 'Lynx Point' 'Buff' 'Torbie'\n",
      " 'White/Buff' 'Brown Brindle' 'Cream' 'White/Blue' 'Blue/Tan'\n",
      " 'Black Brindle/White' 'Black/Yellow Brindle' 'Chocolate/Black'\n",
      " 'Black/Red' 'Fawn/White' 'Chocolate' 'Blue/Brown Brindle' 'Tan/White'\n",
      " 'Cream Tabby/White' 'Tan/Gray' 'Sable' 'Red/Buff' 'Blue Merle'\n",
      " 'Lynx Point/White' 'Yellow' 'Black/Brown Brindle' 'Brown/Tan'\n",
      " 'Silver Tabby' 'White/Red' 'Brown/Orange' 'Tricolor/White' 'Sable/Black'\n",
      " 'Gray/White' 'Orange/White' 'Brown Tiger/Brown' 'Brown Tabby/Black'\n",
      " 'Torbie/White' 'Yellow Brindle' 'Cream/White' 'Brown Brindle/Black'\n",
      " 'Black/Chocolate' 'Gold/White' 'White/Orange' 'Black Tabby'\n",
      " 'Tricolor/Brown' 'Seal Point/Gray' 'White/Tricolor' 'Silver/Tan'\n",
      " 'Gray Tabby/White' 'Black Brindle' 'Brown/Tricolor' 'Black Tabby/White'\n",
      " 'Yellow/White' 'Cream/Black' 'Gray/Tortie' 'Flame Point' 'Sable/White'\n",
      " 'Seal Point' 'Chocolate Point' 'Red/Tan' 'Gray/Tan' 'Calico Point/Gray'\n",
      " 'Black/Black' 'Red/Cream' 'White/Red Merle' 'Tortie/White' 'Red/Black'\n",
      " 'Green/Silver' 'Brown/Red' 'Gray Tabby' 'Green/Gray' 'Gray/Brown'\n",
      " 'Gray/Blue Merle' 'White/Blue Merle' 'Blue Cream' 'Silver Tabby/White'\n",
      " 'Black/Cream' 'Lilac Point' 'Gray Tabby/Black' 'Brown Merle' 'Gold/Cream'\n",
      " 'Gold' 'Blue Merle/Tricolor' 'Buff/White' 'White/Cream' 'Red Merle/White'\n",
      " 'Fawn/Black' 'Yellow/Yellow' 'Sable/Brown' 'Black/Black Tabby'\n",
      " 'White/Gray Tabby' 'Calico/White' 'Tricolor/Black' 'Fawn' 'Blue/Blue'\n",
      " 'White/Chocolate' 'Tan/Fawn' 'Blue Merle/White' 'Lynx Point/Blue'\n",
      " 'Blue Merle/Brown' 'Blue Merle/Tan' 'White/Seal Point' 'Liver/Tan'\n",
      " 'Blue Point/White' 'Liver/White' 'Chocolate Point/White' 'Gray/Pink'\n",
      " 'Black Brindle/Blue' 'Black Smoke' 'Brown Brindle/Red Tick' 'Cream/Brown'\n",
      " 'Black/Blue Tick' 'Red Tick/Blue Tick' 'White/Yellow' 'Orange'\n",
      " 'Torbie/Brown' 'Sable/Tan' 'Yellow Brindle/White' 'Gray/Orange'\n",
      " 'Calico Point' 'Red Tick' 'White/Red Tick' 'Blue Tick/Tan' 'Brown/Cream'\n",
      " 'Cream/Tan' 'Tan/Brown' 'Buff/Brown' 'Tan/Tan' 'Chocolate/Tricolor'\n",
      " 'Calico Point/White' 'Brown Brindle/Brown Brindle' 'Green/Brown'\n",
      " 'Black/Silver' 'White/Calico' 'Brown/Chocolate' 'Cream/Silver'\n",
      " 'White/Brown Merle' 'Red/Brown' 'White/Fawn' 'White/Gray Tiger'\n",
      " 'Tan/Gold' 'Tan/Red' 'Tan/Silver' 'Lilac Point/White' 'Buff/Black'\n",
      " 'Cream/Brown Merle' 'White/Black Brindle' 'Silver' 'Lilac Point/Gray'\n",
      " 'Black Smoke/White' 'Pink' 'Blue Tick/Tricolor' 'Blue Tick/Black'\n",
      " 'Seal Point/White' 'Blue Point' 'Silver/Brown' 'Fawn/Brown'\n",
      " 'Black Brindle/Brown' 'Blue Merle/Black' 'Blue Cream/White'\n",
      " 'White/Blue Cream' 'Gray/Gray' 'Tortie/Tortie' 'Green' 'Brown/Buff'\n",
      " 'Chocolate/Brown Tabby' 'Tortie/Blue Cream' 'Brown/Fawn' 'White/Tortie'\n",
      " 'Orange Tabby/Orange Tabby' 'Tortie/Black' 'White/Cream Tabby'\n",
      " 'Tan/Cream' 'Red/Yellow' 'Blue/Tortie' 'Lynx Point/Brown Tabby'\n",
      " 'Black Tabby/Orange' 'Blue/Tricolor' 'Black/Blue' 'White/Agouti'\n",
      " 'Gold/Yellow' 'Chocolate/Fawn' 'Orange/Orange Tabby'\n",
      " 'Tricolor/Blue Merle' 'Brown/Brown Tabby' 'Black/Orange'\n",
      " 'Cream/Blue Point' 'Calico/Tricolor' 'Agouti' 'Calico/Black'\n",
      " 'Brown Brindle/Brown' 'Lilac Point/Black' 'Tan/Blue Merle'\n",
      " 'Blue Tabby/Black' 'Silver/Black' 'Tan/Blue' 'Black/Yellow'\n",
      " 'Yellow/Green' 'Flame Point/Cream' 'Agouti/White' 'Brown/Green'\n",
      " 'Yellow/Black' 'Torbie/Blue Tabby' 'White/Black Tabby'\n",
      " 'Blue Merle/Red Merle' 'Cream/Orange' 'Gray/Cream' 'Silver/Chocolate'\n",
      " 'Tan/Tricolor' 'Red Merle' 'Chocolate/Cream' 'Tan/Buff'\n",
      " 'Brown Tiger/White' 'Blue/Gray' 'Gray Tabby/Gray' 'Chocolate/Red'\n",
      " 'Black Brindle/Black' 'Gray/Blue' 'Tricolor/Blue' 'Red Tick/Brown'\n",
      " 'Yellow/Blue' 'Gray/Yellow' 'Brown/Liver' 'Red/Red' 'Silver/Orange'\n",
      " 'Black/Pink' 'Tricolor/Tan' 'Calico/Brown' 'Tortie Point/Lynx Point'\n",
      " 'Cream/Blue' 'Green/Red' 'Tortie/Orange' 'Gray/Red' 'Black/Black Smoke'\n",
      " 'Buff/Tan' 'Brown/Yellow' 'Fawn/Blue' 'Red/Tricolor' 'Fawn/Cream'\n",
      " 'Silver/Red' 'Brown Tabby/Calico' 'Black/Blue Merle' 'Yellow/Orange'\n",
      " 'Brown Tabby/Brown' 'Blue Tick/Red' 'Seal Point/Cream'\n",
      " 'Cream Tabby/Orange' 'Chocolate/Blue Tick' 'Red/Blue'\n",
      " 'Blue Cream/Blue Tiger' 'Blue/Black' 'Brown Tiger' 'Brown Merle/Tan'\n",
      " 'Fawn/Tan' 'Brown Tabby/Orange' 'Blue Smoke' 'Red Tick/White'\n",
      " 'White/Apricot' 'White/Liver' 'Red/Gold' 'Green/Yellow' 'Red/Red Merle'\n",
      " 'Gold/Tan' 'Fawn/Tricolor' 'Blue Merle/Blue Merle' 'Red/Silver'\n",
      " 'Calico/Orange' 'Brown Tabby/Silver' 'Blue Tick/Red Tick'\n",
      " 'Orange Tabby/Brown' 'Apricot/Brown' 'Red/Red Tick' 'Gray/Tricolor'\n",
      " 'Black/Buff' 'Black/Green' 'Black/Black Brindle' 'Orange/Black'\n",
      " 'Tortie Point/White' 'White/Liver Tick' 'Gold/Brown' 'Red Merle/Black'\n",
      " 'Apricot/White' 'Brown Tabby/Brown Tabby' 'Cream/Seal Point'\n",
      " 'Tan/Red Merle' 'Gray/Green' 'Chocolate/Brown' 'Buff/Cream' 'Buff/Red'\n",
      " 'Brown/Silver' 'Blue Tick/Brown' 'Brown Tabby/Tortie' 'Blue Tiger/White'\n",
      " 'Tan/Chocolate Point' 'Black/Fawn' 'Blue/Brown' 'White/Blue Tick'\n",
      " 'Blue Tick/White' 'Orange Tabby/Orange' 'Blue Tick/Brown Brindle'\n",
      " 'White/Gold' 'Black Smoke/Brown Tabby' 'Red/Gray'\n",
      " 'Brown Brindle/Tricolor' 'Orange/Brown' 'Gray/Gold' 'Liver Tick/White'\n",
      " 'Black Smoke/Black Tiger' 'Brown/Red Merle' 'Sable/Buff'\n",
      " 'Gray Tabby/Brown Tabby' 'Gold/Silver' 'Seal Point/Brown'\n",
      " 'Silver Lynx Point' 'Black/Gold' 'Liver' 'Yellow/Tan' 'Blue Tiger'\n",
      " 'Tan/Yellow' 'Orange/Tan' 'Lynx Point/Tortie Point' 'Brown Tabby/Gray'\n",
      " 'Sable/Cream' 'White/Chocolate Point' 'White/Yellow Brindle'\n",
      " 'Black Tiger/White' 'Calico/Gray Tabby' 'Buff/Gray' 'Tricolor/Silver'\n",
      " 'Cream/Red' 'Gold/Buff' 'Liver Tick' 'Brown Brindle/Tan'\n",
      " 'Tricolor/Blue Tick' 'White/Pink' 'Sable/Gray' 'Brown/Brown Brindle'\n",
      " 'Orange Tabby/Tortie Point' 'Chocolate/Chocolate' 'Yellow/Gray'\n",
      " 'Chocolate Point/Cream' 'Black Brindle/Brown Brindle' 'Yellow/Cream'\n",
      " 'Gold/Black' 'Tan/Yellow Brindle' 'Red Tick/Tricolor'\n",
      " 'Brown Merle/Brown Tabby' 'Flame Point/White' 'Calico/Calico'\n",
      " 'Orange Tabby/Apricot' 'Blue/Calico' 'Brown/Black Smoke' 'Green/Black'\n",
      " 'Calico Point/Lynx Point' 'Torbie/Gray' 'Tortie/Calico'\n",
      " 'Brown Tabby/Black Tabby' 'Tortie/Blue' 'White/Lynx Point'\n",
      " 'Red Tick/Brown Brindle' 'Gold/Gray' 'Silver/White' 'Blue/Cream'\n",
      " 'Blue Tabby/Cream' 'Black Smoke/Blue Tick' 'Tricolor/Cream'\n",
      " 'Gray Tabby/Orange' 'Brown Tabby/Blue' 'Blue Tabby/Buff' 'Tricolor/Red'\n",
      " 'Chocolate/Gold' 'Brown Merle/Brown' 'Cream/Gray' 'Torbie/Calico'\n",
      " 'Yellow/Red' 'Tricolor/Gray' 'White/Silver Tabby' 'Red Tick/Tan'\n",
      " 'Orange/Gray' 'Cream Tabby/Cream Tabby' 'Black Tabby/Black'\n",
      " 'Cream/Tricolor' 'Yellow/Orange Tabby' 'Orange Tabby/Cream'\n",
      " 'Green/Orange' 'Gray/Silver' 'Tricolor/Brown Brindle' 'Black/Tortie'\n",
      " 'White/Lilac Point' 'Black/Brown Merle' 'Blue Tabby/Tan' 'Fawn/Chocolate'\n",
      " 'Gold/Gold' 'White/Silver' 'Blue/Green' 'Blue Merle/Gray'\n",
      " 'Black Smoke/Black' 'Tan/Red Tick' 'Tan/Brown Brindle' 'Orange Tiger'\n",
      " 'Green/Blue' 'Gray/Gray Tabby' 'Blue Cream/Tortie' 'Blue Merle/Cream'\n",
      " 'Silver Lynx Point/White' 'Brown/Pink' 'Tricolor/Chocolate'\n",
      " 'Red Merle/Tricolor' 'Calico/Blue Cream' 'Red Tick/Red'\n",
      " 'Lilac Point/Cream' 'Tan/Apricot' 'Calico/Brown Tabby' 'Blue Smoke/Brown'\n",
      " 'Brown Tabby/Gray Tabby' 'Brown Brindle/Blue Tick' 'Brown/Red Tick'\n",
      " 'Blue Point/Cream' 'Agouti/Gray' 'Blue Smoke/White' 'Agouti/Brown Tabby'\n",
      " 'Blue/Silver' 'Yellow Brindle/Blue' 'Seal Point/Buff'\n",
      " 'Tortie/Black Smoke' 'Torbie/Black' 'Red Merle/Brown Merle' 'Silver/Gray'\n",
      " 'Green/White' 'Brown Brindle/Blue' 'Black Tiger' 'Black/Brown Tabby'\n",
      " 'Sable/Red' 'White/Black Smoke' 'Lynx Point/Tan' 'Black/Gray Tabby'\n",
      " 'Black Smoke/Brown' 'Chocolate/Brown Merle' 'Red/Green' 'Tricolor/Calico'\n",
      " 'Chocolate/Yellow' 'Black Brindle/Blue Tick' 'Gray/Buff'\n",
      " 'Brown/Blue Merle' 'Brown/Blue' 'Black Brindle/Tan' 'Brown/Black Tabby'\n",
      " 'Brown Merle/Black' 'Cream/Red Tick' 'Blue/Yellow' 'Chocolate/Gray'\n",
      " 'Brown Merle/Chocolate' 'White/Brown Tiger' 'Gray/Fawn'\n",
      " 'Red Merle/Red Merle' 'Tricolor/Orange' 'Yellow/Brown' 'Red Tick/Black'\n",
      " 'Red Tick/Brown Merle' 'Silver/Blue' 'Ruddy/Cream' 'Orange/Blue'\n",
      " 'Lynx Point/Gray' 'Fawn/Gray' 'Blue Merle/Brown Brindle'\n",
      " 'Black Smoke/Chocolate' 'Black Tabby/Gray Tabby' 'Blue Tabby/Orange'\n",
      " 'Brown/Brown Merle' 'Tricolor/Tricolor' 'Chocolate/Red Tick'\n",
      " 'Chocolate/Liver Tick' 'Tortie/Brown' 'Silver Tabby/Black'\n",
      " 'Tan/Cream Tabby' 'Tortie Point/Cream' 'Liver/Liver Tick' 'Cream/Cream'\n",
      " 'Brown Brindle/Brown Merle' 'Tan/Brown Merle' 'Blue/Orange' 'Liver/Buff'\n",
      " 'Brown Tabby/Orange Tabby' 'Tricolor/Brown Merle' 'Lynx Point/Cream'\n",
      " 'Torbie/Blue Cream' 'Blue Smoke/Gray' 'White/Black Tiger'\n",
      " 'Lynx Point/Gray Tabby' 'White/Calico Point' 'Brown Tabby/Black Brindle'\n",
      " 'Tricolor/Red Tick' 'Blue/Yellow Brindle' 'Silver/Cream'\n",
      " 'Brown/Black Brindle' 'Brown Brindle/Blue Cream'\n",
      " 'Cream Tabby/Orange Tabby' 'Brown/Apricot' 'Tortie Point/Blue'\n",
      " 'Blue Cream/Buff' 'Tortie/Blue Tabby' 'Sable/Red Merle'\n",
      " 'Black/Seal Point' 'Agouti/Cream' 'Blue Tabby/Blue Cream' 'White/Green'\n",
      " 'Blue Cream/Blue Tabby' 'Brown Brindle/Gray' 'Torbie/Silver Tabby'\n",
      " 'Red Merle/Tan' 'Buff/Yellow' 'Brown Tabby/Lynx Point' 'Black Tabby/Gray'\n",
      " 'Black/Silver Tabby' 'Chocolate/Brown Brindle' 'Red/Brown Brindle'\n",
      " 'Cream Tiger' 'Orange Tabby/Black' 'Brown Brindle/Liver Tick'\n",
      " 'Blue Tabby/Tortie' 'White/Flame Point' 'Tortie Point/Seal Point']\n"
     ]
    }
   ],
   "source": [
    "for c in text_features:\n",
    "    print(c)\n",
    "    print(df[c].unique()) #value_counts())"
   ]
  },
  {
   "cell_type": "markdown",
   "metadata": {},
   "source": [
    "We re-use the helper functions from the 'Text processing' notebook above.\n",
    "\n",
    "__Warning__: cleaning stage can take a few minutes, depending on how much text is there to process."
   ]
  },
  {
   "cell_type": "code",
   "execution_count": 19,
   "metadata": {},
   "outputs": [
    {
     "name": "stdout",
     "output_type": "stream",
     "text": [
      "Text cleaning:  Name\n",
      "Text cleaning:  Found Location\n",
      "Text cleaning:  Breed\n",
      "Text cleaning:  Color\n"
     ]
    }
   ],
   "source": [
    "# Prepare cleaning functions\n",
    "import re, string\n",
    "import nltk\n",
    "from nltk.stem import SnowballStemmer\n",
    "\n",
    "stop_words = [\"a\", \"an\", \"the\", \"this\", \"that\", \"is\", \"it\", \"to\", \"and\"]\n",
    "\n",
    "stemmer = SnowballStemmer('english')\n",
    "\n",
    "def preProcessText(text):\n",
    "    # lowercase and strip leading/trailing white space\n",
    "    text = text.lower().strip()\n",
    "    \n",
    "    # remove HTML tags\n",
    "    text = re.compile('<.*?>').sub('', text)\n",
    "    \n",
    "    # remove punctuation\n",
    "    text = re.compile('[%s]' % re.escape(string.punctuation)).sub(' ', text)\n",
    "    \n",
    "    # remove extra white space\n",
    "    text = re.sub('\\s+', ' ', text)\n",
    "    \n",
    "    return text\n",
    "\n",
    "def lexiconProcess(text, stop_words, stemmer):\n",
    "    filtered_sentence = []\n",
    "    words = text.split(\" \")\n",
    "    for w in words:\n",
    "        if w not in stop_words:\n",
    "            filtered_sentence.append(stemmer.stem(w))\n",
    "    text = \" \".join(filtered_sentence)\n",
    "    \n",
    "    return text\n",
    "\n",
    "def cleanSentence(text, stop_words, stemmer):\n",
    "    return lexiconProcess(preProcessText(text), stop_words, stemmer)\n",
    "\n",
    "# Clean the text features\n",
    "for c in text_features:\n",
    "    print('Text cleaning: ', c)\n",
    "    df[c] = [cleanSentence(item, stop_words, stemmer) for item in df[c].values]"
   ]
  },
  {
   "cell_type": "markdown",
   "metadata": {},
   "source": [
    "The cleaned text features are ready to be vectorized after the train/test split."
   ]
  },
  {
   "cell_type": "markdown",
   "metadata": {},
   "source": [
    "__Note__: more exploratory data analysis might reveal other important hidden atributes and/or relationships of the model features considered. "
   ]
  },
  {
   "cell_type": "markdown",
   "metadata": {},
   "source": [
    "## 4. <a name=\"4\">Training, validation, and test subsets</a>\n",
    "(<a href=\"#0\">Go to top</a>)\n",
    "\n",
    "We will split our dataset into training (80%), validation (10%), and test (10%) subsets using sklearn's [__train_test_split()__](https://scikit-learn.org/stable/modules/generated/sklearn.model_selection.train_test_split.html) function twice."
   ]
  },
  {
   "cell_type": "code",
   "execution_count": 20,
   "metadata": {},
   "outputs": [],
   "source": [
    "from sklearn.model_selection import train_test_split\n",
    "\n",
    "train_data, test_data = train_test_split(df, test_size=0.2, shuffle=True, random_state=23)\n",
    "val_data, test_data = train_test_split(test_data, test_size=0.5, shuffle=True, random_state=23)"
   ]
  },
  {
   "cell_type": "markdown",
   "metadata": {},
   "source": [
    "#### Target balancing"
   ]
  },
  {
   "cell_type": "code",
   "execution_count": 21,
   "metadata": {},
   "outputs": [
    {
     "name": "stdout",
     "output_type": "stream",
     "text": [
      "Training set shape: (76388, 13)\n",
      "Class 0 samples in the training set: 33357\n",
      "Class 1 samples in the training set: 43031\n",
      "Class 0 samples in the test set: 4163\n",
      "Class 1 samples in the test set: 5386\n"
     ]
    }
   ],
   "source": [
    "print('Training set shape:', train_data.shape)\n",
    "\n",
    "print('Class 0 samples in the training set:', sum(train_data[model_target] == 0))\n",
    "print('Class 1 samples in the training set:', sum(train_data[model_target] == 1))\n",
    "\n",
    "print('Class 0 samples in the test set:', sum(test_data[model_target] == 0))\n",
    "print('Class 1 samples in the test set:', sum(test_data[model_target] == 1))"
   ]
  },
  {
   "cell_type": "markdown",
   "metadata": {},
   "source": [
    "__Important note:__ We want to fix the imbalance only in training set. We shouldn't change the validation and test sets, as these should follow the original distribution."
   ]
  },
  {
   "cell_type": "code",
   "execution_count": 22,
   "metadata": {},
   "outputs": [],
   "source": [
    "from sklearn.utils import shuffle\n",
    "\n",
    "class_0_no = train_data[train_data[model_target] == 0]\n",
    "class_1_no = train_data[train_data[model_target] == 1]\n",
    "\n",
    "upsampled_class_0_no = class_0_no.sample(n=len(class_1_no), replace=True, random_state=42)\n",
    "\n",
    "train_data = pd.concat([class_1_no, upsampled_class_0_no])\n",
    "train_data = shuffle(train_data)"
   ]
  },
  {
   "cell_type": "code",
   "execution_count": 23,
   "metadata": {},
   "outputs": [
    {
     "name": "stdout",
     "output_type": "stream",
     "text": [
      "Training set shape: (86062, 13)\n",
      "Class 1 samples in the training set: 43031\n",
      "Class 0 samples in the training set: 43031\n"
     ]
    }
   ],
   "source": [
    "print('Training set shape:', train_data.shape)\n",
    "\n",
    "print('Class 1 samples in the training set:', sum(train_data[model_target] == 1))\n",
    "print('Class 0 samples in the training set:', sum(train_data[model_target] == 0))"
   ]
  },
  {
   "cell_type": "markdown",
   "metadata": {},
   "source": [
    "## 5. <a name=\"5\">Data processing with Pipeline and ColumnTransformer</a>\n",
    "(<a href=\"#0\">Go to top</a>)\n",
    "\n",
    "We can use the composite Pipeline of Day 2 to train and tune a neural network in sklearn, using its implementation of neural network __MLPClassifier__. However, sklearn is not a neural network framework, lacking access to large scale optimization techniques with GPU support and more neural network related utility functions. \n",
    " \n",
    "We instead build a neural network with __MXNet/Gluon__. While for classic, non-neural algorithms, MXNet/Gluon is not particularly useful, using an actual deep learning framework for neural network experimentation provides more flexibility and customization.\n",
    "\n",
    "Choice of model and hosting platform aside, we can still reuse the collective ColumnTransformer from Day 2 to preprocess the data for neural network training, validation and test, ensuring that the transformations learned on the train data are performed accordingly on the training, validation and test datasets."
   ]
  },
  {
   "cell_type": "code",
   "execution_count": 24,
   "metadata": {},
   "outputs": [
    {
     "name": "stdout",
     "output_type": "stream",
     "text": [
      "Datasets shapes before processing:  (86062, 11) (9548, 11) (9549, 11)\n",
      "Datasets shapes after processing:  (86062, 235) (9548, 235) (9549, 235)\n"
     ]
    }
   ],
   "source": [
    "from sklearn.impute import SimpleImputer\n",
    "from sklearn.preprocessing import OneHotEncoder, MinMaxScaler\n",
    "from sklearn.feature_extraction.text import CountVectorizer\n",
    "from sklearn.pipeline import Pipeline\n",
    "from sklearn.compose import ColumnTransformer\n",
    "from sklearn.tree import DecisionTreeClassifier\n",
    "from sklearn.metrics import classification_report\n",
    "from sklearn.metrics import accuracy_score\n",
    "\n",
    "\n",
    "### COLUMN_TRANSFORMER ###\n",
    "##########################\n",
    "\n",
    "# Preprocess the numerical features\n",
    "numerical_processor = Pipeline([\n",
    "    ('num_imputer', SimpleImputer(strategy='mean')),\n",
    "    ('num_scaler', MinMaxScaler()) # Shown in case is needed, not a must with Decision Trees\n",
    "                                ])\n",
    "                  \n",
    "# Preprocess the categorical features\n",
    "categorical_processor = Pipeline([\n",
    "    ('cat_imputer', SimpleImputer(strategy='constant', fill_value='missing')), # Shown in case is needed, no effect here as we already imputed with 'nan' strings\n",
    "    ('cat_encoder', OneHotEncoder(handle_unknown='ignore')) # handle_unknown tells it to ignore (rather than throw an error for) any value that was not present in the initial training set.\n",
    "                                ])\n",
    "\n",
    "# Preprocess 1st text feature\n",
    "text_processor_0 = Pipeline([\n",
    "    ('text_vect_0', CountVectorizer(binary=True, max_features=50))\n",
    "                                ])\n",
    "\n",
    "# Preprocess 2nd text feature (larger vocabulary)\n",
    "text_precessor_1 = Pipeline([\n",
    "    ('text_vect_1', CountVectorizer(binary=True, max_features=150))\n",
    "                                ])\n",
    "\n",
    "# Combine all data preprocessors from above (add more, if you choose to define more!)\n",
    "# For each processor/step specify: a name, the actual process, and finally the features to be processed\n",
    "data_preprocessor = ColumnTransformer([\n",
    "    ('numerical_pre', numerical_processor, numerical_features),\n",
    "    ('categorical_pre', categorical_processor, categorical_features),\n",
    "    ('text_pre_0', text_processor_0, text_features[0]),\n",
    "    ('text_pre_1', text_precessor_1, text_features[1])\n",
    "                                    ]) \n",
    "\n",
    "### DATA PREPROCESSING ###\n",
    "##########################\n",
    "\n",
    "# Get train data to train the network\n",
    "X_train = train_data[model_features]\n",
    "y_train = train_data[model_target]\n",
    "\n",
    "# Get validation data to validate the network \n",
    "X_val = val_data[model_features]\n",
    "y_val = val_data[model_target]\n",
    "\n",
    "# Get test data to test the network\n",
    "X_test = test_data[model_features]\n",
    "y_test = test_data[model_target]\n",
    "\n",
    "print('Datasets shapes before processing: ', X_train.shape, X_val.shape, X_test.shape)\n",
    "\n",
    "X_train = data_preprocessor.fit_transform(X_train).toarray()\n",
    "X_val = data_preprocessor.transform(X_val).toarray()\n",
    "X_test = data_preprocessor.transform(X_test).toarray()\n",
    "\n",
    "print('Datasets shapes after processing: ', X_train.shape, X_val.shape, X_test.shape)"
   ]
  },
  {
   "cell_type": "markdown",
   "metadata": {},
   "source": [
    "## 6. <a name=\"6\">Train a classifier with SageMaker build-in algorithm</a>\n",
    "(<a href=\"#0\">Go to top</a>)\n"
   ]
  },
  {
   "cell_type": "markdown",
   "metadata": {},
   "source": [
    "### Fitting the classifier\n",
    "\n",
    "We will call the Sagemaker `LinearLearner()` below. \n",
    "* __Compute power:__ We will use `instance_count` and `instance_type` parameters. This example uses `ml.m4.xlarge` resource for training. We can change the instance type for our needs (For example GPUs for neural networks). \n",
    "* __Model type:__ `predictor_type` is set to __`binary_classifier`__, as we have a binary classification problem here; __`multiclass_classifier`__ could be used if there are 3 or more classes involved, or __'regressor'__ for a regression problem."
   ]
  },
  {
   "cell_type": "code",
   "execution_count": 25,
   "metadata": {},
   "outputs": [],
   "source": [
    "import sagemaker\n",
    "\n",
    "# Call the LinearLearner estimator object\n",
    "LL_estimator = sagemaker.LinearLearner(role=sagemaker.get_execution_role(),\n",
    "                                       instance_count=1,\n",
    "                                       instance_type='ml.m4.xlarge',\n",
    "                                       predictor_type='binary_classifier')"
   ]
  },
  {
   "cell_type": "markdown",
   "metadata": {},
   "source": [
    "We are using the `record_set()` function of our binary_estimator to set the training, validation, test parts of the estimator. "
   ]
  },
  {
   "cell_type": "code",
   "execution_count": 26,
   "metadata": {},
   "outputs": [],
   "source": [
    "import numpy as np\n",
    "\n",
    "train_records = LL_estimator.record_set(X_train.astype(\"float32\"),\n",
    "                                            np.array(y_train).astype(\"float32\"),\n",
    "                                            channel='train')\n",
    "val_records = LL_estimator.record_set(X_val.astype(\"float32\"),\n",
    "                                          np.array(y_val).astype(\"float32\"),\n",
    "                                          channel='validation')\n",
    "test_records = LL_estimator.record_set(X_test.astype(\"float32\"),\n",
    "                                           np.array(y_test).astype(\"float32\"),\n",
    "                                           channel='test')"
   ]
  },
  {
   "cell_type": "markdown",
   "metadata": {},
   "source": [
    "__fit()__ function applies a distributed version of the Stochastic Gradient Descent (SGD) algorithm and we are sending the data to it. We disabled logs with __logs=False__. You can remove that parameter to see more details about the process. __This process takes about 3-4 minutes on a ml.m4.xlarge instance.__"
   ]
  },
  {
   "cell_type": "code",
   "execution_count": 27,
   "metadata": {},
   "outputs": [
    {
     "name": "stderr",
     "output_type": "stream",
     "text": [
      "Defaulting to the only supported framework/algorithm version: 1. Ignoring framework/algorithm version: 1.\n",
      "Defaulting to the only supported framework/algorithm version: 1. Ignoring framework/algorithm version: 1.\n"
     ]
    },
    {
     "name": "stdout",
     "output_type": "stream",
     "text": [
      "\n",
      "2021-11-03 15:31:38 Starting - Starting the training job\n",
      "2021-11-03 15:31:42 Starting - Launching requested ML instances.............\n",
      "2021-11-03 15:32:53 Starting - Preparing the instances for training...........................\n",
      "2021-11-03 15:35:13 Downloading - Downloading input data..\n",
      "2021-11-03 15:35:28 Training - Downloading the training image...\n",
      "2021-11-03 15:35:48 Training - Training image download completed. Training in progress...............\n",
      "2021-11-03 15:37:01 Uploading - Uploading generated training model\n",
      "2021-11-03 15:37:09 Completed - Training job completed\n",
      "CPU times: user 430 ms, sys: 37.1 ms, total: 468 ms\n",
      "Wall time: 5min 32s\n"
     ]
    }
   ],
   "source": [
    "%%time\n",
    "LL_estimator.fit([train_records, val_records, test_records], logs=False)"
   ]
  },
  {
   "cell_type": "markdown",
   "metadata": {},
   "source": [
    "## 7. <a name=\"7\">Model Evaluation</a>\n",
    "(<a href=\"#0\">Go to top</a>)\n",
    "\n",
    "We can use Sagemaker analytics to get some performance metrics of our choice on the test set. This doesn't require us to deploy our model. Since this is a binary classfication problem, we can check the accuracy."
   ]
  },
  {
   "cell_type": "code",
   "execution_count": 28,
   "metadata": {},
   "outputs": [
    {
     "data": {
      "text/html": [
       "<div>\n",
       "<style scoped>\n",
       "    .dataframe tbody tr th:only-of-type {\n",
       "        vertical-align: middle;\n",
       "    }\n",
       "\n",
       "    .dataframe tbody tr th {\n",
       "        vertical-align: top;\n",
       "    }\n",
       "\n",
       "    .dataframe thead th {\n",
       "        text-align: right;\n",
       "    }\n",
       "</style>\n",
       "<table border=\"1\" class=\"dataframe\">\n",
       "  <thead>\n",
       "    <tr style=\"text-align: right;\">\n",
       "      <th></th>\n",
       "      <th>timestamp</th>\n",
       "      <th>metric_name</th>\n",
       "      <th>value</th>\n",
       "    </tr>\n",
       "  </thead>\n",
       "  <tbody>\n",
       "    <tr>\n",
       "      <th>0</th>\n",
       "      <td>0.0</td>\n",
       "      <td>test:binary_classification_accuracy</td>\n",
       "      <td>0.836946</td>\n",
       "    </tr>\n",
       "  </tbody>\n",
       "</table>\n",
       "</div>"
      ],
      "text/plain": [
       "   timestamp                          metric_name     value\n",
       "0        0.0  test:binary_classification_accuracy  0.836946"
      ]
     },
     "execution_count": 28,
     "metadata": {},
     "output_type": "execute_result"
    }
   ],
   "source": [
    "sagemaker.analytics.TrainingJobAnalytics(LL_estimator._current_job_name, \n",
    "                                         metric_names = ['test:binary_classification_accuracy']\n",
    "                                        ).dataframe()"
   ]
  },
  {
   "cell_type": "markdown",
   "metadata": {},
   "source": [
    "## 8. <a name=\"8\">Deploy the model to an endpoint</a>\n",
    "(<a href=\"#0\">Go to top</a>)\n",
    "\n",
    "\n",
    "We have successfully trained and tested our model. If happy with the performance, it is time to deploy the model to another instance of our choice. This will make it available as an endpoint, and allow us to use this model in production environment. \n",
    "\n",
    "Deployed endpoints can be used with other AWS Services such as Lambda and API Gateway. A nice walkthrough is available here: https://aws.amazon.com/blogs/machine-learning/call-an-amazon-sagemaker-model-endpoint-using-amazon-api-gateway-and-aws-lambda/ if you are interested.\n",
    "\n",
    "We use a `ml.t2.medium` instance here, but can also use other instance types such as:, `ml.c4.xlarge` etc. __This will take some time to complete (Approximately 7-8 minutes).__"
   ]
  },
  {
   "cell_type": "code",
   "execution_count": 29,
   "metadata": {},
   "outputs": [
    {
     "name": "stderr",
     "output_type": "stream",
     "text": [
      "Defaulting to the only supported framework/algorithm version: 1. Ignoring framework/algorithm version: 1.\n"
     ]
    },
    {
     "name": "stdout",
     "output_type": "stream",
     "text": [
      "-----------!CPU times: user 209 ms, sys: 4.46 ms, total: 213 ms\n",
      "Wall time: 5min 33s\n"
     ]
    }
   ],
   "source": [
    "%%time\n",
    "LL_predictor = LL_estimator.deploy(initial_instance_count=1, \n",
    "                                   instance_type=\"ml.t2.medium\", \n",
    "                                   endpoint_name=\"endpoint-mla-tab-sm-2021\") # endpoint_name needs to be unique!"
   ]
  },
  {
   "cell_type": "markdown",
   "metadata": {},
   "source": [
    "## 9. <a name=\"9\">Test the endpoint</a>\n",
    "(<a href=\"#0\">Go to top</a>)\n",
    "\n",
    "Let's use the deployed endpoint. We send our test data and get predictions of it."
   ]
  },
  {
   "cell_type": "code",
   "execution_count": 30,
   "metadata": {},
   "outputs": [
    {
     "name": "stdout",
     "output_type": "stream",
     "text": [
      "[0.5605946183204651, 0.282100111246109, 0.9164838790893555, 0.05303215608000755, 0.13773605227470398, 0.9260801672935486, 0.855938196182251, 0.22193410992622375, 0.5457541942596436, 0.3393610715866089, 0.7177752256393433, 0.9059103727340698, 0.4163515567779541, 0.008696104399859905, 0.8636036515235901, 0.7226184010505676, 0.677044153213501, 0.7036455273628235, 0.844683825969696, 0.07762625813484192, 0.9080572128295898, 0.0036503791343420744, 0.04569779336452484, 0.07920663803815842, 0.8925577998161316, 0.9228959083557129, 0.3102397918701172, 0.7541162371635437, 0.17466884851455688, 0.9385082125663757, 0.809312105178833, 0.0031365989707410336, 0.271720826625824, 0.27232128381729126, 0.012697272002696991, 0.6651239991188049, 0.06784139573574066, 0.09754035621881485, 0.44267818331718445, 0.8047064542770386, 0.9075543284416199, 0.3056131899356842, 0.27213457226753235, 0.9103160500526428, 0.6677289605140686, 0.9210553169250488, 0.0033395406790077686, 0.045171767473220825, 0.5767180323600769, 0.6394063830375671, 0.23590213060379028, 0.1337449699640274, 0.7070130705833435, 0.061266493052244186, 0.04339377582073212, 0.08745422214269638, 0.2477397322654724, 0.0811670646071434, 0.04455591365695, 0.003473052754998207, 0.0036809651646763086, 0.3593212068080902, 0.002988573396578431, 0.8622429370880127, 0.7085347771644592, 0.11856448650360107, 0.12687307596206665, 0.23533876240253448, 0.6066604852676392, 0.9013436436653137, 0.0026175067760050297, 0.286352276802063, 0.036155179142951965, 0.1905001848936081, 0.9431591033935547, 0.9008540511131287, 0.8764219880104065, 0.060493797063827515, 0.025595296174287796, 0.0752691775560379, 0.0011643464677035809, 0.7531468272209167, 0.07460718601942062, 0.7562057971954346, 0.914893388748169, 0.8884552717208862, 0.49042272567749023, 0.37410029768943787, 0.7286984920501709, 0.6166971325874329, 0.9265469908714294, 0.31876900792121887, 0.7876848578453064, 0.316924512386322, 0.9061181545257568, 0.6382701992988586, 0.5943959355354309, 0.7943703532218933, 0.6918079853057861, 0.6638110280036926, 0.7462788224220276, 0.02336159162223339, 0.5624487996101379, 0.08336720615625381, 0.737992525100708, 0.003342706710100174, 0.7651746273040771, 0.745082437992096, 0.07752260565757751, 0.02833780273795128, 0.05983427166938782, 0.9346211552619934, 0.06407567113637924, 0.046007126569747925, 0.8389602303504944, 0.14313755929470062, 0.8971704840660095, 0.07005346566438675, 0.3128403425216675, 0.05931532010436058, 0.9528651237487793, 0.17702323198318481, 0.8358072638511658, 0.8194479942321777, 0.7618804574012756, 0.003457539714872837, 0.0030202027410268784, 0.02794599160552025, 0.649491012096405, 0.8420432806015015, 0.691787838935852, 0.296548068523407, 0.7957279086112976, 0.7655256390571594, 0.05696643143892288, 0.9547856450080872, 0.9068845510482788, 0.816236138343811, 0.7651746273040771, 0.9253724813461304, 0.9540929198265076, 0.8176304697990417, 0.7951291799545288, 0.6865248680114746, 0.2149384617805481, 0.8952925205230713, 0.89512038230896, 0.854743480682373, 0.7825492024421692, 0.13161355257034302, 0.654499888420105, 0.9477448463439941, 0.25483694672584534, 0.0018028041813522577, 0.6906499862670898, 0.8530822992324829, 0.8632065653800964, 0.07292325049638748, 0.49778664112091064, 0.7724484205245972, 0.5254578590393066, 0.9010189175605774, 0.853022575378418, 0.7189931273460388, 0.9208007454872131, 0.7503002882003784, 0.8121846914291382, 0.055246591567993164, 0.8462219834327698, 0.5390990972518921, 0.043555304408073425, 0.8793385028839111, 0.658226490020752, 0.002349090063944459, 0.897361695766449, 0.9038046598434448, 0.02271820232272148, 0.0036905729211866856, 0.8630847334861755, 0.014494258910417557, 0.05090316757559776, 0.6507542133331299, 0.09948062896728516, 0.8209391236305237, 0.8333308100700378, 0.48178771138191223, 0.14496611058712006, 0.9029185175895691, 0.021671410650014877, 0.0021014632657170296, 0.7477598786354065, 0.9211224913597107, 0.9034913182258606, 0.562130868434906, 0.07601215690374374, 0.6830423474311829, 0.34840190410614014, 0.6619337201118469, 0.07955446094274521, 0.4644784927368164, 0.8740974068641663, 0.5139963030815125, 0.06469178944826126, 0.08043012768030167, 0.13426168262958527, 0.752633810043335, 0.7681304216384888, 0.8784481287002563, 0.14504849910736084, 0.9530107975006104, 0.21296653151512146, 0.8575462102890015, 0.6394063830375671, 0.8836781978607178, 0.09190165251493454, 0.8992921710014343, 0.2197289913892746, 0.654499888420105, 0.3184346854686737, 0.24758705496788025, 0.40822649002075195, 0.12686382234096527, 0.6193283200263977, 0.8918462991714478, 0.9255048036575317, 0.07602836936712265, 0.7918928265571594, 0.24835042655467987, 0.8190125823020935, 0.6434232592582703, 0.7093563079833984, 0.6885197758674622, 0.08410677313804626, 0.938805878162384, 0.002977306256070733, 0.9269877672195435, 0.8592654466629028, 0.5367835760116577, 0.060627296566963196, 0.8758357167243958, 0.5155153870582581, 0.9109522104263306, 0.20007504522800446, 0.21008554100990295, 0.9037759304046631, 0.8463746309280396, 0.596148669719696, 0.12542983889579773, 0.42600926756858826, 0.8394802808761597, 0.7992709875106812, 0.5484132766723633, 0.2801981568336487, 0.029989320784807205, 0.9227688908576965, 0.10014583170413971, 0.4405442774295807, 0.9324124455451965, 0.912350058555603, 0.0704171285033226, 0.5326728820800781, 0.8257988095283508, 0.18617357313632965, 0.19553542137145996, 0.6507542133331299, 0.07001662999391556, 0.6871145367622375, 0.4781775176525116, 0.5662115812301636, 0.9050043821334839, 0.9303053617477417, 0.7095094919204712, 0.5179041028022766, 0.25501367449760437, 0.9085347652435303, 0.7970467805862427, 0.022804496809840202, 0.5155153870582581, 0.5031284689903259, 0.07089358568191528, 0.47154417634010315, 0.8711128830909729, 0.750569224357605, 0.8980807065963745, 0.018804047256708145, 0.8763959407806396, 0.001390273799188435, 0.8880652189254761, 0.5097068548202515, 0.6157467365264893, 0.8744710087776184, 0.7934631109237671, 0.042275719344615936, 0.8970039486885071, 0.4638029932975769, 0.6219015717506409, 0.8594884276390076, 0.7374117970466614, 0.09047216922044754, 0.0030791908502578735, 0.05109737068414688, 0.014550155028700829, 0.2726077735424042, 0.8978755474090576, 0.04904727637767792, 0.6570049524307251, 0.9611339569091797, 0.9157636761665344, 0.3399420976638794, 0.6736012101173401, 0.0012636688770726323, 0.7554947733879089, 0.11180667579174042, 0.7272812128067017, 0.6442022323608398, 0.8566620945930481, 0.10574407130479813, 0.861447811126709, 0.05618800222873688, 0.06160002201795578, 0.9012248516082764, 0.07356942445039749, 0.029565341770648956, 0.9721726775169373, 0.23941878974437714, 0.864109992980957, 0.03168920427560806, 0.7950534820556641, 0.06443344056606293, 0.6463714241981506, 0.6903238296508789, 0.80362468957901, 0.1252201646566391, 0.1759927123785019, 0.07703840732574463, 0.016751740127801895, 0.7304827570915222, 0.11351964622735977, 0.8953477740287781, 0.8902144432067871, 0.30704352259635925, 0.663502037525177, 0.8388404250144958, 0.6760603785514832, 0.8982484936714172, 0.5367835760116577, 0.04020344465970993, 0.5223652124404907, 0.6635735630989075, 0.23068441450595856, 0.06861709803342819, 0.0036503791343420744, 0.8946895003318787, 0.9073611497879028, 0.6126381158828735, 0.8500807881355286, 0.628655195236206, 0.46447131037712097, 0.003361022099852562, 0.17093577980995178, 0.9205561280250549, 0.028108077123761177, 0.17091941833496094, 0.871312141418457, 0.5932635068893433, 0.6278292536735535, 0.283816397190094, 0.5236514806747437, 0.8866037130355835, 0.3150615394115448, 0.9131224751472473, 0.5752665996551514, 0.8900968432426453, 0.7699522972106934, 0.5451449155807495, 0.09407030791044235, 0.414096474647522, 0.19380076229572296, 0.016775427386164665, 0.014615217223763466, 0.9314538240432739, 0.8475023508071899, 0.022785397246479988, 0.9039793014526367, 0.8401280641555786, 0.1165231242775917, 0.8807262182235718, 0.8120238184928894, 0.7311837673187256, 0.02022497169673443, 0.2836260199546814, 0.06675541400909424, 0.5367835760116577, 0.8943600654602051, 0.24804790318012238, 0.05837123095989227, 0.28574058413505554, 0.068745456635952, 0.8028174042701721, 0.9229995012283325, 0.7458165287971497, 0.857564389705658, 0.10953148454427719, 0.915376603603363, 0.8626580834388733, 0.9174536466598511, 0.7666726112365723, 0.23589228093624115, 0.30775728821754456, 0.9243575930595398, 0.05537808686494827, 0.6532720923423767, 0.28782689571380615, 0.7294601798057556, 0.9097134470939636, 0.08512672036886215, 0.8842599391937256, 0.04130824655294418, 0.8642693758010864, 0.9468808770179749, 0.857252299785614, 0.3385968506336212, 0.07413426786661148, 0.2265259176492691, 0.9421814680099487, 0.6498247385025024, 0.8032299876213074, 0.21218572556972504, 0.25167524814605713, 0.6094747185707092, 0.05367343872785568, 0.739092230796814, 0.07920663803815842, 0.004207916557788849, 0.6991006135940552, 0.05605877563357353, 0.6626334190368652, 0.31806889176368713, 0.8981682658195496, 0.6929178833961487, 0.700021505355835, 0.3185610771179199, 0.4399050772190094, 0.47784385085105896, 0.2724232077598572, 0.6969913840293884, 0.0625026673078537, 0.6647228002548218, 0.8308747410774231, 0.9124634861946106, 0.6829921007156372, 0.4490131735801697, 0.8787378072738647, 0.8978486657142639, 0.8889658451080322, 0.7483794093132019, 0.21346379816532135, 0.5367835760116577, 0.3075502812862396, 0.1401587426662445, 0.9600009322166443, 0.8986201882362366, 0.7777416706085205, 0.899859607219696, 0.9304027557373047, 0.351523756980896, 0.8678898215293884, 0.0994810163974762, 0.8526859283447266, 0.6317527890205383, 0.8941320180892944, 0.6592115759849548, 0.8820333480834961, 0.5285577774047852, 0.10264275223016739, 0.15768836438655853, 0.028153875842690468, 0.7541003227233887, 0.041457582265138626, 0.6810351014137268, 0.9399005770683289, 0.7063513994216919, 0.27514129877090454, 0.051621511578559875, 0.3291381299495697, 0.7778237462043762, 0.9453646540641785, 0.8231664896011353, 0.9064154028892517, 0.5673823952674866, 0.003417441388592124, 0.31772151589393616, 0.8600653409957886, 0.09381101280450821, 0.0968354120850563, 0.86439448595047, 0.022959018126130104, 0.9550322890281677, 0.19028116762638092, 0.853541374206543, 0.1411406397819519, 0.6888730525970459, 0.6636943221092224, 0.8523638844490051, 0.003013631096109748, 0.9336448907852173, 0.14231820404529572, 0.9767166376113892, 0.07297362387180328, 0.08193659037351608, 0.6750629544258118, 0.934640645980835, 0.6391575336456299, 0.9140140414237976, 0.860672116279602, 0.9263336658477783, 0.7440257668495178, 0.7605224251747131, 0.07946883141994476, 0.02209070697426796, 0.7526928782463074, 0.07932133972644806, 0.873885452747345, 0.9348002672195435, 0.9078977108001709, 0.6141380667686462, 0.4604197144508362, 0.10072436928749084, 0.8372412323951721, 0.7838212847709656, 0.654499888420105, 0.8767938017845154, 0.5161913633346558, 0.6360279321670532, 0.8372527956962585, 0.7875903844833374, 0.8758939504623413, 0.8650938272476196, 0.08220259100198746, 0.8592987060546875, 0.9354512691497803, 0.003126376075670123, 0.7273526787757874, 0.0032891486771404743, 0.7319202423095703, 0.7737230658531189, 0.6201385855674744, 0.9459565877914429, 0.02473747357726097, 0.38897231221199036, 0.690298855304718, 0.029078327119350433, 0.8327274918556213, 0.9169398546218872, 0.7607991695404053, 0.40313324332237244, 0.9461237788200378, 0.9094390869140625, 0.32452094554901123, 0.09583888947963715, 0.32615604996681213, 0.8291420936584473, 0.47963207960128784, 0.8566185235977173, 0.21349741518497467, 0.2408517450094223, 0.6569874882698059, 0.7066841721534729, 0.2255527526140213, 0.6937881708145142, 0.8015353083610535, 0.05885833129286766, 0.8559653759002686, 0.16553132236003876, 0.7384040355682373, 0.9401840567588806, 0.9028933644294739, 0.5326728820800781, 0.002988573396578431, 0.7549946904182434, 0.0906834527850151, 0.7373975515365601, 0.10380370914936066, 0.06913523375988007, 0.14896968007087708, 0.20133060216903687, 0.0212546419352293, 0.9001304507255554, 0.5449894070625305, 0.8877109885215759, 0.9096150398254395, 0.9093712568283081, 0.0395737960934639, 0.05348192900419235, 0.02611561492085457, 0.6639615297317505, 0.794832170009613, 0.8569836616516113, 0.03027098812162876, 0.2490236908197403, 0.901593029499054, 0.9166569113731384, 0.7848881483078003, 0.045073650777339935, 0.572058379650116, 0.3222825825214386, 0.17600426077842712, 0.7658131122589111, 0.004445059224963188, 0.0018028041813522577, 0.0020026068668812513, 0.028421111404895782, 0.5352441072463989, 0.7246370315551758, 0.8460478186607361, 0.2580280005931854, 0.4145950675010681, 0.658973217010498, 0.0753212422132492, 0.8342270851135254, 0.8941320180892944, 0.06652535498142242, 0.8161071538925171, 0.8646434545516968, 0.6206197738647461, 0.5278832912445068, 0.41911423206329346, 0.9153252243995667, 0.11266128718852997, 0.9237780570983887, 0.9215928316116333, 0.2521801292896271, 0.06531635671854019, 0.7912848591804504, 0.32487502694129944, 0.060371026396751404, 0.8666651248931885, 0.0032437366899102926, 0.6627665162086487, 0.7946882843971252, 0.7325291037559509, 0.9251089096069336, 0.5770254731178284, 0.07410328090190887, 0.5449894070625305, 0.5402170419692993, 0.6462020874023438, 0.8704274892807007, 0.5288777351379395, 0.059783436357975006, 0.5278832912445068, 0.32989922165870667, 0.20138227939605713, 0.7695261836051941, 0.1217396929860115, 0.9201180934906006, 0.3174920976161957, 0.9237571358680725, 0.3784191608428955, 0.8333971500396729, 0.9247283935546875, 0.07876903563737869, 0.038763176649808884, 0.796312153339386, 0.05113248899579048, 0.6665908098220825, 0.9073700308799744, 0.757662832736969, 0.44333210587501526, 0.3102957308292389, 0.7954956889152527, 0.8277472257614136, 0.5958216190338135, 0.5072586536407471, 0.700783908367157, 0.32416632771492004, 0.0034673127811402082, 0.8881760835647583, 0.6812021732330322, 0.017486751079559326, 0.45248448848724365, 0.5912015438079834, 0.8687264919281006, 0.9154114127159119, 0.528825581073761, 0.08439130336046219, 0.9425060153007507, 0.604666531085968, 0.9315673112869263, 0.003706284100189805, 0.5161311030387878, 0.79470294713974, 0.8760898113250732, 0.8303388953208923, 0.5031284689903259, 0.753777265548706, 0.8921031951904297, 0.9393782019615173, 0.23589228093624115, 0.908848762512207, 0.001243799109943211, 0.8970974087715149, 0.923781156539917, 0.8118671774864197, 0.7840025424957275, 0.9045982956886292, 0.9463730454444885, 0.004564880859106779, 0.8357391357421875, 0.0689765065908432, 0.6698234677314758, 0.3074938952922821, 0.004772431217133999, 0.8325403928756714, 0.658226490020752, 0.9164474010467529, 0.002136398106813431, 0.018411550670862198, 0.5961999297142029, 0.7953643202781677, 0.7140460014343262, 0.6468992829322815, 0.967979371547699, 0.5182222127914429, 0.5850176811218262, 0.08674117177724838, 0.08036705106496811, 0.02353290095925331, 0.6113081574440002, 0.7716839909553528, 0.275867223739624, 0.08048470318317413, 0.8878389596939087, 0.8684621453285217, 0.9073107838630676, 0.013046669773757458, 0.9166001081466675, 0.7858297228813171, 0.9253309369087219, 0.9705227017402649, 0.5653929710388184, 0.24494923651218414, 0.7681304216384888, 0.0644867867231369, 0.7719454169273376, 0.8695047497749329, 0.8574143052101135, 0.3578549027442932, 0.6972606778144836, 0.2882358133792877, 0.7708278298377991, 0.08959541469812393, 0.002977306256070733, 0.05784184858202934, 0.7642089128494263, 0.9194474220275879, 0.8288367390632629, 0.8561773300170898, 0.00785043090581894, 0.0699031725525856, 0.9402568936347961, 0.9150730967521667, 0.8933956623077393, 0.9262437224388123, 0.692619264125824, 0.046007126569747925, 0.7596189975738525, 0.7907423377037048, 0.02788739837706089, 0.9439272880554199, 0.5662270784378052, 0.05548134446144104, 0.844291090965271, 0.6735280156135559, 0.6619337201118469, 0.9272728562355042, 0.8383799195289612, 0.16338011622428894, 0.0191884096711874, 0.5804639458656311, 0.8636309504508972, 0.8468821048736572, 0.2983575165271759, 0.8979901075363159, 0.8428319096565247, 0.024289315566420555, 0.0596931166946888, 0.6619337201118469, 0.0026250663213431835, 0.5699055790901184, 0.895716667175293, 0.07065725326538086, 0.8254567980766296, 0.9779165387153625, 0.12675613164901733, 0.8824322819709778, 0.23851388692855835, 0.6619337201118469, 0.9181788563728333, 0.9738752841949463, 0.004971686284989119, 0.029338927939534187, 0.07653982937335968, 0.7321913838386536, 0.8489317893981934, 0.021750062704086304, 0.7035839557647705, 0.6197606325149536, 0.001830466091632843, 0.176425501704216, 0.18789143860340118, 0.5262582302093506, 0.8941320180892944, 0.02469407208263874, 0.18417289853096008, 0.924351155757904, 0.07128403335809708, 0.5580966472625732, 0.9227784872055054, 0.7549044489860535, 0.9241385459899902, 0.8959971070289612, 0.520316481590271, 0.9577996134757996, 0.8210517168045044, 0.9220913648605347, 0.8663085699081421, 0.35070276260375977, 0.18731647729873657, 0.750569224357605, 0.908838152885437, 0.0009080041781999171, 0.9023690819740295, 0.9338027834892273, 0.9032691121101379, 0.7269492149353027, 0.022125273942947388, 0.02084456756711006, 0.9028933644294739, 0.8868048191070557, 0.856953501701355, 0.8249719738960266, 0.1446535587310791, 0.0019413991831243038, 0.11202410608530045, 0.8334802389144897, 0.7905861735343933, 0.3009767532348633, 0.7270495891571045, 0.26402807235717773, 0.001106594456359744, 0.7361669540405273, 0.0037040486931800842, 0.6602482795715332, 0.6854199767112732, 0.6686890721321106, 0.03789234161376953, 0.003010794287547469, 0.06639166176319122, 0.8526219725608826, 0.9517092704772949, 0.9294095635414124, 0.8568780422210693, 0.8806872963905334, 0.9183728098869324, 0.39221131801605225, 0.9582893252372742, 0.3345722556114197, 0.6619337201118469, 0.6394063830375671, 0.5581687092781067, 0.2388833910226822, 0.0028821961022913456, 0.46561044454574585, 0.8878389596939087, 0.7796957492828369, 0.931208074092865, 0.9326121807098389, 0.8094300031661987, 0.9631403684616089, 0.9028933644294739, 0.0017837153282016516, 0.9290655255317688, 0.5867248773574829, 0.7415340542793274, 0.1487945169210434, 0.9907358288764954, 0.6278790235519409, 0.8460478186607361, 0.02671135403215885, 0.6043418645858765, 0.46659108996391296, 0.250282883644104, 0.06407567113637924, 0.035778630524873734, 0.5965584516525269, 0.6961955428123474, 0.3057343363761902, 0.6387820839881897, 0.6053133606910706, 0.3192387521266937, 0.04546644911170006, 0.8927590847015381, 0.9398139119148254, 0.19729776680469513, 0.0506935678422451, 0.6068639159202576, 0.912675142288208, 0.395120233297348, 0.6632234454154968, 0.016395317390561104, 0.8626415729522705, 0.8936081528663635, 0.08045527338981628, 0.24115411937236786, 0.5233163833618164, 0.08581153303384781, 0.5408892631530762, 0.5549594163894653, 0.9010433554649353, 0.8705487847328186, 0.003590776352211833, 0.11333522200584412, 0.9181675314903259, 0.4687917232513428, 0.8745300769805908, 0.02156640775501728, 0.7081373929977417, 0.8957650065422058, 0.07024415582418442, 0.79170823097229, 0.7861858010292053, 0.0031271411571651697, 0.07298540323972702, 0.7648417949676514, 0.902615487575531, 0.8480168581008911, 0.3290218710899353, 0.3551349937915802, 0.641646683216095, 0.7440873980522156, 0.6139894127845764, 0.06407567113637924, 0.025526409968733788, 0.8055389523506165, 0.7108557224273682, 0.08426696062088013, 0.26723602414131165, 0.0036503791343420744, 0.0012234423775225878, 0.7686157822608948, 0.09401984512805939, 0.7731636762619019, 0.06730083376169205, 0.2435423880815506, 0.9340453743934631, 0.7117714285850525, 0.6210500597953796, 0.6709702014923096, 0.686247706413269, 0.662295937538147, 0.5471682548522949, 0.7265275120735168, 0.7500069737434387, 0.9309084415435791, 0.2401614487171173, 0.42805910110473633, 0.8674426674842834, 0.791649580001831, 0.9180230498313904, 0.9358140230178833, 0.9056238532066345, 0.49915966391563416, 0.9295042753219604, 0.2925322353839874, 0.9036591053009033, 0.915376603603363, 0.9747581481933594, 0.7222548723220825, 0.028472639620304108, 0.8708532452583313, 0.8882055282592773, 0.0438975915312767, 0.6387820839881897, 0.35732632875442505, 0.520316481590271, 0.06193912401795387, 0.07336989045143127, 0.9185143709182739, 0.6778411269187927, 0.11932667344808578, 0.7975984811782837, 0.10645962506532669, 0.7110171914100647, 0.0928790345788002, 0.7125363945960999, 0.7790934443473816, 0.08239346742630005, 0.9558658599853516, 0.11519911885261536, 0.7405985593795776, 0.003590776352211833, 0.8486000299453735, 0.5626276731491089, 0.7274841070175171, 0.9052919149398804, 0.043324850499629974, 0.41577526926994324, 0.8438833355903625, 0.743195116519928, 0.4992636442184448, 0.2309255301952362, 0.8950945138931274, 0.26440542936325073, 0.8712595701217651, 0.05235845595598221, 0.11574351042509079, 0.0650033950805664, 0.9116829037666321, 0.0643409788608551, 0.7322089672088623, 0.08880852162837982, 0.1905001848936081, 0.7142707705497742, 0.9178172945976257, 0.0191884096711874, 0.014911853708326817, 0.2030206024646759, 0.6619337201118469, 0.8956696391105652, 0.8712047338485718, 0.11118389666080475, 0.9687337875366211, 0.68043452501297, 0.005585828330367804, 0.08525747805833817, 0.07767164707183838, 0.46324437856674194, 0.9122294187545776, 0.6650184392929077, 0.6322250366210938, 0.272422194480896, 0.05555325374007225, 0.5967749953269958, 0.774379551410675, 0.031676385551691055, 0.889333188533783, 0.19879966974258423, 0.6191937923431396, 0.06529701501131058, 0.9229269027709961, 0.6822569966316223, 0.7731636762619019, 0.7433267831802368, 0.949463963508606, 0.6644932627677917, 0.6638110280036926, 0.7616248726844788, 0.028116727247834206, 0.9116941094398499, 0.029062798246741295, 0.003038075054064393, 0.06686326861381531, 0.03794550150632858, 0.536110520362854, 0.0040764398872852325, 0.06789527833461761, 0.8887344598770142, 0.9169980883598328, 0.890235185623169, 0.7997397780418396, 0.861956775188446, 0.8687264919281006, 0.6195101141929626, 0.8738027811050415, 0.6151190400123596, 0.8851983547210693, 0.5973569750785828, 0.01914624124765396, 0.5408892631530762, 0.7248457074165344, 0.6188149452209473, 0.8438833355903625, 0.04806406795978546, 0.8688961863517761, 0.8401280641555786, 0.048307012766599655, 0.7136244177818298, 0.9249127507209778, 0.25462469458580017, 0.8471354246139526, 0.6834899187088013, 0.003590776352211833, 0.018640737980604172, 0.10167739540338516, 0.9795408844947815, 0.3756176233291626, 0.7536488771438599, 0.024585161358118057, 0.8792902231216431, 0.7132707834243774, 0.11923392117023468, 0.7578697800636292, 0.1879545897245407, 0.910392701625824, 0.654499888420105, 0.8626415729522705, 0.09948062896728516, 0.24037021398544312, 0.4133567810058594, 0.0856708362698555, 0.16546061635017395, 0.7064514756202698, 0.8679871559143066, 0.917350172996521, 0.15265384316444397, 0.10094598680734634, 0.7530525922775269, 0.9191714525222778, 0.7984955906867981, 0.8922792673110962, 0.89863520860672, 0.9306148886680603, 0.6740922927856445, 0.8845634460449219, 0.3203312158584595, 0.8687666058540344, 0.6723392605781555, 0.9058451652526855, 0.0013467291137203574, 0.7729254364967346, 0.7929168343544006, 0.7478039860725403, 0.7810109257698059, 0.03731111064553261, 0.7761802077293396, 0.931208074092865, 0.10343702882528305, 0.03324039652943611, 0.47154974937438965, 0.7663904428482056, 0.9575746655464172, 0.9073261618614197, 0.8960516452789307, 0.9071950912475586, 0.658226490020752, 0.654499888420105, 0.8574765920639038, 0.8020211458206177, 0.814693808555603, 0.7031652331352234, 0.874838650226593, 0.9125015139579773, 0.6507542133331299, 0.7597325444221497, 0.03344571217894554, 0.8453832864761353, 0.44180238246917725, 0.6435140371322632, 0.6894350647926331, 0.33781954646110535, 0.9259149432182312, 0.1818283498287201, 0.21946772933006287, 0.9109575152397156, 0.1100669577717781, 0.8549274802207947, 0.08305927366018295, 0.1251259744167328, 0.21595482528209686, 0.899780809879303, 0.921855628490448, 0.2965662479400635, 0.6659188866615295, 0.9560560584068298, 0.8837723135948181, 0.021751148626208305, 0.8848702311515808, 0.7876114845275879, 0.6191250085830688, 0.06126202270388603, 0.4746851325035095, 0.39258649945259094, 0.7970461845397949, 0.898428201675415, 0.17703180015087128, 0.8459279537200928, 0.8328668475151062, 0.07376611977815628, 0.0021014632657170296, 0.2518770396709442, 0.8922588229179382, 0.8482488989830017, 0.9121374487876892, 0.2897881269454956, 0.01854691095650196, 0.7648417949676514, 0.08550115674734116, 0.4432889223098755, 0.7154525518417358, 0.029116736724972725, 0.9327300190925598, 0.2805063724517822, 0.7530043125152588, 0.7407771348953247, 0.8801475763320923, 0.745835542678833, 0.7221879363059998, 0.6947535872459412, 0.6974437236785889, 0.6545188426971436, 0.6320904493331909, 0.2990929186344147, 0.7248632311820984, 0.2862393856048584, 0.9263336658477783, 0.715451180934906, 0.7616225481033325, 0.2965662479400635, 0.9113089442253113, 0.7605191469192505, 0.2871383726596832, 0.7536238431930542, 0.837835431098938, 0.6650184392929077, 0.43047863245010376, 0.7242085933685303, 0.6627948880195618, 0.0954366996884346, 0.6010358333587646, 0.6008124947547913, 0.6619337201118469, 0.7536221146583557, 0.0677485242486, 0.8848013877868652, 0.017140481621026993, 0.05646607279777527, 0.33676522970199585, 0.2190944403409958, 0.08434220403432846, 0.6686890721321106, 0.8844900727272034, 0.9284204840660095, 0.2049645334482193, 0.9340453743934631, 0.10104993730783463, 0.06134016439318657, 0.6212577223777771, 0.8626415729522705, 0.6190081834793091, 0.499674528837204, 0.700021505355835, 0.021654333919286728, 0.08041573315858841, 0.47003528475761414, 0.8114967346191406, 0.2679428458213806, 0.8482488989830017, 0.3385968506336212, 0.05658551678061485, 0.18416227400302887, 0.560372531414032, 0.5999135375022888, 0.8480739593505859, 0.9013650417327881, 0.878642201423645, 0.6648975610733032, 0.9626591801643372, 0.5475043058395386, 0.6541781425476074, 0.8812735676765442, 0.9250682592391968, 0.898917019367218, 0.0028723927680402994, 0.3339524567127228, 0.9062256217002869, 0.8822014331817627, 0.4052834212779999, 0.8491161465644836, 0.6331800222396851, 0.8978890776634216, 0.6576173901557922, 0.6544004082679749, 0.001243062550202012, 0.6981855630874634, 0.7333241701126099, 0.9576343894004822, 0.8999781608581543, 0.792094886302948, 0.7045423984527588, 0.46414071321487427, 0.8496735095977783, 0.7629426121711731, 0.8208014369010925, 0.9081788063049316, 0.3923932611942291, 0.5728061199188232, 0.9184824824333191, 0.3431084156036377, 0.6407405734062195, 0.22878916561603546, 0.8802736401557922, 0.07801681756973267, 0.0711316168308258, 0.040018387138843536, 0.29363664984703064, 0.6466771364212036, 0.9371623992919922, 0.05452009662985802, 0.03066341206431389, 0.06529701501131058, 0.18187803030014038, 0.6834997534751892, 0.6169552206993103, 0.025337373837828636, 0.001390273799188435, 0.1515747755765915, 0.2252226322889328, 0.6795579195022583, 0.5161913633346558, 0.27304044365882874, 0.9391738772392273, 0.029750633984804153, 0.3363417387008667, 0.6010358333587646, 0.07767164707183838, 0.8225208520889282, 0.9344049096107483, 0.38305237889289856, 0.6974726319313049, 0.6353923678398132, 0.743195116519928, 0.08998366445302963, 0.9163536429405212, 0.8081924915313721, 0.8918171525001526, 0.8480644226074219, 0.20226430892944336, 0.9399005770683289, 0.9179161190986633, 0.895936131477356, 0.9200050830841064, 0.4138454794883728, 0.0954366996884346, 0.004038365092128515, 0.11117559671401978, 0.7923287749290466, 0.46594834327697754, 0.9268227815628052, 0.07001662999391556, 0.03142363578081131, 0.7733728885650635, 0.7322525978088379, 0.7347695231437683, 0.2697732150554657, 0.565506100654602, 0.6801772713661194, 0.6054974794387817, 0.9345625042915344, 0.6972032785415649, 0.706702470779419, 0.7682479619979858, 0.755626380443573, 0.081990085542202, 0.0018028041813522577, 0.001399364322423935, 0.7408186197280884, 0.065042644739151, 0.8352654576301575, 0.13178226351737976, 0.8709710836410522, 0.8982363939285278, 0.42386752367019653, 0.9166821837425232, 0.10585486888885498, 0.7162103056907654, 0.022101465612649918, 0.6588229537010193, 0.9258720278739929, 0.7336349487304688, 0.7329200506210327, 0.11311405152082443, 0.06415355205535889, 0.7838343977928162, 0.8735721707344055, 0.536110520362854, 0.9576287865638733, 0.5258488059043884, 0.9720321297645569, 0.06150195002555847, 0.8693804740905762, 0.521062970161438, 0.7411746382713318, 0.8781874179840088, 0.9064440131187439, 0.07046390324831009, 0.9064953923225403, 0.650138795375824, 0.7959372401237488, 0.001500509912148118, 0.8347453474998474, 0.0022325622849166393, 0.930682361125946, 0.9227784872055054, 0.5449894070625305, 0.015887511894106865, 0.7552400827407837, 0.7997592687606812, 0.3637324273586273, 0.08173830807209015, 0.9192188382148743, 0.36598461866378784, 0.1536998748779297, 0.06692482531070709, 0.024928869679570198, 0.5587611198425293, 0.029029928147792816, 0.5334134101867676, 0.03556526079773903, 0.9353761672973633, 0.19116109609603882, 0.005176745820790529, 0.9492260813713074, 0.27199459075927734, 0.029243305325508118, 0.19772037863731384, 0.2571987509727478, 0.9364298582077026, 0.6439106464385986, 0.7018835544586182, 0.7749121785163879, 0.5765429735183716, 0.8304887413978577, 0.06044205650687218, 0.39762669801712036, 0.043919309973716736, 0.6723392605781555, 0.7881980538368225, 0.06135326251387596, 0.8471465706825256, 0.6279006004333496, 0.9745391607284546, 0.8266106247901917, 0.7026373744010925, 0.12519153952598572, 0.6482593417167664, 0.8033009767532349, 0.9189701676368713, 0.4118311405181885, 0.9241783618927002, 0.9465182423591614, 0.024494141340255737, 0.03310578316450119, 0.5877151489257812, 0.0012234423775225878, 0.7943541407585144, 0.2745422124862671, 0.2608282268047333, 0.03101385198533535, 0.8824223875999451, 0.0012234423775225878, 0.04342607408761978, 0.8051398396492004, 0.7405985593795776, 0.12617167830467224, 0.6190081834793091, 0.9062763452529907, 0.6619337201118469, 0.9149936437606812, 0.11753799766302109, 0.450979083776474, 0.11460032314062119, 0.35044026374816895, 0.9054150581359863, 0.07437052577733994, 0.02006564661860466, 0.9215928316116333, 0.599727988243103, 0.7809522747993469, 0.22942666709423065, 0.6511192321777344, 0.11524830758571625, 0.7592388987541199, 0.7504264712333679, 0.6627851724624634, 0.7732397317886353, 0.03319176658987999, 0.934266209602356, 0.4074012339115143, 0.3690550923347473, 0.8974569439888, 0.9330390691757202, 0.8459007143974304, 0.07742553949356079, 0.003182576037943363, 0.7445750832557678, 0.9237681031227112, 0.6551331877708435, 0.07101649045944214, 0.009294900111854076, 0.050273388624191284, 0.4681912064552307, 0.544119656085968, 0.3446604907512665, 0.8003454804420471, 0.7818701863288879, 0.7386212348937988, 0.2777167558670044, 0.771815299987793, 0.919918417930603, 0.9283883571624756, 0.8624272346496582, 0.021057959645986557, 0.034117139875888824, 0.8860534429550171, 0.07081682980060577, 0.7530920505523682, 0.16401337087154388, 0.02966884709894657, 0.04406217485666275, 0.5359137654304504, 0.8629641532897949, 0.83659428358078, 0.07878214865922928, 0.2778474688529968, 0.08129192143678665, 0.9287177920341492, 0.01797204092144966, 0.47238168120384216, 0.9043735265731812, 0.8846073746681213, 0.9407417178153992, 0.7500621676445007, 0.792094886302948, 0.056204553693532944, 0.8052076101303101, 0.8110600113868713, 0.36864081025123596, 0.003327286569401622, 0.8850676417350769, 0.8961004614830017, 0.7998714447021484, 0.8573811650276184, 0.938252329826355, 0.7022548913955688, 0.05624806508421898, 0.9458841681480408, 0.582976222038269, 0.6279006004333496, 0.06880210340023041, 0.8585582971572876, 0.6754822134971619, 0.09090696275234222, 0.8631360530853271, 0.7612388134002686, 0.9234248995780945, 0.9113089442253113, 0.9548035264015198, 0.8644906282424927, 0.9249955415725708, 0.19921892881393433, 0.5967962145805359, 0.04271307215094566, 0.6650184392929077, 0.5900841951370239, 0.10787512362003326, 0.6728941798210144, 0.06529701501131058, 0.7495361566543579, 0.8847051858901978, 0.20181359350681305, 0.7198387980461121, 0.0775209292769432, 0.6463006734848022, 0.09653235971927643, 0.004518809728324413, 0.5319991111755371, 0.7976623177528381, 0.08947565406560898, 0.06353658437728882, 0.11903120577335358, 0.8380099534988403, 0.627194344997406, 0.7017413973808289, 0.5593185424804688, 0.05617672577500343, 0.8371573686599731, 0.9021022319793701, 0.869777500629425, 0.5746564269065857, 0.25817063450813293, 0.0025468680541962385, 0.6740652918815613, 0.857252299785614, 0.9065392017364502, 0.8848349452018738, 0.9552512764930725, 0.35283327102661133, 0.2078082114458084, 0.9157410860061646, 0.011782117187976837, 0.7911016941070557, 0.8626415729522705, 0.9304571151733398, 0.4728482663631439, 0.9003952741622925, 0.5408892631530762, 0.8333308100700378, 0.1101897805929184, 0.7279558777809143, 0.9101514220237732, 0.3142550587654114, 0.8904514312744141, 0.8972278237342834, 0.7621927857398987, 0.92989581823349, 0.2521263360977173, 0.6674062013626099, 0.23077692091464996, 0.8414927124977112, 0.1772793084383011, 0.024473698809742928, 0.7950137853622437, 0.7838212847709656, 0.8884586691856384, 0.03041677549481392, 0.5484132766723633, 0.9166821837425232, 0.28912457823753357, 0.9682079553604126, 0.12411089986562729, 0.7759625315666199, 0.26019027829170227, 0.3093804121017456, 0.7729254364967346, 0.8876091837882996, 0.8706389665603638, 0.06862302124500275, 0.14988493919372559, 0.2694516181945801, 0.030178239569067955, 0.8957220315933228, 0.9509943723678589, 0.7962349057197571, 0.04288609325885773, 0.021959464997053146, 0.29806438088417053, 0.6180376410484314, 0.00198915577493608, 0.46399128437042236, 0.9138392806053162, 0.28543269634246826, 0.18998098373413086, 0.11963623762130737, 0.7246697545051575, 0.7474631667137146, 0.8241346478462219, 0.6834218502044678, 0.6324912905693054, 0.9691304564476013, 0.18883517384529114, 0.852418065071106, 0.9159463047981262, 0.5207290649414062, 0.8107407689094543, 0.7423232197761536, 0.9240363240242004, 0.8786681294441223, 0.6865773797035217, 0.8399704694747925, 0.49744713306427, 0.07178321480751038, 0.001243799109943211, 0.001070815371349454, 0.9471287727355957, 0.6183837652206421, 0.363535076379776, 0.5326728820800781, 0.5114937424659729, 0.4542493522167206, 0.12036551535129547, 0.05159049481153488, 0.649520218372345, 0.16319458186626434, 0.9215928316116333, 0.05971831455826759, 0.0012204644735902548, 0.9644317626953125, 0.6980496048927307, 0.8033090233802795, 0.5587980151176453, 0.8534420132637024, 0.7802318930625916, 0.7912848591804504, 0.0015166079392656684, 0.07600325345993042, 0.7999851107597351, 0.42372262477874756, 0.2957884669303894, 0.6053500771522522, 0.46594834327697754, 0.6247820854187012, 0.03846065700054169, 0.816460371017456, 0.25172364711761475, 0.7951457500457764, 0.0013991111190989614, 0.6619337201118469, 0.5810807347297668, 0.7285041213035583, 0.6617905497550964, 0.7285690307617188, 0.9290086627006531, 0.07745020091533661, 0.8353826999664307, 0.6213974952697754, 0.658226490020752, 0.4902365505695343, 0.8440535664558411, 0.8855851292610168, 0.9443239569664001, 0.3298555314540863, 0.728916585445404, 0.7972574234008789, 0.7865694165229797, 0.8767057061195374, 0.5478560328483582, 0.9376264214515686, 0.9462117552757263, 0.8661206364631653, 0.4252063035964966, 0.04154909774661064, 0.8800973296165466, 0.5064040422439575, 0.5244387984275818, 0.5161913633346558, 0.9657707810401917, 0.8028180599212646, 0.6616899967193604, 0.38597503304481506, 0.002604024950414896, 0.898787260055542, 0.737992525100708, 0.9060388803482056, 0.023705149069428444, 0.029476748779416084, 0.799052357673645, 0.07030612230300903, 0.5894074440002441, 0.16812680661678314, 0.8863487839698792, 0.8854776620864868, 0.43886998295783997, 0.9502329230308533, 0.055743273347616196, 0.7463842630386353, 0.08157297223806381, 0.5685123801231384, 0.5367835760116577, 0.9398209452629089, 0.08702727407217026, 0.002656431868672371, 0.018877951428294182, 0.9087494611740112, 0.8955011367797852, 0.8965403437614441, 0.8379732370376587, 0.0471760518848896, 0.04957956075668335, 0.9128173589706421, 0.8268294930458069, 0.7649405002593994, 0.025366632267832756, 0.031450305134058, 0.753865122795105, 0.0021543260663747787, 0.432593435049057, 0.8042492270469666, 0.520340621471405, 0.26586493849754333, 0.6910797953605652, 0.020106632262468338, 0.8527025580406189, 0.8859549760818481, 0.8706892728805542, 0.6260049939155579, 0.700021505355835, 0.9764276146888733, 0.8380099534988403, 0.3778029680252075, 0.880290687084198, 0.8391621708869934, 0.038205862045288086, 0.10431864857673645, 0.9135704040527344, 0.9376562833786011, 0.9012309312820435, 0.8004813194274902, 0.43753424286842346, 0.002363212639465928, 0.6261590123176575, 0.9113492369651794, 0.7526383996009827, 0.7256081104278564, 0.9407519698143005, 0.30772584676742554, 0.0033228998072445393, 0.05537808686494827, 0.9215928316116333, 0.06492935866117477, 0.07305776327848434, 0.2526078224182129, 0.08457999676465988, 0.6576173901557922, 0.8197985291481018, 0.8334081172943115, 0.8878234624862671, 0.945467472076416, 0.09950754791498184, 0.7071118950843811, 0.9261142611503601, 0.7174726128578186, 0.7084082961082458, 0.02315838262438774, 0.5206369161605835, 0.20463122427463531, 0.16080902516841888, 0.8174565434455872, 0.02327689342200756, 0.364122211933136, 0.03115912899374962, 0.04223775863647461, 0.0032375447917729616, 0.17639441788196564, 0.8640064001083374, 0.8925577998161316, 0.5460189580917358, 0.8732725381851196, 0.1390465646982193, 0.0433071069419384, 0.8546212315559387, 0.30109772086143494, 0.7067316770553589, 0.06809716671705246, 0.8702681660652161, 0.8840886354446411, 0.11182024329900742, 0.9433038830757141, 0.04574970528483391, 0.585463285446167, 0.295115202665329, 0.6507542133331299, 0.7559659481048584, 0.5072586536407471, 0.7518869042396545, 0.843204140663147, 0.9415621757507324, 0.7044605016708374, 0.07946883141994476, 0.9035068154335022, 0.8465182185173035, 0.723382830619812, 0.027437523007392883, 0.6861262917518616, 0.8358765244483948, 0.23589228093624115, 0.7934631109237671, 0.6391665935516357, 0.16030673682689667, 0.9512364268302917, 0.0021014632657170296, 0.5484132766723633, 0.21735888719558716, 0.9327412843704224, 0.7203956842422485, 0.8172818422317505, 0.8225000500679016, 0.7962349057197571, 0.7785969376564026, 0.8575935363769531, 0.8272849321365356, 0.3223613500595093, 0.5408892631530762, 0.7278875708580017, 0.7236902713775635, 0.024010373279452324, 0.32418394088745117, 0.13450326025485992, 0.9002702832221985, 0.7662715911865234, 0.2253085821866989, 0.8572782874107361, 0.9133384227752686, 0.31954091787338257, 0.8446683883666992, 0.8626415729522705, 0.9664927124977112, 0.6055116057395935, 0.12508973479270935, 0.7247463464736938, 0.4264396131038666, 0.2456716001033783, 0.6452555656433105, 0.80214524269104, 0.02209070697426796, 0.19242800772190094, 0.2392803132534027, 0.8243764042854309, 0.8367186188697815, 0.8645403385162354]\n"
     ]
    }
   ],
   "source": [
    "# Get test data in batch size of 5 and make predictions.\n",
    "prediction_batches = [LL_predictor.predict(batch) for batch in np.array_split(X_test.astype(\"float32\"), 5)]\n",
    "\n",
    "# Get a list of predictions\n",
    "print([pred.label['score'].float32_tensor.values[0] for pred in prediction_batches[0]])\n"
   ]
  },
  {
   "cell_type": "markdown",
   "metadata": {},
   "source": [
    "## 10. <a name=\"10\">Clean up model artifacts</a>\n",
    "(<a href=\"#0\">Go to top</a>)\n",
    "\n",
    "If you're ready to be done with this notebook, please run the cell below. This will remove the hosted endpoint you created and avoid any charges from a stray instance being left on."
   ]
  },
  {
   "cell_type": "code",
   "execution_count": 31,
   "metadata": {},
   "outputs": [],
   "source": [
    "LL_predictor.delete_endpoint()"
   ]
  }
 ],
 "metadata": {
  "kernelspec": {
   "display_name": "conda_mxnet_p36",
   "language": "python",
   "name": "conda_mxnet_p36"
  },
  "language_info": {
   "codemirror_mode": {
    "name": "ipython",
    "version": 3
   },
   "file_extension": ".py",
   "mimetype": "text/x-python",
   "name": "python",
   "nbconvert_exporter": "python",
   "pygments_lexer": "ipython3",
   "version": "3.6.13"
  }
 },
 "nbformat": 4,
 "nbformat_minor": 2
}
